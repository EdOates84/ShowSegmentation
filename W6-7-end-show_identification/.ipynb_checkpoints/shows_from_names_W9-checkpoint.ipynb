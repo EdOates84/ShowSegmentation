{
 "cells": [
  {
   "cell_type": "markdown",
   "metadata": {},
   "source": [
    "## Finding shows using information like anchors, year, channel"
   ]
  },
  {
   "cell_type": "code",
   "execution_count": 1,
   "metadata": {
    "ExecuteTime": {
     "end_time": "2019-08-16T15:42:10.575351Z",
     "start_time": "2019-08-16T15:42:03.247593Z"
    }
   },
   "outputs": [],
   "source": [
    "import numpy as np\n",
    "import pandas as pd\n",
    "from IPython.display import display, HTML\n",
    "import os\n",
    "from tqdm import tqdm_notebook as tqdm"
   ]
  },
  {
   "cell_type": "markdown",
   "metadata": {},
   "source": [
    "## <a href = \"https://www.imdb.com/interfaces/\">IMDb names dataset</a>"
   ]
  },
  {
   "cell_type": "code",
   "execution_count": 2,
   "metadata": {
    "ExecuteTime": {
     "end_time": "2019-08-16T12:08:40.385623Z",
     "start_time": "2019-08-16T12:08:40.379123Z"
    }
   },
   "outputs": [],
   "source": [
    "#https://www.imdb.com/interfaces/"
   ]
  },
  {
   "cell_type": "code",
   "execution_count": null,
   "metadata": {},
   "outputs": [],
   "source": [
    "#TODO\n",
    "#name might be different in IMDB dataset -> ways to convert\n",
    "#"
   ]
  },
  {
   "cell_type": "code",
   "execution_count": null,
   "metadata": {},
   "outputs": [],
   "source": [
    "#NAME -> SHOW\n",
    "\"\"\"\n",
    "1. Get nConst of actor from name.basics\n",
    "2. get all rows from title_principles that have same nConst\n",
    "3. \n",
    "\n",
    "\n",
    "\n",
    "\n",
    "\n",
    "\"\"\""
   ]
  },
  {
   "cell_type": "code",
   "execution_count": 13,
   "metadata": {
    "ExecuteTime": {
     "end_time": "2019-08-16T14:42:07.305404Z",
     "start_time": "2019-08-16T14:42:07.064811Z"
    }
   },
   "outputs": [
    {
     "name": "stdout",
     "output_type": "stream",
     "text": [
      "names.tsv  title_basics.tsv  title_crew.tsv  title_principals.tsv\r\n"
     ]
    }
   ],
   "source": [
    "!ls IMDb"
   ]
  },
  {
   "cell_type": "markdown",
   "metadata": {},
   "source": [
    "### 1. Get nConst of actor from name.basics"
   ]
  },
  {
   "cell_type": "code",
   "execution_count": 2,
   "metadata": {
    "ExecuteTime": {
     "end_time": "2019-08-16T15:42:36.482151Z",
     "start_time": "2019-08-16T15:42:10.581943Z"
    },
    "scrolled": true
   },
   "outputs": [
    {
     "name": "stderr",
     "output_type": "stream",
     "text": [
      "/home/eon/anaconda3/lib/python3.7/site-packages/ipykernel_launcher.py:1: FutureWarning: read_table is deprecated, use read_csv instead, passing sep='\\t'.\n",
      "  \"\"\"Entry point for launching an IPython kernel.\n"
     ]
    }
   ],
   "source": [
    "names = pd.read_table('IMDb/names.tsv')"
   ]
  },
  {
   "cell_type": "code",
   "execution_count": 3,
   "metadata": {
    "ExecuteTime": {
     "end_time": "2019-08-16T15:42:37.215387Z",
     "start_time": "2019-08-16T15:42:36.484301Z"
    }
   },
   "outputs": [
    {
     "name": "stdout",
     "output_type": "stream",
     "text": [
      "nm2160999\n"
     ]
    }
   ],
   "source": [
    "nConst = (names[names['primaryName'] == 'Daryn Kagan']['nconst']).item()\n",
    "print(nConst)"
   ]
  },
  {
   "cell_type": "markdown",
   "metadata": {},
   "source": [
    "### 2. Get all shows (tConst) from title.principals that have this nConst"
   ]
  },
  {
   "cell_type": "code",
   "execution_count": 13,
   "metadata": {
    "ExecuteTime": {
     "end_time": "2019-08-16T15:55:00.380210Z",
     "start_time": "2019-08-16T15:55:00.235924Z"
    }
   },
   "outputs": [
    {
     "name": "stderr",
     "output_type": "stream",
     "text": [
      "/home/eon/anaconda3/lib/python3.7/site-packages/ipykernel_launcher.py:2: FutureWarning: read_table is deprecated, use read_csv instead, passing sep='\\t'.\n",
      "  \n"
     ]
    }
   ],
   "source": [
    "chunksize = 5*10**6\n",
    "principals = pd.read_table('IMDb/title_principals.tsv',chunksize = chunksize)"
   ]
  },
  {
   "cell_type": "code",
   "execution_count": 14,
   "metadata": {
    "ExecuteTime": {
     "end_time": "2019-08-16T15:56:00.906532Z",
     "start_time": "2019-08-16T15:55:00.992435Z"
    }
   },
   "outputs": [
    {
     "name": "stdout",
     "output_type": "stream",
     "text": [
      "Found 1 shows in chunk 0\n",
      "Found 4 shows in chunk 1\n",
      "Found 2 shows in chunk 2\n",
      "Found 3 shows in chunk 3\n",
      "Found 2 shows in chunk 4\n",
      "Found 0 shows in chunk 5\n",
      "Found 1 shows in chunk 6\n"
     ]
    }
   ],
   "source": [
    "#Getting all shows(tConst) of this actor(nConst)\n",
    "all_req_shows = pd.DataFrame(columns=['tconst', 'ordering', 'nconst', 'category', 'job', 'characters'])\n",
    "#Initializing with the same columns as title.principals\n",
    "for i,chunk in enumerate((principals)):\n",
    "    req_shows = chunk[chunk['nconst'] == nConst]\n",
    "    print('Found {} shows in chunk {}'.format(len(req_shows), i))\n",
    "    all_req_shows = all_req_shows.append(req_shows, ignore_index = True)"
   ]
  },
  {
   "cell_type": "code",
   "execution_count": 15,
   "metadata": {
    "ExecuteTime": {
     "end_time": "2019-08-16T15:56:11.017143Z",
     "start_time": "2019-08-16T15:56:10.984540Z"
    },
    "scrolled": true
   },
   "outputs": [
    {
     "data": {
      "text/html": [
       "<div>\n",
       "<style scoped>\n",
       "    .dataframe tbody tr th:only-of-type {\n",
       "        vertical-align: middle;\n",
       "    }\n",
       "\n",
       "    .dataframe tbody tr th {\n",
       "        vertical-align: top;\n",
       "    }\n",
       "\n",
       "    .dataframe thead th {\n",
       "        text-align: right;\n",
       "    }\n",
       "</style>\n",
       "<table border=\"1\" class=\"dataframe\">\n",
       "  <thead>\n",
       "    <tr style=\"text-align: right;\">\n",
       "      <th></th>\n",
       "      <th>tconst</th>\n",
       "      <th>ordering</th>\n",
       "      <th>nconst</th>\n",
       "      <th>category</th>\n",
       "      <th>job</th>\n",
       "      <th>characters</th>\n",
       "    </tr>\n",
       "  </thead>\n",
       "  <tbody>\n",
       "    <tr>\n",
       "      <th>0</th>\n",
       "      <td>tt0498421</td>\n",
       "      <td>1</td>\n",
       "      <td>nm2160999</td>\n",
       "      <td>self</td>\n",
       "      <td>\\N</td>\n",
       "      <td>[\"Herself\",\"Herself - Anchor\",\"Herself - CNN A...</td>\n",
       "    </tr>\n",
       "    <tr>\n",
       "      <th>1</th>\n",
       "      <td>tt0769000</td>\n",
       "      <td>2</td>\n",
       "      <td>nm2160999</td>\n",
       "      <td>self</td>\n",
       "      <td>\\N</td>\n",
       "      <td>[\"Herself\"]</td>\n",
       "    </tr>\n",
       "    <tr>\n",
       "      <th>2</th>\n",
       "      <td>tt0783869</td>\n",
       "      <td>6</td>\n",
       "      <td>nm2160999</td>\n",
       "      <td>self</td>\n",
       "      <td>\\N</td>\n",
       "      <td>[\"Herself\"]</td>\n",
       "    </tr>\n",
       "    <tr>\n",
       "      <th>3</th>\n",
       "      <td>tt0818192</td>\n",
       "      <td>9</td>\n",
       "      <td>nm2160999</td>\n",
       "      <td>self</td>\n",
       "      <td>\\N</td>\n",
       "      <td>[\"Herself\"]</td>\n",
       "    </tr>\n",
       "    <tr>\n",
       "      <th>4</th>\n",
       "      <td>tt0828659</td>\n",
       "      <td>4</td>\n",
       "      <td>nm2160999</td>\n",
       "      <td>self</td>\n",
       "      <td>\\N</td>\n",
       "      <td>[\"Herself\"]</td>\n",
       "    </tr>\n",
       "    <tr>\n",
       "      <th>5</th>\n",
       "      <td>tt1456061</td>\n",
       "      <td>1</td>\n",
       "      <td>nm2160999</td>\n",
       "      <td>self</td>\n",
       "      <td>\\N</td>\n",
       "      <td>[\"Herself\"]</td>\n",
       "    </tr>\n",
       "    <tr>\n",
       "      <th>6</th>\n",
       "      <td>tt1471268</td>\n",
       "      <td>1</td>\n",
       "      <td>nm2160999</td>\n",
       "      <td>actress</td>\n",
       "      <td>\\N</td>\n",
       "      <td>\\N</td>\n",
       "    </tr>\n",
       "    <tr>\n",
       "      <th>7</th>\n",
       "      <td>tt2239255</td>\n",
       "      <td>6</td>\n",
       "      <td>nm2160999</td>\n",
       "      <td>self</td>\n",
       "      <td>\\N</td>\n",
       "      <td>[\"Herself - Anchor\"]</td>\n",
       "    </tr>\n",
       "    <tr>\n",
       "      <th>8</th>\n",
       "      <td>tt2239257</td>\n",
       "      <td>3</td>\n",
       "      <td>nm2160999</td>\n",
       "      <td>self</td>\n",
       "      <td>\\N</td>\n",
       "      <td>[\"Herself - CNN Anchor\"]</td>\n",
       "    </tr>\n",
       "    <tr>\n",
       "      <th>9</th>\n",
       "      <td>tt3004840</td>\n",
       "      <td>6</td>\n",
       "      <td>nm2160999</td>\n",
       "      <td>self</td>\n",
       "      <td>\\N</td>\n",
       "      <td>[\"Herself - Host\"]</td>\n",
       "    </tr>\n",
       "    <tr>\n",
       "      <th>10</th>\n",
       "      <td>tt5229748</td>\n",
       "      <td>1</td>\n",
       "      <td>nm2160999</td>\n",
       "      <td>self</td>\n",
       "      <td>\\N</td>\n",
       "      <td>[\"Herself - Anchor\"]</td>\n",
       "    </tr>\n",
       "    <tr>\n",
       "      <th>11</th>\n",
       "      <td>tt5670284</td>\n",
       "      <td>3</td>\n",
       "      <td>nm2160999</td>\n",
       "      <td>self</td>\n",
       "      <td>\\N</td>\n",
       "      <td>[\"Herself\"]</td>\n",
       "    </tr>\n",
       "    <tr>\n",
       "      <th>12</th>\n",
       "      <td>tt9740250</td>\n",
       "      <td>2</td>\n",
       "      <td>nm2160999</td>\n",
       "      <td>self</td>\n",
       "      <td>\\N</td>\n",
       "      <td>[\"Herself - Anchor\"]</td>\n",
       "    </tr>\n",
       "  </tbody>\n",
       "</table>\n",
       "</div>"
      ],
      "text/plain": [
       "       tconst ordering     nconst category job  \\\n",
       "0   tt0498421        1  nm2160999     self  \\N   \n",
       "1   tt0769000        2  nm2160999     self  \\N   \n",
       "2   tt0783869        6  nm2160999     self  \\N   \n",
       "3   tt0818192        9  nm2160999     self  \\N   \n",
       "4   tt0828659        4  nm2160999     self  \\N   \n",
       "5   tt1456061        1  nm2160999     self  \\N   \n",
       "6   tt1471268        1  nm2160999  actress  \\N   \n",
       "7   tt2239255        6  nm2160999     self  \\N   \n",
       "8   tt2239257        3  nm2160999     self  \\N   \n",
       "9   tt3004840        6  nm2160999     self  \\N   \n",
       "10  tt5229748        1  nm2160999     self  \\N   \n",
       "11  tt5670284        3  nm2160999     self  \\N   \n",
       "12  tt9740250        2  nm2160999     self  \\N   \n",
       "\n",
       "                                           characters  \n",
       "0   [\"Herself\",\"Herself - Anchor\",\"Herself - CNN A...  \n",
       "1                                         [\"Herself\"]  \n",
       "2                                         [\"Herself\"]  \n",
       "3                                         [\"Herself\"]  \n",
       "4                                         [\"Herself\"]  \n",
       "5                                         [\"Herself\"]  \n",
       "6                                                  \\N  \n",
       "7                                [\"Herself - Anchor\"]  \n",
       "8                            [\"Herself - CNN Anchor\"]  \n",
       "9                                  [\"Herself - Host\"]  \n",
       "10                               [\"Herself - Anchor\"]  \n",
       "11                                        [\"Herself\"]  \n",
       "12                               [\"Herself - Anchor\"]  "
      ]
     },
     "execution_count": 15,
     "metadata": {},
     "output_type": "execute_result"
    }
   ],
   "source": [
    "all_req_shows"
   ]
  },
  {
   "cell_type": "markdown",
   "metadata": {
    "ExecuteTime": {
     "end_time": "2019-08-16T15:57:44.418017Z",
     "start_time": "2019-08-16T15:57:43.781814Z"
    }
   },
   "source": [
    "### 3. Getting names of the shows from their tConst"
   ]
  },
  {
   "cell_type": "code",
   "execution_count": 21,
   "metadata": {
    "ExecuteTime": {
     "end_time": "2019-08-16T16:08:19.280111Z",
     "start_time": "2019-08-16T16:08:19.080935Z"
    }
   },
   "outputs": [
    {
     "name": "stderr",
     "output_type": "stream",
     "text": [
      "/home/eon/anaconda3/lib/python3.7/site-packages/ipykernel_launcher.py:2: FutureWarning: read_table is deprecated, use read_csv instead, passing sep='\\t'.\n",
      "  \n"
     ]
    }
   ],
   "source": [
    "chunksize = 5*10**6\n",
    "title_basics = pd.read_table('IMDb/title_basics.tsv',chunksize = chunksize)"
   ]
  },
  {
   "cell_type": "code",
   "execution_count": 22,
   "metadata": {
    "ExecuteTime": {
     "end_time": "2019-08-16T16:12:52.634130Z",
     "start_time": "2019-08-16T16:08:20.010013Z"
    }
   },
   "outputs": [
    {
     "name": "stdout",
     "output_type": "stream",
     "text": [
      "Found 12 shows in chunk 0\n",
      "Found 1 shows in chunk 1\n"
     ]
    }
   ],
   "source": [
    "req_show_tConsts = set(all_req_shows['tconst'])\n",
    "all_show_names = pd.DataFrame(columns=['tconst', 'titleType', 'primaryTitle', 'originalTitle', 'isAdult', 'startYear', 'endYear', 'runtimeMinutes', 'genres'])\n",
    "for i,chunk in enumerate(title_basics):\n",
    "    show_names = chunk[chunk['tconst'].isin(req_show_tConsts)]\n",
    "    print('Found {} shows in chunk {}'.format(len(show_names), i))\n",
    "    all_show_names = all_show_names.append(show_names, ignore_index = True)"
   ]
  },
  {
   "cell_type": "code",
   "execution_count": 23,
   "metadata": {
    "ExecuteTime": {
     "end_time": "2019-08-16T16:16:20.703482Z",
     "start_time": "2019-08-16T16:16:19.047477Z"
    }
   },
   "outputs": [
    {
     "data": {
      "text/html": [
       "<div>\n",
       "<style scoped>\n",
       "    .dataframe tbody tr th:only-of-type {\n",
       "        vertical-align: middle;\n",
       "    }\n",
       "\n",
       "    .dataframe tbody tr th {\n",
       "        vertical-align: top;\n",
       "    }\n",
       "\n",
       "    .dataframe thead th {\n",
       "        text-align: right;\n",
       "    }\n",
       "</style>\n",
       "<table border=\"1\" class=\"dataframe\">\n",
       "  <thead>\n",
       "    <tr style=\"text-align: right;\">\n",
       "      <th></th>\n",
       "      <th>tconst</th>\n",
       "      <th>titleType</th>\n",
       "      <th>primaryTitle</th>\n",
       "      <th>originalTitle</th>\n",
       "      <th>isAdult</th>\n",
       "      <th>startYear</th>\n",
       "      <th>endYear</th>\n",
       "      <th>runtimeMinutes</th>\n",
       "      <th>genres</th>\n",
       "    </tr>\n",
       "  </thead>\n",
       "  <tbody>\n",
       "    <tr>\n",
       "      <th>0</th>\n",
       "      <td>tt0498421</td>\n",
       "      <td>tvSeries</td>\n",
       "      <td>CNN Live Today</td>\n",
       "      <td>CNN Live Today</td>\n",
       "      <td>0</td>\n",
       "      <td>2001</td>\n",
       "      <td>\\N</td>\n",
       "      <td>120</td>\n",
       "      <td>News,Talk-Show</td>\n",
       "    </tr>\n",
       "    <tr>\n",
       "      <th>1</th>\n",
       "      <td>tt0769000</td>\n",
       "      <td>tvEpisode</td>\n",
       "      <td>Episode dated 20 January 2006</td>\n",
       "      <td>Episode dated 20 January 2006</td>\n",
       "      <td>0</td>\n",
       "      <td>2006</td>\n",
       "      <td>\\N</td>\n",
       "      <td>\\N</td>\n",
       "      <td>News,Talk-Show</td>\n",
       "    </tr>\n",
       "    <tr>\n",
       "      <th>2</th>\n",
       "      <td>tt0783869</td>\n",
       "      <td>tvEpisode</td>\n",
       "      <td>Episode dated 28 March 2006</td>\n",
       "      <td>Episode dated 28 March 2006</td>\n",
       "      <td>0</td>\n",
       "      <td>2006</td>\n",
       "      <td>\\N</td>\n",
       "      <td>\\N</td>\n",
       "      <td>News</td>\n",
       "    </tr>\n",
       "    <tr>\n",
       "      <th>3</th>\n",
       "      <td>tt0818192</td>\n",
       "      <td>tvEpisode</td>\n",
       "      <td>Episode dated 24 May 2006</td>\n",
       "      <td>Episode dated 24 May 2006</td>\n",
       "      <td>0</td>\n",
       "      <td>2006</td>\n",
       "      <td>\\N</td>\n",
       "      <td>\\N</td>\n",
       "      <td>News</td>\n",
       "    </tr>\n",
       "    <tr>\n",
       "      <th>4</th>\n",
       "      <td>tt0828659</td>\n",
       "      <td>tvEpisode</td>\n",
       "      <td>Episode dated 12 July 2006</td>\n",
       "      <td>Episode dated 12 July 2006</td>\n",
       "      <td>0</td>\n",
       "      <td>2006</td>\n",
       "      <td>\\N</td>\n",
       "      <td>\\N</td>\n",
       "      <td>News,Talk-Show</td>\n",
       "    </tr>\n",
       "    <tr>\n",
       "      <th>5</th>\n",
       "      <td>tt1456061</td>\n",
       "      <td>tvMovie</td>\n",
       "      <td>Breaking the Curse with Daryn Kagan</td>\n",
       "      <td>Breaking the Curse with Daryn Kagan</td>\n",
       "      <td>0</td>\n",
       "      <td>2007</td>\n",
       "      <td>\\N</td>\n",
       "      <td>90</td>\n",
       "      <td>Documentary</td>\n",
       "    </tr>\n",
       "    <tr>\n",
       "      <th>6</th>\n",
       "      <td>tt1471268</td>\n",
       "      <td>movie</td>\n",
       "      <td>Solar Town USA</td>\n",
       "      <td>Solar Town USA</td>\n",
       "      <td>0</td>\n",
       "      <td>2009</td>\n",
       "      <td>\\N</td>\n",
       "      <td>48</td>\n",
       "      <td>Documentary,History,News</td>\n",
       "    </tr>\n",
       "    <tr>\n",
       "      <th>7</th>\n",
       "      <td>tt2239255</td>\n",
       "      <td>tvEpisode</td>\n",
       "      <td>Episode dated 22 December 2005</td>\n",
       "      <td>Episode dated 22 December 2005</td>\n",
       "      <td>0</td>\n",
       "      <td>2005</td>\n",
       "      <td>\\N</td>\n",
       "      <td>\\N</td>\n",
       "      <td>News,Talk-Show</td>\n",
       "    </tr>\n",
       "    <tr>\n",
       "      <th>8</th>\n",
       "      <td>tt2239257</td>\n",
       "      <td>tvEpisode</td>\n",
       "      <td>Episode dated 5 January 2006</td>\n",
       "      <td>Episode dated 5 January 2006</td>\n",
       "      <td>0</td>\n",
       "      <td>2006</td>\n",
       "      <td>\\N</td>\n",
       "      <td>\\N</td>\n",
       "      <td>News,Talk-Show</td>\n",
       "    </tr>\n",
       "    <tr>\n",
       "      <th>9</th>\n",
       "      <td>tt3004840</td>\n",
       "      <td>tvSeries</td>\n",
       "      <td>Bookmark</td>\n",
       "      <td>Bookmark</td>\n",
       "      <td>0</td>\n",
       "      <td>2013</td>\n",
       "      <td>\\N</td>\n",
       "      <td>60</td>\n",
       "      <td>News</td>\n",
       "    </tr>\n",
       "    <tr>\n",
       "      <th>10</th>\n",
       "      <td>tt5229748</td>\n",
       "      <td>tvEpisode</td>\n",
       "      <td>Norway: Ski Resort Shooting</td>\n",
       "      <td>Norway: Ski Resort Shooting</td>\n",
       "      <td>0</td>\n",
       "      <td>2002</td>\n",
       "      <td>\\N</td>\n",
       "      <td>\\N</td>\n",
       "      <td>News</td>\n",
       "    </tr>\n",
       "    <tr>\n",
       "      <th>11</th>\n",
       "      <td>tt5670284</td>\n",
       "      <td>tvEpisode</td>\n",
       "      <td>Eat Sweets, Lose Weight!/I'm Obsessed, Mother'...</td>\n",
       "      <td>Eat Sweets, Lose Weight!/I'm Obsessed, Mother'...</td>\n",
       "      <td>0</td>\n",
       "      <td>2016</td>\n",
       "      <td>\\N</td>\n",
       "      <td>\\N</td>\n",
       "      <td>Talk-Show</td>\n",
       "    </tr>\n",
       "    <tr>\n",
       "      <th>12</th>\n",
       "      <td>tt9740250</td>\n",
       "      <td>tvSeries</td>\n",
       "      <td>CNN Live This Morning</td>\n",
       "      <td>CNN Live This Morning</td>\n",
       "      <td>0</td>\n",
       "      <td>2001</td>\n",
       "      <td>2001</td>\n",
       "      <td>180</td>\n",
       "      <td>News</td>\n",
       "    </tr>\n",
       "  </tbody>\n",
       "</table>\n",
       "</div>"
      ],
      "text/plain": [
       "       tconst  titleType                                       primaryTitle  \\\n",
       "0   tt0498421   tvSeries                                     CNN Live Today   \n",
       "1   tt0769000  tvEpisode                      Episode dated 20 January 2006   \n",
       "2   tt0783869  tvEpisode                        Episode dated 28 March 2006   \n",
       "3   tt0818192  tvEpisode                          Episode dated 24 May 2006   \n",
       "4   tt0828659  tvEpisode                         Episode dated 12 July 2006   \n",
       "5   tt1456061    tvMovie                Breaking the Curse with Daryn Kagan   \n",
       "6   tt1471268      movie                                     Solar Town USA   \n",
       "7   tt2239255  tvEpisode                     Episode dated 22 December 2005   \n",
       "8   tt2239257  tvEpisode                       Episode dated 5 January 2006   \n",
       "9   tt3004840   tvSeries                                           Bookmark   \n",
       "10  tt5229748  tvEpisode                        Norway: Ski Resort Shooting   \n",
       "11  tt5670284  tvEpisode  Eat Sweets, Lose Weight!/I'm Obsessed, Mother'...   \n",
       "12  tt9740250   tvSeries                              CNN Live This Morning   \n",
       "\n",
       "                                        originalTitle isAdult startYear  \\\n",
       "0                                      CNN Live Today       0      2001   \n",
       "1                       Episode dated 20 January 2006       0      2006   \n",
       "2                         Episode dated 28 March 2006       0      2006   \n",
       "3                           Episode dated 24 May 2006       0      2006   \n",
       "4                          Episode dated 12 July 2006       0      2006   \n",
       "5                 Breaking the Curse with Daryn Kagan       0      2007   \n",
       "6                                      Solar Town USA       0      2009   \n",
       "7                      Episode dated 22 December 2005       0      2005   \n",
       "8                        Episode dated 5 January 2006       0      2006   \n",
       "9                                            Bookmark       0      2013   \n",
       "10                        Norway: Ski Resort Shooting       0      2002   \n",
       "11  Eat Sweets, Lose Weight!/I'm Obsessed, Mother'...       0      2016   \n",
       "12                              CNN Live This Morning       0      2001   \n",
       "\n",
       "   endYear runtimeMinutes                    genres  \n",
       "0       \\N            120            News,Talk-Show  \n",
       "1       \\N             \\N            News,Talk-Show  \n",
       "2       \\N             \\N                      News  \n",
       "3       \\N             \\N                      News  \n",
       "4       \\N             \\N            News,Talk-Show  \n",
       "5       \\N             90               Documentary  \n",
       "6       \\N             48  Documentary,History,News  \n",
       "7       \\N             \\N            News,Talk-Show  \n",
       "8       \\N             \\N            News,Talk-Show  \n",
       "9       \\N             60                      News  \n",
       "10      \\N             \\N                      News  \n",
       "11      \\N             \\N                 Talk-Show  \n",
       "12    2001            180                      News  "
      ]
     },
     "execution_count": 23,
     "metadata": {},
     "output_type": "execute_result"
    }
   ],
   "source": [
    "all_show_names"
   ]
  }
 ],
 "metadata": {
  "kernelspec": {
   "display_name": "Python 3",
   "language": "python",
   "name": "python3"
  },
  "language_info": {
   "codemirror_mode": {
    "name": "ipython",
    "version": 3
   },
   "file_extension": ".py",
   "mimetype": "text/x-python",
   "name": "python",
   "nbconvert_exporter": "python",
   "pygments_lexer": "ipython3",
   "version": "3.7.3"
  }
 },
 "nbformat": 4,
 "nbformat_minor": 2
}
