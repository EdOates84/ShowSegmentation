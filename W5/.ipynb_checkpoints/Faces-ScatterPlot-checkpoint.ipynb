{
 "cells": [
  {
   "cell_type": "markdown",
   "metadata": {},
   "source": [
    "# Face clustering Visualization"
   ]
  },
  {
   "cell_type": "code",
   "execution_count": 1,
   "metadata": {},
   "outputs": [],
   "source": [
    "import os\n",
    "import subprocess\n",
    "import datetime\n",
    "import time as tm\n",
    "from PIL import Image\n",
    "import cv2\n",
    "import pickle\n",
    "import random\n",
    "import face_recognition\n",
    "from tqdm import tqdm\n",
    "import numpy as np\n",
    "import pandas as pd\n",
    "import matplotlib.pyplot as plt\n",
    "import telegram"
   ]
  },
  {
   "cell_type": "code",
   "execution_count": 2,
   "metadata": {},
   "outputs": [],
   "source": [
    "keys = open('../telegram_keys','r')\n",
    "token,chat_id=keys.read().split(',')\n",
    "def ping_telegram(text):\n",
    "    import telegram\n",
    "    bot = telegram.Bot(token=token)\n",
    "    bot.send_message(chat_id=chat_id[:-1], text = text )"
   ]
  },
  {
   "cell_type": "markdown",
   "metadata": {},
   "source": [
    "## Face encodings using <a href=\"https://github.com/ageitgey/face_recognition\">face_recognition</a>"
   ]
  },
  {
   "cell_type": "code",
   "execution_count": 3,
   "metadata": {},
   "outputs": [],
   "source": [
    "def sec2HMS(seconds):\n",
    "    #seconds = int(seconds)\n",
    "    return tm.strftime('%H:%M:%S', tm.gmtime(seconds))"
   ]
  },
  {
   "cell_type": "code",
   "execution_count": 4,
   "metadata": {},
   "outputs": [],
   "source": [
    "def getFaceEncodings(vid_path, dirName, interval=60, model = 'hog', store=False):\n",
    "    \"\"\" Returns 129D encodings for each face present in the video\n",
    "        First 128 are the face encodings and the last value is the time.\n",
    "        \n",
    "       :param interval: (in seconds) frame interval to skip and look for faces\n",
    "       :param model: 'hog' is less accurate but faster compared to 'cnn'\n",
    "       :param store: if True, stores the faces in directory specified by dirName \"\"\"\n",
    "    vidcap = cv2.VideoCapture(vid_path)\n",
    "    fps = vidcap.get(cv2.CAP_PROP_FPS)\n",
    "    print(\"FPS of the video: {}\".format(fps))\n",
    "    allEncodings = [] #Dict mapping face jpg to its encodings\n",
    "    n_frame = 0 # no. of frame being processed\n",
    "    if not os.path.exists(dirName):\n",
    "        os.mkdir(dirName)\n",
    "    success, frame = vidcap.read()\n",
    "    while success:\n",
    "        rgb = cv2.cvtColor(frame,cv2.COLOR_BGR2RGB)\n",
    "        time = int(n_frame/fps)\n",
    "        #print(time)\n",
    "        bboxes = face_recognition.face_locations(rgb,model=model)\n",
    "        encodings = face_recognition.face_encodings(rgb,bboxes)\n",
    "        for i,bbox in enumerate(bboxes): #for each found face in the frame\n",
    "            top,right,bottom,left = bbox[0],bbox[1],bbox[2],bbox[3]\n",
    "            face_img = frame[top:bottom, left:right]\n",
    "            \n",
    "            if store:\n",
    "                filename = dirName+\"/t\"+sec2HMS(n_frame/fps)+\"f\"+str(i)+\".jpg\"\n",
    "                cv2.imwrite(filename, face_img)\n",
    "                \n",
    "            encod_with_time = np.append(encodings[i],time)\n",
    "            allEncodings.append(encod_with_time)\n",
    "            \n",
    "        n_frame += interval            \n",
    "        vidcap.set(cv2.CAP_PROP_POS_FRAMES,n_frame)\n",
    "        success, frame = vidcap.read()    \n",
    "    #Pickling data as a binary stream \n",
    "    file = open(dirName+'/faceEncodingsPickle','wb')\n",
    "    pickle.dump(allEncodings, file)\n",
    "    file.close()\n",
    "    return allEncodings"
   ]
  },
  {
   "cell_type": "code",
   "execution_count": null,
   "metadata": {
    "scrolled": true
   },
   "outputs": [],
   "source": [
    "try:\n",
    "    encodings = getFaceEncodings(\"../data/2006-2Hours.mp4\",dirName=\"2006-2Hours\",store=True)\n",
    "except:\n",
    "    ping_telegram(\"ERROR\")\n",
    "ping_telegram('Face encodings for 2 hours are ready')"
   ]
  },
  {
   "cell_type": "code",
   "execution_count": null,
   "metadata": {},
   "outputs": [],
   "source": [
    "try:\n",
    "    encodings = getFaceEncodings(\"../data/2006-01-02_0000_US_00001057_V11_M2_VHS10_H4_JA.mp4\",dirName=\"2006-8Hours\",store=False)\n",
    "except:\n",
    "    ping_telegram(\"ERROR\")\n",
    "ping_telegram('Face encodings for 8 hours are ready')"
   ]
  },
  {
   "cell_type": "code",
   "execution_count": 154,
   "metadata": {},
   "outputs": [],
   "source": [
    "#Loading pickle\n",
    "infile = open('SAA_clip_faces/faceEncodingsPickle','rb')\n",
    "encodings = pickle.load(infile)"
   ]
  },
  {
   "cell_type": "code",
   "execution_count": 155,
   "metadata": {},
   "outputs": [
    {
     "name": "stdout",
     "output_type": "stream",
     "text": [
      "(72, 129)\n",
      "First 128 are encodings, the last value stores the time\n"
     ]
    }
   ],
   "source": [
    "encodings = np.array(encodings)\n",
    "print(encodings.shape)\n",
    "print(\"First 128 are encodings, the last value stores the time\")"
   ]
  },
  {
   "cell_type": "markdown",
   "metadata": {},
   "source": [
    "## Unclustered faces visualization using time for color gradient"
   ]
  },
  {
   "cell_type": "code",
   "execution_count": 5,
   "metadata": {},
   "outputs": [],
   "source": [
    "from sklearn.preprocessing import StandardScaler\n",
    "from sklearn.decomposition import PCA\n",
    "import plotly\n",
    "file = open('plotly_key','r')\n",
    "plotly_key = (file.read()[:-1])\n",
    "plotly.tools.set_credentials_file(username='eonr', api_key=plotly_key)\n",
    "import plotly.plotly as py\n",
    "import plotly.graph_objs as go"
   ]
  },
  {
   "cell_type": "code",
   "execution_count": 157,
   "metadata": {},
   "outputs": [
    {
     "name": "stdout",
     "output_type": "stream",
     "text": [
      "(72, 2)\n"
     ]
    }
   ],
   "source": [
    "data = StandardScaler().fit_transform(encodings[:,:-1]) #Leaving out time for PCA\n",
    "pca = PCA(n_components=2)\n",
    "encodings2D = pca.fit_transform(data)\n",
    "print(encodings2D.shape)"
   ]
  },
  {
   "cell_type": "code",
   "execution_count": 158,
   "metadata": {},
   "outputs": [],
   "source": [
    "x = encodings2D[:,0]\n",
    "y = encodings2D[:,1]\n",
    "z = encodings[:,-1] #time\n",
    "trace = go.Scatter3d(\n",
    "    x=x,\n",
    "    y=y,\n",
    "    z=z,\n",
    "    mode='markers',\n",
    "    marker=dict(\n",
    "        size=12,\n",
    "        color=-z,                # set color to an array/list of desired values\n",
    "        colorscale='Viridis',   # choose a colorscale\n",
    "        opacity=0.8\n",
    "    )\n",
    ")"
   ]
  },
  {
   "cell_type": "code",
   "execution_count": 159,
   "metadata": {},
   "outputs": [],
   "source": [
    "layout = go.Layout( scene = dict(\n",
    "                    xaxis = dict(\n",
    "                        title='feature-1'),\n",
    "                    yaxis = dict(\n",
    "                        title='feature-2'),\n",
    "                    zaxis = dict(\n",
    "                        title='Time'),),\n",
    "    margin=dict(\n",
    "        l=0,\n",
    "        r=0,\n",
    "        b=0,\n",
    "        t=0\n",
    "    ),\n",
    "    \n",
    ")"
   ]
  },
  {
   "cell_type": "code",
   "execution_count": 165,
   "metadata": {},
   "outputs": [
    {
     "name": "stderr",
     "output_type": "stream",
     "text": [
      "/home/eon/anaconda3/lib/python3.7/site-packages/IPython/core/display.py:689: UserWarning:\n",
      "\n",
      "Consider using IPython.display.IFrame instead\n",
      "\n"
     ]
    },
    {
     "data": {
      "text/html": [
       "<iframe id=\"igraph\" scrolling=\"no\" style=\"border:none;\" seamless=\"seamless\" src=\"https://plot.ly/~eonr/6.embed\" height=\"525px\" width=\"100%\"></iframe>"
      ],
      "text/plain": [
       "<chart_studio.tools.PlotlyDisplay object>"
      ]
     },
     "execution_count": 165,
     "metadata": {},
     "output_type": "execute_result"
    }
   ],
   "source": [
    "fig = go.Figure(data=[trace], layout=layout)\n",
    "py.iplot(fig, filename='faces-SAAClip-4 minutes')"
   ]
  },
  {
   "cell_type": "code",
   "execution_count": 151,
   "metadata": {},
   "outputs": [
    {
     "name": "stderr",
     "output_type": "stream",
     "text": [
      "/home/eon/anaconda3/lib/python3.7/site-packages/IPython/core/display.py:689: UserWarning:\n",
      "\n",
      "Consider using IPython.display.IFrame instead\n",
      "\n"
     ]
    },
    {
     "data": {
      "text/html": [
       "<iframe id=\"igraph\" scrolling=\"no\" style=\"border:none;\" seamless=\"seamless\" src=\"https://plot.ly/~eonr/4.embed\" height=\"525px\" width=\"100%\"></iframe>"
      ],
      "text/plain": [
       "<chart_studio.tools.PlotlyDisplay object>"
      ]
     },
     "execution_count": 151,
     "metadata": {},
     "output_type": "execute_result"
    }
   ],
   "source": [
    "fig = go.Figure(data=[trace], layout=layout)\n",
    "py.iplot(fig, filename='faces-2006-2 hours')"
   ]
  },
  {
   "cell_type": "code",
   "execution_count": 144,
   "metadata": {},
   "outputs": [
    {
     "data": {
      "text/html": [
       "<iframe id=\"igraph\" scrolling=\"no\" style=\"border:none;\" seamless=\"seamless\" src=\"https://plot.ly/~eonr/2.embed\" height=\"525px\" width=\"100%\"></iframe>"
      ],
      "text/plain": [
       "<chart_studio.tools.PlotlyDisplay object>"
      ]
     },
     "execution_count": 144,
     "metadata": {},
     "output_type": "execute_result"
    }
   ],
   "source": [
    "fig = go.Figure(data=[trace], layout=layout)\n",
    "py.iplot(fig, filename='faces-2006-8 hours')"
   ]
  },
  {
   "cell_type": "markdown",
   "metadata": {},
   "source": [
    "## Clustered faces visualization"
   ]
  },
  {
   "cell_type": "code",
   "execution_count": 6,
   "metadata": {},
   "outputs": [],
   "source": [
    "def findFaces(image_path, model=\"cnn\"):\n",
    "    \"\"\"Returns b-boxes and encodings of all faces present in the image\n",
    "    \n",
    "    :param image: must be in RGB format\n",
    "    :param model: hog is less accurate but faster compared to cnn\n",
    "\n",
    "    boxes    : list of bboxes, each a tuple of size 4\n",
    "    encodings: list of 128-d encodings for each face\"\"\"\n",
    "    im = Image.open(image_path)\n",
    "    image = face_recognition.load_image_file(image_path)\n",
    "    width, height = im.size\n",
    "    boxes = [(0,width,height,0)]\n",
    "    encodings = face_recognition.face_encodings(image,boxes)\n",
    "    return boxes, encodings"
   ]
  },
  {
   "cell_type": "code",
   "execution_count": 7,
   "metadata": {},
   "outputs": [],
   "source": [
    "def HMS2sec(time_str):\n",
    "    h, m, s = time_str.split(':')\n",
    "    return int(h) * 3600 + int(m) * 60 + int(s)"
   ]
  },
  {
   "cell_type": "code",
   "execution_count": 8,
   "metadata": {},
   "outputs": [],
   "source": [
    "def file2encoding(vid_path, dirName, interval=60, model = 'hog', store=False):\n",
    "    \"\"\" Returns 129D encodings for each face present in the video\n",
    "        First 128 are the face encodings and the last value is the time.\n",
    "        \n",
    "       :param interval: (in seconds) frame interval to skip and look for faces\n",
    "       :param model: 'hog' is less accurate but faster compared to 'cnn'\n",
    "       :param store: if True, stores the faces in directory specified by dirName \"\"\"\n",
    "    vidcap = cv2.VideoCapture(vid_path)\n",
    "    fps = vidcap.get(cv2.CAP_PROP_FPS)\n",
    "    print(\"FPS of the video: {}\".format(fps))\n",
    "    allEncodings = {} #Dict mapping face jpg to its encodings\n",
    "    n_frame = 0 # no. of frame being processed\n",
    "    if not os.path.exists(dirName):\n",
    "        os.mkdir(dirName)\n",
    "    success, frame = vidcap.read()\n",
    "    while success:\n",
    "        rgb = cv2.cvtColor(frame,cv2.COLOR_BGR2RGB)\n",
    "        time = int(n_frame/fps)\n",
    "        #print(time)\n",
    "        bboxes = face_recognition.face_locations(rgb,model=model)\n",
    "        encodings = face_recognition.face_encodings(rgb,bboxes)\n",
    "        for i,bbox in enumerate(bboxes): #for each found face in the frame\n",
    "            top,right,bottom,left = bbox[0],bbox[1],bbox[2],bbox[3]\n",
    "            face_img = frame[top:bottom, left:right]\n",
    "            \n",
    "            if store:\n",
    "                filename = dirName+\"/t\"+sec2HMS(n_frame/fps)+\"f\"+str(i)+\".jpg\"\n",
    "                cv2.imwrite(filename, face_img)\n",
    "                \n",
    "            encod_with_time = np.append(encodings[i],time)\n",
    "            allEncodings[filename]=(encod_with_time)\n",
    "            \n",
    "        n_frame += interval            \n",
    "        vidcap.set(cv2.CAP_PROP_POS_FRAMES,n_frame)\n",
    "        success, frame = vidcap.read()    \n",
    "    #Pickling data as a binary stream \n",
    "    file = open(dirName+'/faceEncodingsPickle','wb')\n",
    "    pickle.dump(allEncodings, file)\n",
    "    file.close()\n",
    "    return allEncodings"
   ]
  },
  {
   "cell_type": "code",
   "execution_count": 9,
   "metadata": {},
   "outputs": [],
   "source": [
    "root = '2006-8hour-imagecluster' #directory to store the encodings, faces and face_clusters in"
   ]
  },
  {
   "cell_type": "code",
   "execution_count": 33,
   "metadata": {
    "scrolled": true
   },
   "outputs": [
    {
     "name": "stdout",
     "output_type": "stream",
     "text": [
      "FPS of the video: 29.97\n"
     ]
    }
   ],
   "source": [
    "encodings= file2encoding('../data/2006-01-02_0000_US_00001057_V11_M2_VHS10_H4_JA.mp4',dirName=root,store=True) #TODO - make this \"../data/2006-2Hours.mp4\""
   ]
  },
  {
   "cell_type": "code",
   "execution_count": 10,
   "metadata": {},
   "outputs": [],
   "source": [
    "#Loading pickle\n",
    "infile = open('faceEncodingsPickle','rb')\n",
    "encodings = pickle.load(infile)"
   ]
  },
  {
   "cell_type": "code",
   "execution_count": 11,
   "metadata": {},
   "outputs": [],
   "source": [
    "keys = encodings.keys()\n",
    "values = np.array(list(encodings.values()))\n",
    "\n",
    "data = StandardScaler().fit_transform(values[:,:-1]) #Leaving out time for PCA\n",
    "pca = PCA(n_components=2)\n",
    "features2D = pca.fit_transform(data)\n",
    "\n",
    "encodings3D = {}\n",
    "for i,key in enumerate(keys):\n",
    "    feature1 = features2D[i,0]\n",
    "    feature2 = features2D[i,1]\n",
    "    time = values[i,-1]\n",
    "    encodings3D[key] = np.array([feature1, feature2, time])"
   ]
  },
  {
   "cell_type": "markdown",
   "metadata": {},
   "source": [
    "#### Clustering using <a href=\"https://github.com/elcorto/imagecluster\">imagecluster</a>"
   ]
  },
  {
   "cell_type": "code",
   "execution_count": 12,
   "metadata": {},
   "outputs": [
    {
     "name": "stderr",
     "output_type": "stream",
     "text": [
      "Using TensorFlow backend.\n"
     ]
    }
   ],
   "source": [
    "from imagecluster import main"
   ]
  },
  {
   "cell_type": "code",
   "execution_count": 46,
   "metadata": {},
   "outputs": [
    {
     "name": "stdout",
     "output_type": "stream",
     "text": [
      "loading fingerprints database 2006-8hour-imagecluster/imagecluster/fingerprints.pk ...\n",
      "clustering ...\n",
      "#images : #clusters\n",
      "2 : 93\n",
      "3 : 37\n",
      "4 : 21\n",
      "5 : 17\n",
      "6 : 12\n",
      "7 : 9\n",
      "8 : 3\n",
      "9 : 5\n",
      "10 : 5\n",
      "12 : 1\n",
      "13 : 4\n",
      "14 : 4\n",
      "16 : 1\n",
      "18 : 1\n",
      "19 : 1\n",
      "20 : 1\n",
      "21 : 1\n",
      "29 : 1\n",
      "32 : 1\n",
      "40 : 1\n",
      "43 : 1\n",
      "44 : 1\n",
      "#images in clusters total:  1122\n",
      "cluster dir: 2006-8hour-imagecluster/imagecluster/clusters\n"
     ]
    }
   ],
   "source": [
    "try:\n",
    "    main.main('2006-8hour-imagecluster/',sim=0.7,vis=False)\n",
    "    ping_telegram('Clustering is done!')\n",
    "except:\n",
    "    ping_telegram('Error :(')"
   ]
  },
  {
   "cell_type": "code",
   "execution_count": 39,
   "metadata": {
    "scrolled": true
   },
   "outputs": [
    {
     "name": "stdout",
     "output_type": "stream",
     "text": [
      "\u001b[01;34m2006-8hour-imagecluster/imagecluster/clusters\u001b[00m\r\n",
      "├── \u001b[01;34mcluster_with_18\u001b[00m\r\n",
      "│   └── \u001b[01;34mcluster_0\u001b[00m\r\n",
      "│       ├── \u001b[01;36mt01:39:01f1.jpg\u001b[00m -> \u001b[01;35m/home/eon/Desktop/ShowSegmentation/W5/2006-8hour-imagecluster/t01:39:01f1.jpg\u001b[00m\r\n",
      "│       ├── \u001b[01;36mt01:39:03f1.jpg\u001b[00m -> \u001b[01;35m/home/eon/Desktop/ShowSegmentation/W5/2006-8hour-imagecluster/t01:39:03f1.jpg\u001b[00m\r\n",
      "│       ├── \u001b[01;36mt01:39:05f1.jpg\u001b[00m -> \u001b[01;35m/home/eon/Desktop/ShowSegmentation/W5/2006-8hour-imagecluster/t01:39:05f1.jpg\u001b[00m\r\n",
      "│       ├── \u001b[01;36mt01:39:07f1.jpg\u001b[00m -> \u001b[01;35m/home/eon/Desktop/ShowSegmentation/W5/2006-8hour-imagecluster/t01:39:07f1.jpg\u001b[00m\r\n",
      "│       ├── \u001b[01;36mt01:39:09f1.jpg\u001b[00m -> \u001b[01;35m/home/eon/Desktop/ShowSegmentation/W5/2006-8hour-imagecluster/t01:39:09f1.jpg\u001b[00m\r\n",
      "│       ├── \u001b[01;36mt01:39:11f1.jpg\u001b[00m -> \u001b[01;35m/home/eon/Desktop/ShowSegmentation/W5/2006-8hour-imagecluster/t01:39:11f1.jpg\u001b[00m\r\n",
      "│       ├── \u001b[01;36mt01:39:13f1.jpg\u001b[00m -> \u001b[01;35m/home/eon/Desktop/ShowSegmentation/W5/2006-8hour-imagecluster/t01:39:13f1.jpg\u001b[00m\r\n",
      "│       ├── \u001b[01;36mt01:39:15f1.jpg\u001b[00m -> \u001b[01;35m/home/eon/Desktop/ShowSegmentation/W5/2006-8hour-imagecluster/t01:39:15f1.jpg\u001b[00m\r\n",
      "│       ├── \u001b[01;36mt01:39:17f1.jpg\u001b[00m -> \u001b[01;35m/home/eon/Desktop/ShowSegmentation/W5/2006-8hour-imagecluster/t01:39:17f1.jpg\u001b[00m\r\n",
      "│       ├── \u001b[01;36mt02:04:45f1.jpg\u001b[00m -> \u001b[01;35m/home/eon/Desktop/ShowSegmentation/W5/2006-8hour-imagecluster/t02:04:45f1.jpg\u001b[00m\r\n",
      "│       ├── \u001b[01;36mt02:04:47f1.jpg\u001b[00m -> \u001b[01;35m/home/eon/Desktop/ShowSegmentation/W5/2006-8hour-imagecluster/t02:04:47f1.jpg\u001b[00m\r\n",
      "│       ├── \u001b[01;36mt02:04:49f1.jpg\u001b[00m -> \u001b[01;35m/home/eon/Desktop/ShowSegmentation/W5/2006-8hour-imagecluster/t02:04:49f1.jpg\u001b[00m\r\n",
      "│       ├── \u001b[01;36mt02:04:51f1.jpg\u001b[00m -> \u001b[01;35m/home/eon/Desktop/ShowSegmentation/W5/2006-8hour-imagecluster/t02:04:51f1.jpg\u001b[00m\r\n",
      "│       ├── \u001b[01;36mt02:04:53f1.jpg\u001b[00m -> \u001b[01;35m/home/eon/Desktop/ShowSegmentation/W5/2006-8hour-imagecluster/t02:04:53f1.jpg\u001b[00m\r\n",
      "│       ├── \u001b[01;36mt02:04:55f1.jpg\u001b[00m -> \u001b[01;35m/home/eon/Desktop/ShowSegmentation/W5/2006-8hour-imagecluster/t02:04:55f1.jpg\u001b[00m\r\n",
      "│       ├── \u001b[01;36mt02:04:57f1.jpg\u001b[00m -> \u001b[01;35m/home/eon/Desktop/ShowSegmentation/W5/2006-8hour-imagecluster/t02:04:57f1.jpg\u001b[00m\r\n",
      "│       ├── \u001b[01;36mt02:04:59f1.jpg\u001b[00m -> \u001b[01;35m/home/eon/Desktop/ShowSegmentation/W5/2006-8hour-imagecluster/t02:04:59f1.jpg\u001b[00m\r\n",
      "│       └── \u001b[01;36mt02:05:01f1.jpg\u001b[00m -> \u001b[01;35m/home/eon/Desktop/ShowSegmentation/W5/2006-8hour-imagecluster/t02:05:01f1.jpg\u001b[00m\r\n",
      "├── \u001b[01;34mcluster_with_2\u001b[00m\r\n",
      "│   ├── \u001b[01;34mcluster_0\u001b[00m\r\n",
      "│   │   ├── \u001b[01;36mt01:26:09f0.jpg\u001b[00m -> \u001b[01;35m/home/eon/Desktop/ShowSegmentation/W5/2006-8hour-imagecluster/t01:26:09f0.jpg\u001b[00m\r\n",
      "│   │   └── \u001b[01;36mt01:26:09f1.jpg\u001b[00m -> \u001b[01;35m/home/eon/Desktop/ShowSegmentation/W5/2006-8hour-imagecluster/t01:26:09f1.jpg\u001b[00m\r\n",
      "│   ├── \u001b[01;34mcluster_1\u001b[00m\r\n",
      "│   │   ├── \u001b[01;36mt02:06:35f1.jpg\u001b[00m -> \u001b[01;35m/home/eon/Desktop/ShowSegmentation/W5/2006-8hour-imagecluster/t02:06:35f1.jpg\u001b[00m\r\n",
      "│   │   └── \u001b[01;36mt02:08:19f1.jpg\u001b[00m -> \u001b[01;35m/home/eon/Desktop/ShowSegmentation/W5/2006-8hour-imagecluster/t02:08:19f1.jpg\u001b[00m\r\n",
      "│   ├── \u001b[01;34mcluster_10\u001b[00m\r\n",
      "│   │   ├── \u001b[01;36mt02:37:35f0.jpg\u001b[00m -> \u001b[01;35m/home/eon/Desktop/ShowSegmentation/W5/2006-8hour-imagecluster/t02:37:35f0.jpg\u001b[00m\r\n",
      "│   │   └── \u001b[01;36mt02:37:37f0.jpg\u001b[00m -> \u001b[01;35m/home/eon/Desktop/ShowSegmentation/W5/2006-8hour-imagecluster/t02:37:37f0.jpg\u001b[00m\r\n",
      "│   ├── \u001b[01;34mcluster_11\u001b[00m\r\n",
      "│   │   ├── \u001b[01;36mt02:03:03f0.jpg\u001b[00m -> \u001b[01;35m/home/eon/Desktop/ShowSegmentation/W5/2006-8hour-imagecluster/t02:03:03f0.jpg\u001b[00m\r\n",
      "│   │   └── \u001b[01;36mt02:03:05f0.jpg\u001b[00m -> \u001b[01;35m/home/eon/Desktop/ShowSegmentation/W5/2006-8hour-imagecluster/t02:03:05f0.jpg\u001b[00m\r\n",
      "│   ├── \u001b[01;34mcluster_12\u001b[00m\r\n",
      "│   │   ├── \u001b[01;36mt02:57:30f0.jpg\u001b[00m -> \u001b[01;35m/home/eon/Desktop/ShowSegmentation/W5/2006-8hour-imagecluster/t02:57:30f0.jpg\u001b[00m\r\n",
      "│   │   └── \u001b[01;36mt02:57:32f0.jpg\u001b[00m -> \u001b[01;35m/home/eon/Desktop/ShowSegmentation/W5/2006-8hour-imagecluster/t02:57:32f0.jpg\u001b[00m\r\n",
      "│   ├── \u001b[01;34mcluster_13\u001b[00m\r\n",
      "│   │   ├── \u001b[01;36mt01:25:33f0.jpg\u001b[00m -> \u001b[01;35m/home/eon/Desktop/ShowSegmentation/W5/2006-8hour-imagecluster/t01:25:33f0.jpg\u001b[00m\r\n",
      "│   │   └── \u001b[01;36mt01:25:35f0.jpg\u001b[00m -> \u001b[01;35m/home/eon/Desktop/ShowSegmentation/W5/2006-8hour-imagecluster/t01:25:35f0.jpg\u001b[00m\r\n",
      "│   ├── \u001b[01;34mcluster_14\u001b[00m\r\n",
      "│   │   ├── \u001b[01;36mt01:25:25f0.jpg\u001b[00m -> \u001b[01;35m/home/eon/Desktop/ShowSegmentation/W5/2006-8hour-imagecluster/t01:25:25f0.jpg\u001b[00m\r\n",
      "│   │   └── \u001b[01;36mt01:25:27f0.jpg\u001b[00m -> \u001b[01;35m/home/eon/Desktop/ShowSegmentation/W5/2006-8hour-imagecluster/t01:25:27f0.jpg\u001b[00m\r\n",
      "│   ├── \u001b[01;34mcluster_15\u001b[00m\r\n",
      "│   │   ├── \u001b[01;36mt01:17:24f0.jpg\u001b[00m -> \u001b[01;35m/home/eon/Desktop/ShowSegmentation/W5/2006-8hour-imagecluster/t01:17:24f0.jpg\u001b[00m\r\n",
      "│   │   └── \u001b[01;36mt01:18:34f0.jpg\u001b[00m -> \u001b[01;35m/home/eon/Desktop/ShowSegmentation/W5/2006-8hour-imagecluster/t01:18:34f0.jpg\u001b[00m\r\n",
      "│   ├── \u001b[01;34mcluster_16\u001b[00m\r\n",
      "│   │   ├── \u001b[01;36mt01:46:56f0.jpg\u001b[00m -> \u001b[01;35m/home/eon/Desktop/ShowSegmentation/W5/2006-8hour-imagecluster/t01:46:56f0.jpg\u001b[00m\r\n",
      "│   │   └── \u001b[01;36mt01:46:58f0.jpg\u001b[00m -> \u001b[01;35m/home/eon/Desktop/ShowSegmentation/W5/2006-8hour-imagecluster/t01:46:58f0.jpg\u001b[00m\r\n",
      "│   ├── \u001b[01;34mcluster_17\u001b[00m\r\n",
      "│   │   ├── \u001b[01;36mt01:47:14f0.jpg\u001b[00m -> \u001b[01;35m/home/eon/Desktop/ShowSegmentation/W5/2006-8hour-imagecluster/t01:47:14f0.jpg\u001b[00m\r\n",
      "│   │   └── \u001b[01;36mt01:49:44f0.jpg\u001b[00m -> \u001b[01;35m/home/eon/Desktop/ShowSegmentation/W5/2006-8hour-imagecluster/t01:49:44f0.jpg\u001b[00m\r\n",
      "│   ├── \u001b[01;34mcluster_18\u001b[00m\r\n",
      "│   │   ├── \u001b[01;36mt01:48:34f0.jpg\u001b[00m -> \u001b[01;35m/home/eon/Desktop/ShowSegmentation/W5/2006-8hour-imagecluster/t01:48:34f0.jpg\u001b[00m\r\n",
      "│   │   └── \u001b[01;36mt01:48:36f0.jpg\u001b[00m -> \u001b[01;35m/home/eon/Desktop/ShowSegmentation/W5/2006-8hour-imagecluster/t01:48:36f0.jpg\u001b[00m\r\n",
      "│   ├── \u001b[01;34mcluster_19\u001b[00m\r\n",
      "│   │   ├── \u001b[01;36mt01:49:16f0.jpg\u001b[00m -> \u001b[01;35m/home/eon/Desktop/ShowSegmentation/W5/2006-8hour-imagecluster/t01:49:16f0.jpg\u001b[00m\r\n",
      "│   │   └── \u001b[01;36mt01:49:18f0.jpg\u001b[00m -> \u001b[01;35m/home/eon/Desktop/ShowSegmentation/W5/2006-8hour-imagecluster/t01:49:18f0.jpg\u001b[00m\r\n",
      "│   ├── \u001b[01;34mcluster_2\u001b[00m\r\n",
      "│   │   ├── \u001b[01;36mt02:59:26f0.jpg\u001b[00m -> \u001b[01;35m/home/eon/Desktop/ShowSegmentation/W5/2006-8hour-imagecluster/t02:59:26f0.jpg\u001b[00m\r\n",
      "│   │   └── \u001b[01;36mt02:59:28f0.jpg\u001b[00m -> \u001b[01;35m/home/eon/Desktop/ShowSegmentation/W5/2006-8hour-imagecluster/t02:59:28f0.jpg\u001b[00m\r\n",
      "│   ├── \u001b[01;34mcluster_20\u001b[00m\r\n",
      "│   │   ├── \u001b[01;36mt01:48:26f0.jpg\u001b[00m -> \u001b[01;35m/home/eon/Desktop/ShowSegmentation/W5/2006-8hour-imagecluster/t01:48:26f0.jpg\u001b[00m\r\n",
      "│   │   └── \u001b[01;36mt01:48:28f0.jpg\u001b[00m -> \u001b[01;35m/home/eon/Desktop/ShowSegmentation/W5/2006-8hour-imagecluster/t01:48:28f0.jpg\u001b[00m\r\n",
      "│   ├── \u001b[01;34mcluster_21\u001b[00m\r\n",
      "│   │   ├── \u001b[01;36mt01:49:22f0.jpg\u001b[00m -> \u001b[01;35m/home/eon/Desktop/ShowSegmentation/W5/2006-8hour-imagecluster/t01:49:22f0.jpg\u001b[00m\r\n",
      "│   │   └── \u001b[01;36mt01:49:32f0.jpg\u001b[00m -> \u001b[01;35m/home/eon/Desktop/ShowSegmentation/W5/2006-8hour-imagecluster/t01:49:32f0.jpg\u001b[00m\r\n",
      "│   ├── \u001b[01;34mcluster_22\u001b[00m\r\n",
      "│   │   ├── \u001b[01;36mt01:49:20f0.jpg\u001b[00m -> \u001b[01;35m/home/eon/Desktop/ShowSegmentation/W5/2006-8hour-imagecluster/t01:49:20f0.jpg\u001b[00m\r\n",
      "│   │   └── \u001b[01;36mt01:49:30f0.jpg\u001b[00m -> \u001b[01;35m/home/eon/Desktop/ShowSegmentation/W5/2006-8hour-imagecluster/t01:49:30f0.jpg\u001b[00m\r\n",
      "│   ├── \u001b[01;34mcluster_23\u001b[00m\r\n",
      "│   │   ├── \u001b[01;36mt01:49:38f0.jpg\u001b[00m -> \u001b[01;35m/home/eon/Desktop/ShowSegmentation/W5/2006-8hour-imagecluster/t01:49:38f0.jpg\u001b[00m\r\n",
      "│   │   └── \u001b[01;36mt01:50:00f0.jpg\u001b[00m -> \u001b[01;35m/home/eon/Desktop/ShowSegmentation/W5/2006-8hour-imagecluster/t01:50:00f0.jpg\u001b[00m\r\n",
      "│   ├── \u001b[01;34mcluster_24\u001b[00m\r\n",
      "│   │   ├── \u001b[01;36mt02:02:11f0.jpg\u001b[00m -> \u001b[01;35m/home/eon/Desktop/ShowSegmentation/W5/2006-8hour-imagecluster/t02:02:11f0.jpg\u001b[00m\r\n",
      "│   │   └── \u001b[01;36mt02:02:15f0.jpg\u001b[00m -> \u001b[01;35m/home/eon/Desktop/ShowSegmentation/W5/2006-8hour-imagecluster/t02:02:15f0.jpg\u001b[00m\r\n",
      "│   ├── \u001b[01;34mcluster_25\u001b[00m\r\n",
      "│   │   ├── \u001b[01;36mt02:34:07f0.jpg\u001b[00m -> \u001b[01;35m/home/eon/Desktop/ShowSegmentation/W5/2006-8hour-imagecluster/t02:34:07f0.jpg\u001b[00m\r\n",
      "│   │   └── \u001b[01;36mt02:47:38f0.jpg\u001b[00m -> \u001b[01;35m/home/eon/Desktop/ShowSegmentation/W5/2006-8hour-imagecluster/t02:47:38f0.jpg\u001b[00m\r\n",
      "│   ├── \u001b[01;34mcluster_26\u001b[00m\r\n",
      "│   │   ├── \u001b[01;36mt02:34:09f0.jpg\u001b[00m -> \u001b[01;35m/home/eon/Desktop/ShowSegmentation/W5/2006-8hour-imagecluster/t02:34:09f0.jpg\u001b[00m\r\n",
      "│   │   └── \u001b[01;36mt02:34:11f0.jpg\u001b[00m -> \u001b[01;35m/home/eon/Desktop/ShowSegmentation/W5/2006-8hour-imagecluster/t02:34:11f0.jpg\u001b[00m\r\n",
      "│   ├── \u001b[01;34mcluster_27\u001b[00m\r\n",
      "│   │   ├── \u001b[01;36mt02:22:04f0.jpg\u001b[00m -> \u001b[01;35m/home/eon/Desktop/ShowSegmentation/W5/2006-8hour-imagecluster/t02:22:04f0.jpg\u001b[00m\r\n",
      "│   │   └── \u001b[01;36mt02:24:04f0.jpg\u001b[00m -> \u001b[01;35m/home/eon/Desktop/ShowSegmentation/W5/2006-8hour-imagecluster/t02:24:04f0.jpg\u001b[00m\r\n",
      "│   ├── \u001b[01;34mcluster_28\u001b[00m\r\n",
      "│   │   ├── \u001b[01;36mt01:02:15f0.jpg\u001b[00m -> \u001b[01;35m/home/eon/Desktop/ShowSegmentation/W5/2006-8hour-imagecluster/t01:02:15f0.jpg\u001b[00m\r\n",
      "│   │   └── \u001b[01;36mt01:31:55f0.jpg\u001b[00m -> \u001b[01;35m/home/eon/Desktop/ShowSegmentation/W5/2006-8hour-imagecluster/t01:31:55f0.jpg\u001b[00m\r\n",
      "│   ├── \u001b[01;34mcluster_29\u001b[00m\r\n",
      "│   │   ├── \u001b[01;36mt01:02:21f0.jpg\u001b[00m -> \u001b[01;35m/home/eon/Desktop/ShowSegmentation/W5/2006-8hour-imagecluster/t01:02:21f0.jpg\u001b[00m\r\n",
      "│   │   └── \u001b[01;36mt01:37:35f0.jpg\u001b[00m -> \u001b[01;35m/home/eon/Desktop/ShowSegmentation/W5/2006-8hour-imagecluster/t01:37:35f0.jpg\u001b[00m\r\n",
      "│   ├── \u001b[01;34mcluster_3\u001b[00m\r\n",
      "│   │   ├── \u001b[01;36mt01:17:58f0.jpg\u001b[00m -> \u001b[01;35m/home/eon/Desktop/ShowSegmentation/W5/2006-8hour-imagecluster/t01:17:58f0.jpg\u001b[00m\r\n",
      "│   │   └── \u001b[01;36mt01:18:00f0.jpg\u001b[00m -> \u001b[01;35m/home/eon/Desktop/ShowSegmentation/W5/2006-8hour-imagecluster/t01:18:00f0.jpg\u001b[00m\r\n",
      "│   ├── \u001b[01;34mcluster_30\u001b[00m\r\n",
      "│   │   ├── \u001b[01;36mt02:47:44f0.jpg\u001b[00m -> \u001b[01;35m/home/eon/Desktop/ShowSegmentation/W5/2006-8hour-imagecluster/t02:47:44f0.jpg\u001b[00m\r\n",
      "│   │   └── \u001b[01;36mt02:47:46f0.jpg\u001b[00m -> \u001b[01;35m/home/eon/Desktop/ShowSegmentation/W5/2006-8hour-imagecluster/t02:47:46f0.jpg\u001b[00m\r\n",
      "│   ├── \u001b[01;34mcluster_31\u001b[00m\r\n",
      "│   │   ├── \u001b[01;36mt01:35:53f0.jpg\u001b[00m -> \u001b[01;35m/home/eon/Desktop/ShowSegmentation/W5/2006-8hour-imagecluster/t01:35:53f0.jpg\u001b[00m\r\n",
      "│   │   └── \u001b[01;36mt01:36:31f0.jpg\u001b[00m -> \u001b[01;35m/home/eon/Desktop/ShowSegmentation/W5/2006-8hour-imagecluster/t01:36:31f0.jpg\u001b[00m\r\n",
      "│   ├── \u001b[01;34mcluster_32\u001b[00m\r\n",
      "│   │   ├── \u001b[01;36mt01:35:55f0.jpg\u001b[00m -> \u001b[01;35m/home/eon/Desktop/ShowSegmentation/W5/2006-8hour-imagecluster/t01:35:55f0.jpg\u001b[00m\r\n",
      "│   │   └── \u001b[01;36mt01:36:35f0.jpg\u001b[00m -> \u001b[01;35m/home/eon/Desktop/ShowSegmentation/W5/2006-8hour-imagecluster/t01:36:35f0.jpg\u001b[00m\r\n",
      "│   ├── \u001b[01;34mcluster_33\u001b[00m\r\n",
      "│   │   ├── \u001b[01;36mt02:49:04f0.jpg\u001b[00m -> \u001b[01;35m/home/eon/Desktop/ShowSegmentation/W5/2006-8hour-imagecluster/t02:49:04f0.jpg\u001b[00m\r\n",
      "│   │   └── \u001b[01;36mt02:49:12f0.jpg\u001b[00m -> \u001b[01;35m/home/eon/Desktop/ShowSegmentation/W5/2006-8hour-imagecluster/t02:49:12f0.jpg\u001b[00m\r\n",
      "│   ├── \u001b[01;34mcluster_34\u001b[00m\r\n",
      "│   │   ├── \u001b[01;36mt02:51:18f0.jpg\u001b[00m -> \u001b[01;35m/home/eon/Desktop/ShowSegmentation/W5/2006-8hour-imagecluster/t02:51:18f0.jpg\u001b[00m\r\n",
      "│   │   └── \u001b[01;36mt02:51:30f0.jpg\u001b[00m -> \u001b[01;35m/home/eon/Desktop/ShowSegmentation/W5/2006-8hour-imagecluster/t02:51:30f0.jpg\u001b[00m\r\n",
      "│   ├── \u001b[01;34mcluster_35\u001b[00m\r\n",
      "│   │   ├── \u001b[01;36mt02:51:16f0.jpg\u001b[00m -> \u001b[01;35m/home/eon/Desktop/ShowSegmentation/W5/2006-8hour-imagecluster/t02:51:16f0.jpg\u001b[00m\r\n",
      "│   │   └── \u001b[01;36mt02:51:36f0.jpg\u001b[00m -> \u001b[01;35m/home/eon/Desktop/ShowSegmentation/W5/2006-8hour-imagecluster/t02:51:36f0.jpg\u001b[00m\r\n",
      "│   ├── \u001b[01;34mcluster_36\u001b[00m\r\n",
      "│   │   ├── \u001b[01;36mt01:39:35f0.jpg\u001b[00m -> \u001b[01;35m/home/eon/Desktop/ShowSegmentation/W5/2006-8hour-imagecluster/t01:39:35f0.jpg\u001b[00m\r\n",
      "│   │   └── \u001b[01;36mt01:39:37f0.jpg\u001b[00m -> \u001b[01;35m/home/eon/Desktop/ShowSegmentation/W5/2006-8hour-imagecluster/t01:39:37f0.jpg\u001b[00m\r\n",
      "│   ├── \u001b[01;34mcluster_37\u001b[00m\r\n",
      "│   │   ├── \u001b[01;36mt02:07:35f0.jpg\u001b[00m -> \u001b[01;35m/home/eon/Desktop/ShowSegmentation/W5/2006-8hour-imagecluster/t02:07:35f0.jpg\u001b[00m\r\n",
      "│   │   └── \u001b[01;36mt02:07:43f0.jpg\u001b[00m -> \u001b[01;35m/home/eon/Desktop/ShowSegmentation/W5/2006-8hour-imagecluster/t02:07:43f0.jpg\u001b[00m\r\n",
      "│   ├── \u001b[01;34mcluster_38\u001b[00m\r\n",
      "│   │   ├── \u001b[01;36mt02:07:45f0.jpg\u001b[00m -> \u001b[01;35m/home/eon/Desktop/ShowSegmentation/W5/2006-8hour-imagecluster/t02:07:45f0.jpg\u001b[00m\r\n",
      "│   │   └── \u001b[01;36mt02:33:47f0.jpg\u001b[00m -> \u001b[01;35m/home/eon/Desktop/ShowSegmentation/W5/2006-8hour-imagecluster/t02:33:47f0.jpg\u001b[00m\r\n",
      "│   ├── \u001b[01;34mcluster_39\u001b[00m\r\n",
      "│   │   ├── \u001b[01;36mt01:56:10f0.jpg\u001b[00m -> \u001b[01;35m/home/eon/Desktop/ShowSegmentation/W5/2006-8hour-imagecluster/t01:56:10f0.jpg\u001b[00m\r\n",
      "│   │   └── \u001b[01;36mt01:56:12f0.jpg\u001b[00m -> \u001b[01;35m/home/eon/Desktop/ShowSegmentation/W5/2006-8hour-imagecluster/t01:56:12f0.jpg\u001b[00m\r\n",
      "│   ├── \u001b[01;34mcluster_4\u001b[00m\r\n",
      "│   │   ├── \u001b[01;36mt01:47:56f0.jpg\u001b[00m -> \u001b[01;35m/home/eon/Desktop/ShowSegmentation/W5/2006-8hour-imagecluster/t01:47:56f0.jpg\u001b[00m\r\n",
      "│   │   └── \u001b[01;36mt01:48:02f0.jpg\u001b[00m -> \u001b[01;35m/home/eon/Desktop/ShowSegmentation/W5/2006-8hour-imagecluster/t01:48:02f0.jpg\u001b[00m\r\n",
      "│   ├── \u001b[01;34mcluster_40\u001b[00m\r\n",
      "│   │   ├── \u001b[01;36mt01:23:14f1.jpg\u001b[00m -> \u001b[01;35m/home/eon/Desktop/ShowSegmentation/W5/2006-8hour-imagecluster/t01:23:14f1.jpg\u001b[00m\r\n",
      "│   │   └── \u001b[01;36mt01:23:16f1.jpg\u001b[00m -> \u001b[01;35m/home/eon/Desktop/ShowSegmentation/W5/2006-8hour-imagecluster/t01:23:16f1.jpg\u001b[00m\r\n",
      "│   ├── \u001b[01;34mcluster_41\u001b[00m\r\n",
      "│   │   ├── \u001b[01;36mt02:08:41f0.jpg\u001b[00m -> \u001b[01;35m/home/eon/Desktop/ShowSegmentation/W5/2006-8hour-imagecluster/t02:08:41f0.jpg\u001b[00m\r\n",
      "│   │   └── \u001b[01;36mt02:08:43f0.jpg\u001b[00m -> \u001b[01;35m/home/eon/Desktop/ShowSegmentation/W5/2006-8hour-imagecluster/t02:08:43f0.jpg\u001b[00m\r\n",
      "│   ├── \u001b[01;34mcluster_42\u001b[00m\r\n",
      "│   │   ├── \u001b[01;36mt02:16:28f0.jpg\u001b[00m -> \u001b[01;35m/home/eon/Desktop/ShowSegmentation/W5/2006-8hour-imagecluster/t02:16:28f0.jpg\u001b[00m\r\n",
      "│   │   └── \u001b[01;36mt02:18:48f0.jpg\u001b[00m -> \u001b[01;35m/home/eon/Desktop/ShowSegmentation/W5/2006-8hour-imagecluster/t02:18:48f0.jpg\u001b[00m\r\n",
      "│   ├── \u001b[01;34mcluster_43\u001b[00m\r\n",
      "│   │   ├── \u001b[01;36mt01:39:47f0.jpg\u001b[00m -> \u001b[01;35m/home/eon/Desktop/ShowSegmentation/W5/2006-8hour-imagecluster/t01:39:47f0.jpg\u001b[00m\r\n",
      "│   │   └── \u001b[01;36mt01:39:51f0.jpg\u001b[00m -> \u001b[01;35m/home/eon/Desktop/ShowSegmentation/W5/2006-8hour-imagecluster/t01:39:51f0.jpg\u001b[00m\r\n",
      "│   ├── \u001b[01;34mcluster_44\u001b[00m\r\n",
      "│   │   ├── \u001b[01;36mt01:40:14f0.jpg\u001b[00m -> \u001b[01;35m/home/eon/Desktop/ShowSegmentation/W5/2006-8hour-imagecluster/t01:40:14f0.jpg\u001b[00m\r\n",
      "│   │   └── \u001b[01;36mt01:40:34f0.jpg\u001b[00m -> \u001b[01;35m/home/eon/Desktop/ShowSegmentation/W5/2006-8hour-imagecluster/t01:40:34f0.jpg\u001b[00m\r\n",
      "│   ├── \u001b[01;34mcluster_45\u001b[00m\r\n",
      "│   │   ├── \u001b[01;36mt01:39:41f0.jpg\u001b[00m -> \u001b[01;35m/home/eon/Desktop/ShowSegmentation/W5/2006-8hour-imagecluster/t01:39:41f0.jpg\u001b[00m\r\n",
      "│   │   └── \u001b[01;36mt01:41:00f0.jpg\u001b[00m -> \u001b[01;35m/home/eon/Desktop/ShowSegmentation/W5/2006-8hour-imagecluster/t01:41:00f0.jpg\u001b[00m\r\n",
      "│   ├── \u001b[01;34mcluster_46\u001b[00m\r\n",
      "│   │   ├── \u001b[01;36mt01:40:24f0.jpg\u001b[00m -> \u001b[01;35m/home/eon/Desktop/ShowSegmentation/W5/2006-8hour-imagecluster/t01:40:24f0.jpg\u001b[00m\r\n",
      "│   │   └── \u001b[01;36mt01:40:50f0.jpg\u001b[00m -> \u001b[01;35m/home/eon/Desktop/ShowSegmentation/W5/2006-8hour-imagecluster/t01:40:50f0.jpg\u001b[00m\r\n",
      "│   ├── \u001b[01;34mcluster_47\u001b[00m\r\n",
      "│   │   ├── \u001b[01;36mt01:23:41f0.jpg\u001b[00m -> \u001b[01;35m/home/eon/Desktop/ShowSegmentation/W5/2006-8hour-imagecluster/t01:23:41f0.jpg\u001b[00m\r\n",
      "│   │   └── \u001b[01;36mt01:23:43f0.jpg\u001b[00m -> \u001b[01;35m/home/eon/Desktop/ShowSegmentation/W5/2006-8hour-imagecluster/t01:23:43f0.jpg\u001b[00m\r\n",
      "│   ├── \u001b[01;34mcluster_48\u001b[00m\r\n",
      "│   │   ├── \u001b[01;36mt02:33:19f0.jpg\u001b[00m -> \u001b[01;35m/home/eon/Desktop/ShowSegmentation/W5/2006-8hour-imagecluster/t02:33:19f0.jpg\u001b[00m\r\n",
      "│   │   └── \u001b[01;36mt02:33:21f0.jpg\u001b[00m -> \u001b[01;35m/home/eon/Desktop/ShowSegmentation/W5/2006-8hour-imagecluster/t02:33:21f0.jpg\u001b[00m\r\n",
      "│   ├── \u001b[01;34mcluster_49\u001b[00m\r\n",
      "│   │   ├── \u001b[01;36mt01:37:11f0.jpg\u001b[00m -> \u001b[01;35m/home/eon/Desktop/ShowSegmentation/W5/2006-8hour-imagecluster/t01:37:11f0.jpg\u001b[00m\r\n",
      "│   │   └── \u001b[01;36mt02:31:29f0.jpg\u001b[00m -> \u001b[01;35m/home/eon/Desktop/ShowSegmentation/W5/2006-8hour-imagecluster/t02:31:29f0.jpg\u001b[00m\r\n",
      "│   ├── \u001b[01;34mcluster_5\u001b[00m\r\n",
      "│   │   ├── \u001b[01;36mt02:32:35f0.jpg\u001b[00m -> \u001b[01;35m/home/eon/Desktop/ShowSegmentation/W5/2006-8hour-imagecluster/t02:32:35f0.jpg\u001b[00m\r\n",
      "│   │   └── \u001b[01;36mt02:32:37f0.jpg\u001b[00m -> \u001b[01;35m/home/eon/Desktop/ShowSegmentation/W5/2006-8hour-imagecluster/t02:32:37f0.jpg\u001b[00m\r\n",
      "│   ├── \u001b[01;34mcluster_6\u001b[00m\r\n",
      "│   │   ├── \u001b[01;36mt02:48:14f1.jpg\u001b[00m -> \u001b[01;35m/home/eon/Desktop/ShowSegmentation/W5/2006-8hour-imagecluster/t02:48:14f1.jpg\u001b[00m\r\n",
      "│   │   └── \u001b[01;36mt02:48:16f1.jpg\u001b[00m -> \u001b[01;35m/home/eon/Desktop/ShowSegmentation/W5/2006-8hour-imagecluster/t02:48:16f1.jpg\u001b[00m\r\n",
      "│   ├── \u001b[01;34mcluster_7\u001b[00m\r\n",
      "│   │   ├── \u001b[01;36mt02:09:21f2.jpg\u001b[00m -> \u001b[01;35m/home/eon/Desktop/ShowSegmentation/W5/2006-8hour-imagecluster/t02:09:21f2.jpg\u001b[00m\r\n",
      "│   │   └── \u001b[01;36mt02:09:23f2.jpg\u001b[00m -> \u001b[01;35m/home/eon/Desktop/ShowSegmentation/W5/2006-8hour-imagecluster/t02:09:23f2.jpg\u001b[00m\r\n",
      "│   ├── \u001b[01;34mcluster_8\u001b[00m\r\n",
      "│   │   ├── \u001b[01;36mt02:48:16f0.jpg\u001b[00m -> \u001b[01;35m/home/eon/Desktop/ShowSegmentation/W5/2006-8hour-imagecluster/t02:48:16f0.jpg\u001b[00m\r\n",
      "│   │   └── \u001b[01;36mt02:48:52f0.jpg\u001b[00m -> \u001b[01;35m/home/eon/Desktop/ShowSegmentation/W5/2006-8hour-imagecluster/t02:48:52f0.jpg\u001b[00m\r\n",
      "│   └── \u001b[01;34mcluster_9\u001b[00m\r\n",
      "│       ├── \u001b[01;36mt02:49:38f0.jpg\u001b[00m -> \u001b[01;35m/home/eon/Desktop/ShowSegmentation/W5/2006-8hour-imagecluster/t02:49:38f0.jpg\u001b[00m\r\n",
      "│       └── \u001b[01;36mt02:49:40f0.jpg\u001b[00m -> \u001b[01;35m/home/eon/Desktop/ShowSegmentation/W5/2006-8hour-imagecluster/t02:49:40f0.jpg\u001b[00m\r\n",
      "├── \u001b[01;34mcluster_with_27\u001b[00m\r\n",
      "│   └── \u001b[01;34mcluster_0\u001b[00m\r\n",
      "│       ├── \u001b[01;36mt02:01:19f0.jpg\u001b[00m -> \u001b[01;35m/home/eon/Desktop/ShowSegmentation/W5/2006-8hour-imagecluster/t02:01:19f0.jpg\u001b[00m\r\n",
      "│       ├── \u001b[01;36mt02:01:21f0.jpg\u001b[00m -> \u001b[01;35m/home/eon/Desktop/ShowSegmentation/W5/2006-8hour-imagecluster/t02:01:21f0.jpg\u001b[00m\r\n",
      "│       ├── \u001b[01;36mt02:01:23f0.jpg\u001b[00m -> \u001b[01;35m/home/eon/Desktop/ShowSegmentation/W5/2006-8hour-imagecluster/t02:01:23f0.jpg\u001b[00m\r\n",
      "│       ├── \u001b[01;36mt02:01:25f0.jpg\u001b[00m -> \u001b[01;35m/home/eon/Desktop/ShowSegmentation/W5/2006-8hour-imagecluster/t02:01:25f0.jpg\u001b[00m\r\n",
      "│       ├── \u001b[01;36mt02:01:27f0.jpg\u001b[00m -> \u001b[01;35m/home/eon/Desktop/ShowSegmentation/W5/2006-8hour-imagecluster/t02:01:27f0.jpg\u001b[00m\r\n",
      "│       ├── \u001b[01;36mt02:01:29f0.jpg\u001b[00m -> \u001b[01;35m/home/eon/Desktop/ShowSegmentation/W5/2006-8hour-imagecluster/t02:01:29f0.jpg\u001b[00m\r\n",
      "│       ├── \u001b[01;36mt02:01:31f0.jpg\u001b[00m -> \u001b[01;35m/home/eon/Desktop/ShowSegmentation/W5/2006-8hour-imagecluster/t02:01:31f0.jpg\u001b[00m\r\n",
      "│       ├── \u001b[01;36mt02:01:33f0.jpg\u001b[00m -> \u001b[01;35m/home/eon/Desktop/ShowSegmentation/W5/2006-8hour-imagecluster/t02:01:33f0.jpg\u001b[00m\r\n",
      "│       ├── \u001b[01;36mt02:02:17f0.jpg\u001b[00m -> \u001b[01;35m/home/eon/Desktop/ShowSegmentation/W5/2006-8hour-imagecluster/t02:02:17f0.jpg\u001b[00m\r\n",
      "│       ├── \u001b[01;36mt02:02:19f0.jpg\u001b[00m -> \u001b[01;35m/home/eon/Desktop/ShowSegmentation/W5/2006-8hour-imagecluster/t02:02:19f0.jpg\u001b[00m\r\n",
      "│       ├── \u001b[01;36mt02:02:21f0.jpg\u001b[00m -> \u001b[01;35m/home/eon/Desktop/ShowSegmentation/W5/2006-8hour-imagecluster/t02:02:21f0.jpg\u001b[00m\r\n",
      "│       ├── \u001b[01;36mt02:02:23f0.jpg\u001b[00m -> \u001b[01;35m/home/eon/Desktop/ShowSegmentation/W5/2006-8hour-imagecluster/t02:02:23f0.jpg\u001b[00m\r\n",
      "│       ├── \u001b[01;36mt02:02:25f0.jpg\u001b[00m -> \u001b[01;35m/home/eon/Desktop/ShowSegmentation/W5/2006-8hour-imagecluster/t02:02:25f0.jpg\u001b[00m\r\n",
      "│       ├── \u001b[01;36mt02:02:27f0.jpg\u001b[00m -> \u001b[01;35m/home/eon/Desktop/ShowSegmentation/W5/2006-8hour-imagecluster/t02:02:27f0.jpg\u001b[00m\r\n",
      "│       ├── \u001b[01;36mt02:02:29f0.jpg\u001b[00m -> \u001b[01;35m/home/eon/Desktop/ShowSegmentation/W5/2006-8hour-imagecluster/t02:02:29f0.jpg\u001b[00m\r\n",
      "│       ├── \u001b[01;36mt02:02:31f0.jpg\u001b[00m -> \u001b[01;35m/home/eon/Desktop/ShowSegmentation/W5/2006-8hour-imagecluster/t02:02:31f0.jpg\u001b[00m\r\n",
      "│       ├── \u001b[01;36mt02:02:33f0.jpg\u001b[00m -> \u001b[01;35m/home/eon/Desktop/ShowSegmentation/W5/2006-8hour-imagecluster/t02:02:33f0.jpg\u001b[00m\r\n",
      "│       ├── \u001b[01;36mt02:02:35f0.jpg\u001b[00m -> \u001b[01;35m/home/eon/Desktop/ShowSegmentation/W5/2006-8hour-imagecluster/t02:02:35f0.jpg\u001b[00m\r\n",
      "│       ├── \u001b[01;36mt02:02:37f0.jpg\u001b[00m -> \u001b[01;35m/home/eon/Desktop/ShowSegmentation/W5/2006-8hour-imagecluster/t02:02:37f0.jpg\u001b[00m\r\n",
      "│       ├── \u001b[01;36mt02:02:39f0.jpg\u001b[00m -> \u001b[01;35m/home/eon/Desktop/ShowSegmentation/W5/2006-8hour-imagecluster/t02:02:39f0.jpg\u001b[00m\r\n",
      "│       ├── \u001b[01;36mt02:02:41f0.jpg\u001b[00m -> \u001b[01;35m/home/eon/Desktop/ShowSegmentation/W5/2006-8hour-imagecluster/t02:02:41f0.jpg\u001b[00m\r\n",
      "│       ├── \u001b[01;36mt02:02:43f0.jpg\u001b[00m -> \u001b[01;35m/home/eon/Desktop/ShowSegmentation/W5/2006-8hour-imagecluster/t02:02:43f0.jpg\u001b[00m\r\n",
      "│       ├── \u001b[01;36mt02:02:45f0.jpg\u001b[00m -> \u001b[01;35m/home/eon/Desktop/ShowSegmentation/W5/2006-8hour-imagecluster/t02:02:45f0.jpg\u001b[00m\r\n",
      "│       ├── \u001b[01;36mt02:02:47f0.jpg\u001b[00m -> \u001b[01;35m/home/eon/Desktop/ShowSegmentation/W5/2006-8hour-imagecluster/t02:02:47f0.jpg\u001b[00m\r\n",
      "│       ├── \u001b[01;36mt02:02:49f0.jpg\u001b[00m -> \u001b[01;35m/home/eon/Desktop/ShowSegmentation/W5/2006-8hour-imagecluster/t02:02:49f0.jpg\u001b[00m\r\n",
      "│       ├── \u001b[01;36mt02:02:51f0.jpg\u001b[00m -> \u001b[01;35m/home/eon/Desktop/ShowSegmentation/W5/2006-8hour-imagecluster/t02:02:51f0.jpg\u001b[00m\r\n",
      "│       └── \u001b[01;36mt02:39:23f0.jpg\u001b[00m -> \u001b[01;35m/home/eon/Desktop/ShowSegmentation/W5/2006-8hour-imagecluster/t02:39:23f0.jpg\u001b[00m\r\n",
      "├── \u001b[01;34mcluster_with_3\u001b[00m\r\n",
      "│   ├── \u001b[01;34mcluster_0\u001b[00m\r\n",
      "│   │   ├── \u001b[01;36mt01:25:47f0.jpg\u001b[00m -> \u001b[01;35m/home/eon/Desktop/ShowSegmentation/W5/2006-8hour-imagecluster/t01:25:47f0.jpg\u001b[00m\r\n",
      "│   │   ├── \u001b[01;36mt01:25:49f0.jpg\u001b[00m -> \u001b[01;35m/home/eon/Desktop/ShowSegmentation/W5/2006-8hour-imagecluster/t01:25:49f0.jpg\u001b[00m\r\n",
      "│   │   └── \u001b[01;36mt01:25:51f0.jpg\u001b[00m -> \u001b[01;35m/home/eon/Desktop/ShowSegmentation/W5/2006-8hour-imagecluster/t01:25:51f0.jpg\u001b[00m\r\n",
      "│   ├── \u001b[01;34mcluster_1\u001b[00m\r\n",
      "│   │   ├── \u001b[01;36mt01:25:47f1.jpg\u001b[00m -> \u001b[01;35m/home/eon/Desktop/ShowSegmentation/W5/2006-8hour-imagecluster/t01:25:47f1.jpg\u001b[00m\r\n",
      "│   │   ├── \u001b[01;36mt01:25:49f1.jpg\u001b[00m -> \u001b[01;35m/home/eon/Desktop/ShowSegmentation/W5/2006-8hour-imagecluster/t01:25:49f1.jpg\u001b[00m\r\n",
      "│   │   └── \u001b[01;36mt01:25:51f1.jpg\u001b[00m -> \u001b[01;35m/home/eon/Desktop/ShowSegmentation/W5/2006-8hour-imagecluster/t01:25:51f1.jpg\u001b[00m\r\n",
      "│   ├── \u001b[01;34mcluster_2\u001b[00m\r\n",
      "│   │   ├── \u001b[01;36mt01:49:10f0.jpg\u001b[00m -> \u001b[01;35m/home/eon/Desktop/ShowSegmentation/W5/2006-8hour-imagecluster/t01:49:10f0.jpg\u001b[00m\r\n",
      "│   │   ├── \u001b[01;36mt01:49:28f0.jpg\u001b[00m -> \u001b[01;35m/home/eon/Desktop/ShowSegmentation/W5/2006-8hour-imagecluster/t01:49:28f0.jpg\u001b[00m\r\n",
      "│   │   └── \u001b[01;36mt01:49:46f0.jpg\u001b[00m -> \u001b[01;35m/home/eon/Desktop/ShowSegmentation/W5/2006-8hour-imagecluster/t01:49:46f0.jpg\u001b[00m\r\n",
      "│   ├── \u001b[01;34mcluster_3\u001b[00m\r\n",
      "│   │   ├── \u001b[01;36mt01:49:48f0.jpg\u001b[00m -> \u001b[01;35m/home/eon/Desktop/ShowSegmentation/W5/2006-8hour-imagecluster/t01:49:48f0.jpg\u001b[00m\r\n",
      "│   │   ├── \u001b[01;36mt01:50:32f0.jpg\u001b[00m -> \u001b[01;35m/home/eon/Desktop/ShowSegmentation/W5/2006-8hour-imagecluster/t01:50:32f0.jpg\u001b[00m\r\n",
      "│   │   └── \u001b[01;36mt01:50:34f0.jpg\u001b[00m -> \u001b[01;35m/home/eon/Desktop/ShowSegmentation/W5/2006-8hour-imagecluster/t01:50:34f0.jpg\u001b[00m\r\n",
      "│   ├── \u001b[01;34mcluster_4\u001b[00m\r\n",
      "│   │   ├── \u001b[01;36mt02:48:22f0.jpg\u001b[00m -> \u001b[01;35m/home/eon/Desktop/ShowSegmentation/W5/2006-8hour-imagecluster/t02:48:22f0.jpg\u001b[00m\r\n",
      "│   │   ├── \u001b[01;36mt02:49:00f0.jpg\u001b[00m -> \u001b[01;35m/home/eon/Desktop/ShowSegmentation/W5/2006-8hour-imagecluster/t02:49:00f0.jpg\u001b[00m\r\n",
      "│   │   └── \u001b[01;36mt02:49:06f0.jpg\u001b[00m -> \u001b[01;35m/home/eon/Desktop/ShowSegmentation/W5/2006-8hour-imagecluster/t02:49:06f0.jpg\u001b[00m\r\n",
      "│   ├── \u001b[01;34mcluster_5\u001b[00m\r\n",
      "│   │   ├── \u001b[01;36mt02:15:20f0.jpg\u001b[00m -> \u001b[01;35m/home/eon/Desktop/ShowSegmentation/W5/2006-8hour-imagecluster/t02:15:20f0.jpg\u001b[00m\r\n",
      "│   │   ├── \u001b[01;36mt02:15:24f0.jpg\u001b[00m -> \u001b[01;35m/home/eon/Desktop/ShowSegmentation/W5/2006-8hour-imagecluster/t02:15:24f0.jpg\u001b[00m\r\n",
      "│   │   └── \u001b[01;36mt02:15:26f0.jpg\u001b[00m -> \u001b[01;35m/home/eon/Desktop/ShowSegmentation/W5/2006-8hour-imagecluster/t02:15:26f0.jpg\u001b[00m\r\n",
      "│   ├── \u001b[01;34mcluster_6\u001b[00m\r\n",
      "│   │   ├── \u001b[01;36mt01:39:57f0.jpg\u001b[00m -> \u001b[01;35m/home/eon/Desktop/ShowSegmentation/W5/2006-8hour-imagecluster/t01:39:57f0.jpg\u001b[00m\r\n",
      "│   │   ├── \u001b[01;36mt01:40:00f0.jpg\u001b[00m -> \u001b[01;35m/home/eon/Desktop/ShowSegmentation/W5/2006-8hour-imagecluster/t01:40:00f0.jpg\u001b[00m\r\n",
      "│   │   └── \u001b[01;36mt01:40:22f0.jpg\u001b[00m -> \u001b[01;35m/home/eon/Desktop/ShowSegmentation/W5/2006-8hour-imagecluster/t01:40:22f0.jpg\u001b[00m\r\n",
      "│   ├── \u001b[01;34mcluster_7\u001b[00m\r\n",
      "│   │   ├── \u001b[01;36mt01:25:37f0.jpg\u001b[00m -> \u001b[01;35m/home/eon/Desktop/ShowSegmentation/W5/2006-8hour-imagecluster/t01:25:37f0.jpg\u001b[00m\r\n",
      "│   │   ├── \u001b[01;36mt01:25:39f0.jpg\u001b[00m -> \u001b[01;35m/home/eon/Desktop/ShowSegmentation/W5/2006-8hour-imagecluster/t01:25:39f0.jpg\u001b[00m\r\n",
      "│   │   └── \u001b[01;36mt01:25:43f0.jpg\u001b[00m -> \u001b[01;35m/home/eon/Desktop/ShowSegmentation/W5/2006-8hour-imagecluster/t01:25:43f0.jpg\u001b[00m\r\n",
      "│   ├── \u001b[01;34mcluster_8\u001b[00m\r\n",
      "│   │   ├── \u001b[01;36mt02:04:47f0.jpg\u001b[00m -> \u001b[01;35m/home/eon/Desktop/ShowSegmentation/W5/2006-8hour-imagecluster/t02:04:47f0.jpg\u001b[00m\r\n",
      "│   │   ├── \u001b[01;36mt02:04:49f0.jpg\u001b[00m -> \u001b[01;35m/home/eon/Desktop/ShowSegmentation/W5/2006-8hour-imagecluster/t02:04:49f0.jpg\u001b[00m\r\n",
      "│   │   └── \u001b[01;36mt02:04:57f0.jpg\u001b[00m -> \u001b[01;35m/home/eon/Desktop/ShowSegmentation/W5/2006-8hour-imagecluster/t02:04:57f0.jpg\u001b[00m\r\n",
      "│   └── \u001b[01;34mcluster_9\u001b[00m\r\n",
      "│       ├── \u001b[01;36mt01:39:03f0.jpg\u001b[00m -> \u001b[01;35m/home/eon/Desktop/ShowSegmentation/W5/2006-8hour-imagecluster/t01:39:03f0.jpg\u001b[00m\r\n",
      "│       ├── \u001b[01;36mt02:04:51f0.jpg\u001b[00m -> \u001b[01;35m/home/eon/Desktop/ShowSegmentation/W5/2006-8hour-imagecluster/t02:04:51f0.jpg\u001b[00m\r\n",
      "│       └── \u001b[01;36mt02:04:53f0.jpg\u001b[00m -> \u001b[01;35m/home/eon/Desktop/ShowSegmentation/W5/2006-8hour-imagecluster/t02:04:53f0.jpg\u001b[00m\r\n",
      "├── \u001b[01;34mcluster_with_4\u001b[00m\r\n",
      "│   ├── \u001b[01;34mcluster_0\u001b[00m\r\n",
      "│   │   ├── \u001b[01;36mt01:49:14f0.jpg\u001b[00m -> \u001b[01;35m/home/eon/Desktop/ShowSegmentation/W5/2006-8hour-imagecluster/t01:49:14f0.jpg\u001b[00m\r\n",
      "│   │   ├── \u001b[01;36mt01:49:26f0.jpg\u001b[00m -> \u001b[01;35m/home/eon/Desktop/ShowSegmentation/W5/2006-8hour-imagecluster/t01:49:26f0.jpg\u001b[00m\r\n",
      "│   │   ├── \u001b[01;36mt01:49:40f0.jpg\u001b[00m -> \u001b[01;35m/home/eon/Desktop/ShowSegmentation/W5/2006-8hour-imagecluster/t01:49:40f0.jpg\u001b[00m\r\n",
      "│   │   └── \u001b[01;36mt01:50:02f0.jpg\u001b[00m -> \u001b[01;35m/home/eon/Desktop/ShowSegmentation/W5/2006-8hour-imagecluster/t01:50:02f0.jpg\u001b[00m\r\n",
      "│   ├── \u001b[01;34mcluster_1\u001b[00m\r\n",
      "│   │   ├── \u001b[01;36mt01:17:26f0.jpg\u001b[00m -> \u001b[01;35m/home/eon/Desktop/ShowSegmentation/W5/2006-8hour-imagecluster/t01:17:26f0.jpg\u001b[00m\r\n",
      "│   │   ├── \u001b[01;36mt01:18:10f0.jpg\u001b[00m -> \u001b[01;35m/home/eon/Desktop/ShowSegmentation/W5/2006-8hour-imagecluster/t01:18:10f0.jpg\u001b[00m\r\n",
      "│   │   ├── \u001b[01;36mt01:18:14f0.jpg\u001b[00m -> \u001b[01;35m/home/eon/Desktop/ShowSegmentation/W5/2006-8hour-imagecluster/t01:18:14f0.jpg\u001b[00m\r\n",
      "│   │   └── \u001b[01;36mt01:18:46f0.jpg\u001b[00m -> \u001b[01;35m/home/eon/Desktop/ShowSegmentation/W5/2006-8hour-imagecluster/t01:18:46f0.jpg\u001b[00m\r\n",
      "│   └── \u001b[01;34mcluster_2\u001b[00m\r\n",
      "│       ├── \u001b[01;36mt01:40:06f0.jpg\u001b[00m -> \u001b[01;35m/home/eon/Desktop/ShowSegmentation/W5/2006-8hour-imagecluster/t01:40:06f0.jpg\u001b[00m\r\n",
      "│       ├── \u001b[01;36mt01:40:20f0.jpg\u001b[00m -> \u001b[01;35m/home/eon/Desktop/ShowSegmentation/W5/2006-8hour-imagecluster/t01:40:20f0.jpg\u001b[00m\r\n",
      "│       ├── \u001b[01;36mt01:40:44f0.jpg\u001b[00m -> \u001b[01;35m/home/eon/Desktop/ShowSegmentation/W5/2006-8hour-imagecluster/t01:40:44f0.jpg\u001b[00m\r\n",
      "│       └── \u001b[01;36mt01:40:58f0.jpg\u001b[00m -> \u001b[01;35m/home/eon/Desktop/ShowSegmentation/W5/2006-8hour-imagecluster/t01:40:58f0.jpg\u001b[00m\r\n",
      "├── \u001b[01;34mcluster_with_5\u001b[00m\r\n",
      "│   ├── \u001b[01;34mcluster_0\u001b[00m\r\n",
      "│   │   ├── \u001b[01;36mt01:49:50f0.jpg\u001b[00m -> \u001b[01;35m/home/eon/Desktop/ShowSegmentation/W5/2006-8hour-imagecluster/t01:49:50f0.jpg\u001b[00m\r\n",
      "│   │   ├── \u001b[01;36mt01:49:54f0.jpg\u001b[00m -> \u001b[01;35m/home/eon/Desktop/ShowSegmentation/W5/2006-8hour-imagecluster/t01:49:54f0.jpg\u001b[00m\r\n",
      "│   │   ├── \u001b[01;36mt01:49:56f0.jpg\u001b[00m -> \u001b[01;35m/home/eon/Desktop/ShowSegmentation/W5/2006-8hour-imagecluster/t01:49:56f0.jpg\u001b[00m\r\n",
      "│   │   ├── \u001b[01;36mt01:50:40f0.jpg\u001b[00m -> \u001b[01;35m/home/eon/Desktop/ShowSegmentation/W5/2006-8hour-imagecluster/t01:50:40f0.jpg\u001b[00m\r\n",
      "│   │   └── \u001b[01;36mt01:50:48f0.jpg\u001b[00m -> \u001b[01;35m/home/eon/Desktop/ShowSegmentation/W5/2006-8hour-imagecluster/t01:50:48f0.jpg\u001b[00m\r\n",
      "│   └── \u001b[01;34mcluster_1\u001b[00m\r\n",
      "│       ├── \u001b[01;36mt01:39:43f0.jpg\u001b[00m -> \u001b[01;35m/home/eon/Desktop/ShowSegmentation/W5/2006-8hour-imagecluster/t01:39:43f0.jpg\u001b[00m\r\n",
      "│       ├── \u001b[01;36mt01:39:49f0.jpg\u001b[00m -> \u001b[01;35m/home/eon/Desktop/ShowSegmentation/W5/2006-8hour-imagecluster/t01:39:49f0.jpg\u001b[00m\r\n",
      "│       ├── \u001b[01;36mt01:39:53f0.jpg\u001b[00m -> \u001b[01;35m/home/eon/Desktop/ShowSegmentation/W5/2006-8hour-imagecluster/t01:39:53f0.jpg\u001b[00m\r\n",
      "│       ├── \u001b[01;36mt01:40:10f0.jpg\u001b[00m -> \u001b[01;35m/home/eon/Desktop/ShowSegmentation/W5/2006-8hour-imagecluster/t01:40:10f0.jpg\u001b[00m\r\n",
      "│       └── \u001b[01;36mt01:40:12f0.jpg\u001b[00m -> \u001b[01;35m/home/eon/Desktop/ShowSegmentation/W5/2006-8hour-imagecluster/t01:40:12f0.jpg\u001b[00m\r\n",
      "├── \u001b[01;34mcluster_with_6\u001b[00m\r\n",
      "│   ├── \u001b[01;34mcluster_0\u001b[00m\r\n",
      "│   │   ├── \u001b[01;36mt01:40:18f0.jpg\u001b[00m -> \u001b[01;35m/home/eon/Desktop/ShowSegmentation/W5/2006-8hour-imagecluster/t01:40:18f0.jpg\u001b[00m\r\n",
      "│   │   ├── \u001b[01;36mt01:40:26f0.jpg\u001b[00m -> \u001b[01;35m/home/eon/Desktop/ShowSegmentation/W5/2006-8hour-imagecluster/t01:40:26f0.jpg\u001b[00m\r\n",
      "│   │   ├── \u001b[01;36mt01:40:30f0.jpg\u001b[00m -> \u001b[01;35m/home/eon/Desktop/ShowSegmentation/W5/2006-8hour-imagecluster/t01:40:30f0.jpg\u001b[00m\r\n",
      "│   │   ├── \u001b[01;36mt01:40:40f0.jpg\u001b[00m -> \u001b[01;35m/home/eon/Desktop/ShowSegmentation/W5/2006-8hour-imagecluster/t01:40:40f0.jpg\u001b[00m\r\n",
      "│   │   ├── \u001b[01;36mt01:40:54f0.jpg\u001b[00m -> \u001b[01;35m/home/eon/Desktop/ShowSegmentation/W5/2006-8hour-imagecluster/t01:40:54f0.jpg\u001b[00m\r\n",
      "│   │   └── \u001b[01;36mt01:40:56f0.jpg\u001b[00m -> \u001b[01;35m/home/eon/Desktop/ShowSegmentation/W5/2006-8hour-imagecluster/t01:40:56f0.jpg\u001b[00m\r\n",
      "│   ├── \u001b[01;34mcluster_1\u001b[00m\r\n",
      "│   │   ├── \u001b[01;36mt01:40:04f0.jpg\u001b[00m -> \u001b[01;35m/home/eon/Desktop/ShowSegmentation/W5/2006-8hour-imagecluster/t01:40:04f0.jpg\u001b[00m\r\n",
      "│   │   ├── \u001b[01;36mt01:40:08f0.jpg\u001b[00m -> \u001b[01;35m/home/eon/Desktop/ShowSegmentation/W5/2006-8hour-imagecluster/t01:40:08f0.jpg\u001b[00m\r\n",
      "│   │   ├── \u001b[01;36mt01:40:36f0.jpg\u001b[00m -> \u001b[01;35m/home/eon/Desktop/ShowSegmentation/W5/2006-8hour-imagecluster/t01:40:36f0.jpg\u001b[00m\r\n",
      "│   │   ├── \u001b[01;36mt01:40:42f0.jpg\u001b[00m -> \u001b[01;35m/home/eon/Desktop/ShowSegmentation/W5/2006-8hour-imagecluster/t01:40:42f0.jpg\u001b[00m\r\n",
      "│   │   ├── \u001b[01;36mt01:40:48f0.jpg\u001b[00m -> \u001b[01;35m/home/eon/Desktop/ShowSegmentation/W5/2006-8hour-imagecluster/t01:40:48f0.jpg\u001b[00m\r\n",
      "│   │   └── \u001b[01;36mt01:40:52f0.jpg\u001b[00m -> \u001b[01;35m/home/eon/Desktop/ShowSegmentation/W5/2006-8hour-imagecluster/t01:40:52f0.jpg\u001b[00m\r\n",
      "│   └── \u001b[01;34mcluster_2\u001b[00m\r\n",
      "│       ├── \u001b[01;36mt01:39:07f0.jpg\u001b[00m -> \u001b[01;35m/home/eon/Desktop/ShowSegmentation/W5/2006-8hour-imagecluster/t01:39:07f0.jpg\u001b[00m\r\n",
      "│       ├── \u001b[01;36mt01:39:09f0.jpg\u001b[00m -> \u001b[01;35m/home/eon/Desktop/ShowSegmentation/W5/2006-8hour-imagecluster/t01:39:09f0.jpg\u001b[00m\r\n",
      "│       ├── \u001b[01;36mt01:39:13f0.jpg\u001b[00m -> \u001b[01;35m/home/eon/Desktop/ShowSegmentation/W5/2006-8hour-imagecluster/t01:39:13f0.jpg\u001b[00m\r\n",
      "│       ├── \u001b[01;36mt01:39:15f0.jpg\u001b[00m -> \u001b[01;35m/home/eon/Desktop/ShowSegmentation/W5/2006-8hour-imagecluster/t01:39:15f0.jpg\u001b[00m\r\n",
      "│       ├── \u001b[01;36mt01:39:17f0.jpg\u001b[00m -> \u001b[01;35m/home/eon/Desktop/ShowSegmentation/W5/2006-8hour-imagecluster/t01:39:17f0.jpg\u001b[00m\r\n",
      "│       └── \u001b[01;36mt02:04:59f0.jpg\u001b[00m -> \u001b[01;35m/home/eon/Desktop/ShowSegmentation/W5/2006-8hour-imagecluster/t02:04:59f0.jpg\u001b[00m\r\n",
      "└── \u001b[01;34mcluster_with_9\u001b[00m\r\n",
      "    └── \u001b[01;34mcluster_0\u001b[00m\r\n",
      "        ├── \u001b[01;36mt01:44:10f0.jpg\u001b[00m -> \u001b[01;35m/home/eon/Desktop/ShowSegmentation/W5/2006-8hour-imagecluster/t01:44:10f0.jpg\u001b[00m\r\n",
      "        ├── \u001b[01;36mt01:44:12f0.jpg\u001b[00m -> \u001b[01;35m/home/eon/Desktop/ShowSegmentation/W5/2006-8hour-imagecluster/t01:44:12f0.jpg\u001b[00m\r\n",
      "        ├── \u001b[01;36mt01:44:14f0.jpg\u001b[00m -> \u001b[01;35m/home/eon/Desktop/ShowSegmentation/W5/2006-8hour-imagecluster/t01:44:14f0.jpg\u001b[00m\r\n",
      "        ├── \u001b[01;36mt01:44:16f0.jpg\u001b[00m -> \u001b[01;35m/home/eon/Desktop/ShowSegmentation/W5/2006-8hour-imagecluster/t01:44:16f0.jpg\u001b[00m\r\n",
      "        ├── \u001b[01;36mt01:57:05f0.jpg\u001b[00m -> \u001b[01;35m/home/eon/Desktop/ShowSegmentation/W5/2006-8hour-imagecluster/t01:57:05f0.jpg\u001b[00m\r\n",
      "        ├── \u001b[01;36mt01:57:07f0.jpg\u001b[00m -> \u001b[01;35m/home/eon/Desktop/ShowSegmentation/W5/2006-8hour-imagecluster/t01:57:07f0.jpg\u001b[00m\r\n",
      "        ├── \u001b[01;36mt01:57:09f0.jpg\u001b[00m -> \u001b[01;35m/home/eon/Desktop/ShowSegmentation/W5/2006-8hour-imagecluster/t01:57:09f0.jpg\u001b[00m\r\n",
      "        ├── \u001b[01;36mt01:57:11f0.jpg\u001b[00m -> \u001b[01;35m/home/eon/Desktop/ShowSegmentation/W5/2006-8hour-imagecluster/t01:57:11f0.jpg\u001b[00m\r\n",
      "        └── \u001b[01;36mt01:57:13f0.jpg\u001b[00m -> \u001b[01;35m/home/eon/Desktop/ShowSegmentation/W5/2006-8hour-imagecluster/t01:57:13f0.jpg\u001b[00m\r\n",
      "\r\n",
      "79 directories, 224 files\r\n"
     ]
    }
   ],
   "source": [
    "!tree 2006-8hour-imagecluster/imagecluster/clusters"
   ]
  },
  {
   "cell_type": "markdown",
   "metadata": {},
   "source": [
    "### 2D Scatter plot -> (feature1 and feature2 on y-axis, time on x-axis)"
   ]
  },
  {
   "cell_type": "code",
   "execution_count": 53,
   "metadata": {},
   "outputs": [
    {
     "name": "stderr",
     "output_type": "stream",
     "text": [
      "100%|██████████| 22/22 [00:02<00:00,  7.39it/s]\n"
     ]
    }
   ],
   "source": [
    "traces = []\n",
    "fakeroot=root+'/imagecluster/clusters/'\n",
    "for clusterDir in tqdm(os.listdir(fakeroot)):\n",
    "    for cluster in os.listdir(fakeroot+clusterDir):\n",
    "        encodings_ = []\n",
    "        for image_file in os.listdir(fakeroot+clusterDir+'/'+cluster):\n",
    "            encodings_.append(encodings3D[root+'/'+image_file])          \n",
    "        \n",
    "        encodings_ = np.array(encodings_)\n",
    "        x = encodings_[:,0]\n",
    "        y = encodings_[:,1]\n",
    "        z = encodings_[:,2] #time\n",
    "        #Generating random color  for this cluster\n",
    "        #r, g, b = random.sample(range(0, 256), 3)\n",
    "        #a = random.uniform(0.2,1)\n",
    "        trace0 = go.Scatter(\n",
    "            x=z,\n",
    "            y=x,\n",
    "            mode='markers',\n",
    "            name = clusterDir+'/'+cluster+'0',\n",
    "            marker=dict(\n",
    "                size=12,\n",
    "                line=dict(\n",
    "                color='red',\n",
    "                width=0.5\n",
    "                ),\n",
    "                opacity=0.8\n",
    "            )\n",
    "        )\n",
    "        trace1 = go.Scatter(\n",
    "            x=z,\n",
    "            y=y,\n",
    "            mode='markers',\n",
    "            name = clusterDir+'/'+cluster+'1',\n",
    "            marker=dict(\n",
    "                size=12,\n",
    "                line=dict(\n",
    "                color='blue',\n",
    "                width=0.5\n",
    "                ),\n",
    "                opacity=0.8\n",
    "            )\n",
    "        )\n",
    "        traces.append(trace0)\n",
    "        traces.append(trace1)"
   ]
  },
  {
   "cell_type": "code",
   "execution_count": 54,
   "metadata": {},
   "outputs": [],
   "source": [
    "layout = go.Layout(\n",
    "    margin=dict(\n",
    "        l=0,\n",
    "        r=0,\n",
    "        b=0,\n",
    "        t=0\n",
    "    )\n",
    ")"
   ]
  },
  {
   "cell_type": "code",
   "execution_count": 55,
   "metadata": {},
   "outputs": [
    {
     "data": {
      "text/html": [
       "<iframe id=\"igraph\" scrolling=\"no\" style=\"border:none;\" seamless=\"seamless\" src=\"https://plot.ly/~eonr/16.embed\" height=\"525px\" width=\"100%\"></iframe>"
      ],
      "text/plain": [
       "<chart_studio.tools.PlotlyDisplay object>"
      ]
     },
     "execution_count": 55,
     "metadata": {},
     "output_type": "execute_result"
    }
   ],
   "source": [
    "fig = go.Figure(data=traces, layout=layout)\n",
    "py.iplot(fig, filename='8hour-imageclusters_visualized_2D')"
   ]
  },
  {
   "cell_type": "code",
   "execution_count": 24,
   "metadata": {},
   "outputs": [
    {
     "name": "stderr",
     "output_type": "stream",
     "text": [
      "/home/eon/anaconda3/lib/python3.7/site-packages/IPython/core/display.py:689: UserWarning:\n",
      "\n",
      "Consider using IPython.display.IFrame instead\n",
      "\n"
     ]
    },
    {
     "data": {
      "text/html": [
       "<iframe id=\"igraph\" scrolling=\"no\" style=\"border:none;\" seamless=\"seamless\" src=\"https://plot.ly/~eonr/12.embed\" height=\"525px\" width=\"100%\"></iframe>"
      ],
      "text/plain": [
       "<chart_studio.tools.PlotlyDisplay object>"
      ]
     },
     "execution_count": 24,
     "metadata": {},
     "output_type": "execute_result"
    }
   ],
   "source": [
    "fig = go.Figure(data=traces, layout=layout)\n",
    "py.iplot(fig, filename='2hour-imageclusters_visualized_2D')"
   ]
  },
  {
   "cell_type": "markdown",
   "metadata": {},
   "source": [
    "### 3D Scatter plot -> (feature1, feature2, time)"
   ]
  },
  {
   "cell_type": "code",
   "execution_count": 50,
   "metadata": {},
   "outputs": [
    {
     "name": "stderr",
     "output_type": "stream",
     "text": [
      "100%|██████████| 22/22 [00:01<00:00, 14.81it/s]\n"
     ]
    }
   ],
   "source": [
    "traces = []\n",
    "fakeroot=root+'/imagecluster/clusters/'\n",
    "for clusterDir in tqdm(os.listdir(fakeroot)):\n",
    "    for cluster in os.listdir(fakeroot+clusterDir):\n",
    "        encodings_ = []\n",
    "        for image_file in os.listdir(fakeroot+clusterDir+'/'+cluster):\n",
    "            encodings_.append(encodings3D[root+'/'+image_file])          \n",
    "        \n",
    "        encodings_ = np.array(encodings_)\n",
    "        x = encodings_[:,0]\n",
    "        y = encodings_[:,1]\n",
    "        z = encodings_[:,2] #time\n",
    "        #Generating random color  for this cluster\n",
    "        r, g, b = random.sample(range(0, 256), 3)\n",
    "        a = random.uniform(0.2,1)\n",
    "        trace = go.Scatter3d(\n",
    "            x=x,\n",
    "            y=y,\n",
    "            z=z,\n",
    "            mode='markers',\n",
    "            name = clusterDir+'/'+cluster,\n",
    "            marker=dict(\n",
    "                size=12,\n",
    "                line=dict(\n",
    "                color='rgba({}, {}, {}, {})'.format(r,g,b,a),\n",
    "                width=0.5\n",
    "                ),\n",
    "                opacity=0.8\n",
    "            )\n",
    "        )\n",
    "        traces.append(trace)"
   ]
  },
  {
   "cell_type": "code",
   "execution_count": 51,
   "metadata": {},
   "outputs": [],
   "source": [
    "layout = go.Layout( scene = dict(\n",
    "                    xaxis = dict(\n",
    "                        title='feature-1'),\n",
    "                    yaxis = dict(\n",
    "                        title='feature-2'),\n",
    "                    zaxis = dict(\n",
    "                        title='Time'),),\n",
    "    margin=dict(\n",
    "        l=0,\n",
    "        r=0,\n",
    "        b=0,\n",
    "        t=0\n",
    "    ),\n",
    "    \n",
    ")"
   ]
  },
  {
   "cell_type": "code",
   "execution_count": 52,
   "metadata": {},
   "outputs": [
    {
     "data": {
      "text/html": [
       "<iframe id=\"igraph\" scrolling=\"no\" style=\"border:none;\" seamless=\"seamless\" src=\"https://plot.ly/~eonr/18.embed\" height=\"525px\" width=\"100%\"></iframe>"
      ],
      "text/plain": [
       "<chart_studio.tools.PlotlyDisplay object>"
      ]
     },
     "execution_count": 52,
     "metadata": {},
     "output_type": "execute_result"
    }
   ],
   "source": [
    "fig = go.Figure(data=traces, layout=layout)\n",
    "py.iplot(fig, filename='8hour-imageclusters_visualized_3D')"
   ]
  },
  {
   "cell_type": "code",
   "execution_count": 21,
   "metadata": {},
   "outputs": [],
   "source": [
    "ping_telegram('8 hours done!')"
   ]
  },
  {
   "cell_type": "code",
   "execution_count": 19,
   "metadata": {},
   "outputs": [
    {
     "data": {
      "text/html": [
       "<iframe id=\"igraph\" scrolling=\"no\" style=\"border:none;\" seamless=\"seamless\" src=\"https://plot.ly/~eonr/10.embed\" height=\"525px\" width=\"100%\"></iframe>"
      ],
      "text/plain": [
       "<chart_studio.tools.PlotlyDisplay object>"
      ]
     },
     "execution_count": 19,
     "metadata": {},
     "output_type": "execute_result"
    }
   ],
   "source": [
    "fig = go.Figure(data=traces, layout=layout)\n",
    "py.iplot(fig, filename='2hour-imageclusters_visualized')"
   ]
  },
  {
   "cell_type": "code",
   "execution_count": 86,
   "metadata": {},
   "outputs": [
    {
     "name": "stderr",
     "output_type": "stream",
     "text": [
      "/home/eon/anaconda3/lib/python3.7/site-packages/IPython/core/display.py:689: UserWarning:\n",
      "\n",
      "Consider using IPython.display.IFrame instead\n",
      "\n"
     ]
    },
    {
     "data": {
      "text/html": [
       "<iframe id=\"igraph\" scrolling=\"no\" style=\"border:none;\" seamless=\"seamless\" src=\"https://plot.ly/~eonr/8.embed\" height=\"525px\" width=\"100%\"></iframe>"
      ],
      "text/plain": [
       "<chart_studio.tools.PlotlyDisplay object>"
      ]
     },
     "execution_count": 86,
     "metadata": {},
     "output_type": "execute_result"
    }
   ],
   "source": [
    "fig = go.Figure(data=traces, layout=layout)\n",
    "py.iplot(fig, filename='imageclusters_visualized')"
   ]
  }
 ],
 "metadata": {
  "kernelspec": {
   "display_name": "Python 3",
   "language": "python",
   "name": "python3"
  },
  "language_info": {
   "codemirror_mode": {
    "name": "ipython",
    "version": 3
   },
   "file_extension": ".py",
   "mimetype": "text/x-python",
   "name": "python",
   "nbconvert_exporter": "python",
   "pygments_lexer": "ipython3",
   "version": "3.7.3"
  },
  "widgets": {
   "application/vnd.jupyter.widget-state+json": {
    "state": {},
    "version_major": 2,
    "version_minor": 0
   }
  }
 },
 "nbformat": 4,
 "nbformat_minor": 2
}
