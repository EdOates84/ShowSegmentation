{
 "cells": [
  {
   "cell_type": "markdown",
   "metadata": {},
   "source": [
    "# Inference from host faces"
   ]
  },
  {
   "cell_type": "code",
   "execution_count": 1,
   "metadata": {},
   "outputs": [],
   "source": [
    "import os\n",
    "import shutil\n",
    "import subprocess\n",
    "import matplotlib\n",
    "from matplotlib.pyplot import figure\n",
    "from datetime import datetime\n",
    "import time as tm\n",
    "from PIL import Image\n",
    "import cv2\n",
    "import pickle\n",
    "import random\n",
    "import face_recognition\n",
    "from tqdm import tqdm\n",
    "import numpy as np\n",
    "import pandas as pd\n",
    "import matplotlib.pyplot as plt\n",
    "import telegram"
   ]
  },
  {
   "cell_type": "code",
   "execution_count": 2,
   "metadata": {},
   "outputs": [],
   "source": [
    "keys = open('../telegram_keys','r')\n",
    "token,chat_id=keys.read().split(',')\n",
    "def ping_telegram(text):\n",
    "    import telegram\n",
    "    bot = telegram.Bot(token=token)\n",
    "    bot.send_message(chat_id=chat_id[:-1], text = text )"
   ]
  },
  {
   "cell_type": "code",
   "execution_count": 3,
   "metadata": {},
   "outputs": [],
   "source": [
    "def loadPickle(filename):\n",
    "    infile = open(filename,'rb')\n",
    "    return pickle.load(infile)\n",
    "\n",
    "def storePickle(filename, data):\n",
    "    file = open(filename,'wb')\n",
    "    pickle.dump(data, file)\n",
    "    file.close() "
   ]
  },
  {
   "cell_type": "markdown",
   "metadata": {},
   "source": [
    "## Face encodings using <a href=\"https://github.com/ageitgey/face_recognition\">face_recognition</a>"
   ]
  },
  {
   "cell_type": "code",
   "execution_count": 4,
   "metadata": {},
   "outputs": [],
   "source": [
    "def sec2HMS(seconds):\n",
    "    #seconds = int(seconds)\n",
    "    return tm.strftime('%H:%M:%S', tm.gmtime(seconds))"
   ]
  },
  {
   "cell_type": "code",
   "execution_count": 5,
   "metadata": {},
   "outputs": [],
   "source": [
    "def getFaceEncodings(vid_path, dirName, interval=60, model = 'hog', store=False):\n",
    "    \"\"\" Returns 129D encodings for each face present in the video\n",
    "        First 128 are the face encodings and the last value is the time.\n",
    "        \n",
    "       :param interval: (in seconds) frame interval to skip and look for faces\n",
    "       :param model: 'hog' is less accurate but faster compared to 'cnn'\n",
    "       :param store: if True, stores the faces in directory specified by dirName \"\"\"\n",
    "    vidcap = cv2.VideoCapture(vid_path)\n",
    "    fps = vidcap.get(cv2.CAP_PROP_FPS)\n",
    "    print(\"FPS of the video: {}\".format(fps))\n",
    "    allEncodings = [] #Dict mapping face jpg to its encodings\n",
    "    n_frame = 0 # no. of frame being processed\n",
    "    if not os.path.exists(dirName):\n",
    "        os.mkdir(dirName)\n",
    "    success, frame = vidcap.read()\n",
    "    while success:\n",
    "        rgb = cv2.cvtColor(frame,cv2.COLOR_BGR2RGB)\n",
    "        time = int(n_frame/fps)\n",
    "        #print(time)\n",
    "        bboxes = face_recognition.face_locations(rgb,model=model)\n",
    "        encodings = face_recognition.face_encodings(rgb,bboxes)\n",
    "        for i,bbox in enumerate(bboxes): #for each found face in the frame\n",
    "            top,right,bottom,left = bbox[0],bbox[1],bbox[2],bbox[3]\n",
    "            face_img = frame[top:bottom, left:right]\n",
    "            \n",
    "            if store:\n",
    "                filename = dirName+\"/t\"+sec2HMS(n_frame/fps)+\"f\"+str(i)+\".jpg\"\n",
    "                cv2.imwrite(filename, face_img)\n",
    "                \n",
    "            encod_with_time = np.append(encodings[i],time)\n",
    "            allEncodings.append(encod_with_time)\n",
    "            \n",
    "        n_frame += interval            \n",
    "        vidcap.set(cv2.CAP_PROP_POS_FRAMES,n_frame)\n",
    "        success, frame = vidcap.read()    \n",
    "    #Pickling data as a binary stream \n",
    "    file = open(dirName+'/faceEncodingsPickle','wb')\n",
    "    pickle.dump(allEncodings, file)\n",
    "    file.close()\n",
    "    return allEncodings"
   ]
  },
  {
   "cell_type": "code",
   "execution_count": null,
   "metadata": {
    "scrolled": true
   },
   "outputs": [],
   "source": [
    "try:\n",
    "    encodings = getFaceEncodings(\"../data/2006-2Hours.mp4\",dirName=\"2006-2Hours\",store=True)\n",
    "except:\n",
    "    ping_telegram(\"ERROR\")\n",
    "ping_telegram('Face encodings for 2 hours are ready')"
   ]
  },
  {
   "cell_type": "code",
   "execution_count": null,
   "metadata": {},
   "outputs": [],
   "source": [
    "try:\n",
    "    encodings = getFaceEncodings(\"../data/2006-01-02_0000_US_00001057_V11_M2_VHS10_H4_JA.mp4\",dirName=\"2006-8Hours\",store=False)\n",
    "except:\n",
    "    ping_telegram(\"ERROR\")\n",
    "ping_telegram('Face encodings for 8 hours are ready')"
   ]
  },
  {
   "cell_type": "code",
   "execution_count": 155,
   "metadata": {},
   "outputs": [
    {
     "name": "stdout",
     "output_type": "stream",
     "text": [
      "(72, 129)\n",
      "First 128 are encodings, the last value stores the time\n"
     ]
    }
   ],
   "source": [
    "encodings = np.array(encodings)\n",
    "print(encodings.shape)\n",
    "print(\"First 128 are encodings, the last value stores the time\")"
   ]
  },
  {
   "cell_type": "markdown",
   "metadata": {},
   "source": [
    "## Clustering faces"
   ]
  },
  {
   "cell_type": "code",
   "execution_count": 6,
   "metadata": {},
   "outputs": [],
   "source": [
    "def findFaces(image_path, model=\"cnn\"):\n",
    "    \"\"\"Returns b-boxes and encodings of all faces present in the image\n",
    "    \n",
    "    :param image: must be in RGB format\n",
    "    :param model: hog is less accurate but faster compared to cnn\n",
    "\n",
    "    boxes    : list of bboxes, each a tuple of size 4\n",
    "    encodings: list of 128-d encodings for each face\"\"\"\n",
    "    im = Image.open(image_path)\n",
    "    image = face_recognition.load_image_file(image_path)\n",
    "    width, height = im.size\n",
    "    boxes = [(0,width,height,0)]\n",
    "    encodings = face_recognition.face_encodings(image,boxes)\n",
    "    return boxes, encodings"
   ]
  },
  {
   "cell_type": "code",
   "execution_count": 7,
   "metadata": {},
   "outputs": [],
   "source": [
    "def HMS2sec(time_str):\n",
    "    h, m, s = time_str.split(':')\n",
    "    return int(h) * 3600 + int(m) * 60 + int(s)"
   ]
  },
  {
   "cell_type": "code",
   "execution_count": 8,
   "metadata": {},
   "outputs": [],
   "source": [
    "def file2encoding(vid_path, dirName, interval=60, model = 'hog', store=False):\n",
    "    \"\"\" Returns 129D encodings for each face present in the video\n",
    "        First 128 are the face encodings and the last value is the time.\n",
    "        \n",
    "       :param interval: (in seconds) frame interval to skip and look for faces\n",
    "       :param model: 'hog' is less accurate but faster compared to 'cnn'\n",
    "       :param store: if True, stores the faces in directory specified by dirName \"\"\"\n",
    "    vidcap = cv2.VideoCapture(vid_path)\n",
    "    fps = vidcap.get(cv2.CAP_PROP_FPS)\n",
    "    print(\"FPS of the video: {}\".format(fps))\n",
    "    allEncodings = {} #Dict mapping face jpg to its encodings\n",
    "    n_frame = 0 # no. of frame being processed\n",
    "    if not os.path.exists(dirName):\n",
    "        os.mkdir(dirName)\n",
    "    success, frame = vidcap.read()\n",
    "    while success:\n",
    "        rgb = cv2.cvtColor(frame,cv2.COLOR_BGR2RGB)\n",
    "        time = int(n_frame/fps)\n",
    "        #print(time)\n",
    "        bboxes = face_recognition.face_locations(rgb,model=model)\n",
    "        encodings = face_recognition.face_encodings(rgb,bboxes)\n",
    "        for i,bbox in enumerate(bboxes): #for each found face in the frame\n",
    "            top,right,bottom,left = bbox[0],bbox[1],bbox[2],bbox[3]\n",
    "            face_img = frame[top:bottom, left:right]\n",
    "            \n",
    "            if store:\n",
    "                filename = dirName+\"/t\"+sec2HMS(n_frame/fps)+\"f\"+str(i)+\".jpg\"\n",
    "                cv2.imwrite(filename, face_img)\n",
    "                \n",
    "            encod_with_time = np.append(encodings[i],time)\n",
    "            allEncodings[filename]=(encod_with_time)\n",
    "            \n",
    "        n_frame += interval            \n",
    "        vidcap.set(cv2.CAP_PROP_POS_FRAMES,n_frame)\n",
    "        success, frame = vidcap.read()    \n",
    "    #Pickling data as a binary stream \n",
    "    file = open(dirName+'/faceEncodingsPickle','wb')\n",
    "    pickle.dump(allEncodings, file)\n",
    "    file.close()\n",
    "    return allEncodings"
   ]
  },
  {
   "cell_type": "code",
   "execution_count": 9,
   "metadata": {},
   "outputs": [],
   "source": [
    "root = '2006-8hour-imagecluster' #directory to store the encodings, faces and face_clusters in"
   ]
  },
  {
   "cell_type": "code",
   "execution_count": 33,
   "metadata": {
    "scrolled": true
   },
   "outputs": [
    {
     "name": "stdout",
     "output_type": "stream",
     "text": [
      "FPS of the video: 29.97\n"
     ]
    }
   ],
   "source": [
    "encodings= file2encoding('../data/2006-01-02_0000_US_00001057_V11_M2_VHS10_H4_JA.mp4',dirName=root,store=True) #TODO - make this \"../data/2006-2Hours.mp4\""
   ]
  },
  {
   "cell_type": "code",
   "execution_count": 10,
   "metadata": {},
   "outputs": [],
   "source": [
    "#Loading pickle\n",
    "infile = open('faceEncodingsPickle','rb')\n",
    "encodings = pickle.load(infile)"
   ]
  },
  {
   "cell_type": "code",
   "execution_count": 11,
   "metadata": {},
   "outputs": [],
   "source": [
    "keys = encodings.keys()\n",
    "values = np.array(list(encodings.values()))\n",
    "\n",
    "data = StandardScaler().fit_transform(values[:,:-1]) #Leaving out time for PCA\n",
    "pca = PCA(n_components=2)\n",
    "features2D = pca.fit_transform(data)\n",
    "\n",
    "encodings3D = {}\n",
    "for i,key in enumerate(keys):\n",
    "    feature1 = features2D[i,0]\n",
    "    feature2 = features2D[i,1]\n",
    "    time = values[i,-1]\n",
    "    encodings3D[key] = np.array([feature1, feature2, time])"
   ]
  },
  {
   "cell_type": "markdown",
   "metadata": {},
   "source": [
    "#### Clustering using <a href=\"https://github.com/elcorto/imagecluster\">imagecluster</a>"
   ]
  },
  {
   "cell_type": "code",
   "execution_count": 2,
   "metadata": {},
   "outputs": [
    {
     "name": "stderr",
     "output_type": "stream",
     "text": [
      "Using TensorFlow backend.\n"
     ]
    }
   ],
   "source": [
    "from imagecluster import main"
   ]
  },
  {
   "cell_type": "code",
   "execution_count": null,
   "metadata": {},
   "outputs": [],
   "source": [
    "try:\n",
    "    main.main('2006-8hour-imagecluster/',sim=0.7,vis=False)\n",
    "    ping_telegram('Clustering is done!')\n",
    "except:\n",
    "    ping_telegram('Error :(')"
   ]
  },
  {
   "cell_type": "code",
   "execution_count": null,
   "metadata": {
    "scrolled": true
   },
   "outputs": [],
   "source": [
    "!tree 2006-8hour-imagecluster/imagecluster/clusters"
   ]
  },
  {
   "cell_type": "markdown",
   "metadata": {},
   "source": [
    "## Black frames "
   ]
  },
  {
   "cell_type": "code",
   "execution_count": 9,
   "metadata": {},
   "outputs": [],
   "source": [
    "import plotly\n",
    "file = open('plotly_key','r')\n",
    "plotly_key = (file.read()[:-1])\n",
    "plotly.tools.set_credentials_file(username='eonr', api_key=plotly_key)\n",
    "import plotly.plotly as py\n",
    "import plotly.graph_objs as go"
   ]
  },
  {
   "cell_type": "code",
   "execution_count": 10,
   "metadata": {},
   "outputs": [],
   "source": [
    "def findBlacks(vid_path):\n",
    "    times = []\n",
    "    blackFrames = []\n",
    "    vidcap = cv2.VideoCapture(vid_path)\n",
    "    n_frame = 0 # no. of frame being processed\n",
    "    fps = vidcap.get(cv2.CAP_PROP_FPS)\n",
    "    print(\"FPS of the video: {}\".format(fps))\n",
    "    success, frame = vidcap.read()\n",
    "    printed = 0\n",
    "    while success:\n",
    "        frame = cv2.cvtColor(frame, cv2.COLOR_BGR2GRAY)\n",
    "        time = int(n_frame/fps)\n",
    "        if(time%1000==0):\n",
    "            if (printed==0):\n",
    "                print('Time: '+str(time))\n",
    "                printed=1\n",
    "        else:\n",
    "            printed=0\n",
    "        time=sec2HMS(time)\n",
    "        if(np.max(frame) < 20):\n",
    "            print('Black frame found at '+time)\n",
    "            times.append(time)\n",
    "            blackFrames.append(1)\n",
    "        else:\n",
    "            blackFrames.append(0)\n",
    "        n_frame+=1\n",
    "        success, frame = vidcap.read()\n",
    "    return times,blackFrames"
   ]
  },
  {
   "cell_type": "code",
   "execution_count": 11,
   "metadata": {},
   "outputs": [],
   "source": [
    "def getStreak(array, radius):\n",
    "    newarray = []\n",
    "    for i in range(radius,len(array)-radius):\n",
    "        newarray.append(sum(array[i-radius:i+radius]))\n",
    "    return newarray"
   ]
  },
  {
   "cell_type": "code",
   "execution_count": null,
   "metadata": {},
   "outputs": [],
   "source": [
    "times,blackFrames = findBlacks('../data/2006-01-02_0000_US_00001057_V11_M2_VHS10_H4_JA.mp4')\n",
    "storePickle('2006-8hour-blacks-tuple',(times,blackFrames))"
   ]
  },
  {
   "cell_type": "code",
   "execution_count": 12,
   "metadata": {},
   "outputs": [],
   "source": [
    "times,blackFrames = loadPickle('2006-8hour-blacks-tuple')"
   ]
  },
  {
   "cell_type": "code",
   "execution_count": 13,
   "metadata": {},
   "outputs": [
    {
     "name": "stdout",
     "output_type": "stream",
     "text": [
      "Percentage of black frames: 0.1507751330418573\n"
     ]
    }
   ],
   "source": [
    "count=0\n",
    "for x in blackFrames:\n",
    "    if(x==1):\n",
    "        count+=1\n",
    "print('Percentage of black frames: '+str(count*100/len(blackFrames)))"
   ]
  },
  {
   "cell_type": "code",
   "execution_count": 14,
   "metadata": {},
   "outputs": [],
   "source": [
    "#Binning\n",
    "localBlacks=[]\n",
    "binsize=100\n",
    "for i in range(len(blackFrames[:1-binsize])):\n",
    "    summ=0\n",
    "    for j in range(binsize):\n",
    "        summ+=blackFrames[i+j]\n",
    "    localBlacks.append(summ)\n",
    "topBlacks = sorted(range(len(localBlacks)), key=lambda i: localBlacks[i])[-100:]"
   ]
  },
  {
   "cell_type": "code",
   "execution_count": 304,
   "metadata": {},
   "outputs": [],
   "source": [
    "totalFrames=len(localBlacks)\n",
    "xaxis = [datetime.strptime(sec2HMS(secs),\"%H:%M:%S\") for secs in range(totalFrames)]"
   ]
  },
  {
   "cell_type": "code",
   "execution_count": null,
   "metadata": {},
   "outputs": [],
   "source": [
    "HMS2sec('00:59:36')*30"
   ]
  },
  {
   "cell_type": "code",
   "execution_count": 351,
   "metadata": {},
   "outputs": [
    {
     "data": {
      "text/plain": [
       "'00:50:00'"
      ]
     },
     "execution_count": 351,
     "metadata": {},
     "output_type": "execute_result"
    }
   ],
   "source": [
    "sec2HMS((80000+7500+2000+500)/30)"
   ]
  },
  {
   "cell_type": "code",
   "execution_count": 314,
   "metadata": {},
   "outputs": [],
   "source": [
    "blackStreak = getStreak(blackFrames,60)"
   ]
  },
  {
   "cell_type": "code",
   "execution_count": 315,
   "metadata": {},
   "outputs": [
    {
     "data": {
      "image/png": "[encoded data removed]",
      "text/plain": [
       "<Figure size 432x288 with 1 Axes>"
      ]
     },
     "metadata": {
      "needs_background": "light"
     },
     "output_type": "display_data"
    }
   ],
   "source": [
    "plt.plot(blackStreak)\n",
    "plt.show()"
   ]
  },
  {
   "cell_type": "code",
   "execution_count": 145,
   "metadata": {},
   "outputs": [],
   "source": [
    "import collections\n",
    "from collections import Counter\n",
    "timedict = (Counter(times))"
   ]
  },
  {
   "cell_type": "code",
   "execution_count": 185,
   "metadata": {},
   "outputs": [],
   "source": [
    "x = []\n",
    "y = []\n",
    "for HMS in timedict:\n",
    "    x.append(datetime.strptime(HMS,\"%H:%M:%S\"))\n",
    "    y.append(timedict[HMS])"
   ]
  },
  {
   "cell_type": "code",
   "execution_count": 189,
   "metadata": {},
   "outputs": [
    {
     "data": {
      "image/png": "[encoded data removed]",
      "text/plain": [
       "<Figure size 1152x648 with 1 Axes>"
      ]
     },
     "metadata": {
      "needs_background": "light"
     },
     "output_type": "display_data"
    }
   ],
   "source": [
    "plt.plot(x,y)\n",
    "plt.rcParams[\"figure.figsize\"] = [16,9]\n",
    "plt.xlabel('Time')\n",
    "plt.ylabel('no. of black frames')\n",
    "plt.show()"
   ]
  },
  {
   "cell_type": "markdown",
   "metadata": {},
   "source": [
    "## Face vs no-face"
   ]
  },
  {
   "cell_type": "code",
   "execution_count": 30,
   "metadata": {},
   "outputs": [],
   "source": [
    "## This section doesn't distinguish between faces of different actors (no clustering involved).\n",
    "## A frame with face is 1 and without a face is 0."
   ]
  },
  {
   "cell_type": "code",
   "execution_count": 31,
   "metadata": {},
   "outputs": [],
   "source": [
    "def readFaces(folder): \n",
    "    faces = []\n",
    "    for img in sorted(os.listdir(folder)):\n",
    "        time = img[1:9]\n",
    "        faces.append((time,1))\n",
    "    return faces"
   ]
  },
  {
   "cell_type": "code",
   "execution_count": 32,
   "metadata": {},
   "outputs": [],
   "source": [
    "faces_bin = readFaces('2006-8hour-imagecluster')"
   ]
  },
  {
   "cell_type": "code",
   "execution_count": 40,
   "metadata": {},
   "outputs": [],
   "source": [
    "faces_bin = faces_bin[1:] #Removing directory name"
   ]
  },
  {
   "cell_type": "code",
   "execution_count": 12,
   "metadata": {},
   "outputs": [],
   "source": [
    "def addEmptyFaces(faces, skip_gap):\n",
    "    \"\"\"Modifies faces dict to include timestamps where no faces are present\n",
    "       '-1' is the value assigned to these.\n",
    "       :skip_gap: 'interval' parameter given in file2encoding() function (in seconds)\"\"\"\n",
    "    min_time = HMS2sec(faces[0][0])\n",
    "    max_time = HMS2sec(faces[-1][0])\n",
    "    curr_time = min_time\n",
    "    faces_empty = []\n",
    "    counter = 0\n",
    "    \n",
    "    while (curr_time < max_time):\n",
    "        if(HMS2sec(faces[counter][0]) > curr_time): #No face found at this time\n",
    "            faces_empty.append((sec2HMS(curr_time), '-1'))\n",
    "        else:                              #Face was already marked at this time\n",
    "            faces_empty.append(faces[counter])\n",
    "            counter+=1\n",
    "        curr_time += skip_gap\n",
    "    return faces_empty"
   ]
  },
  {
   "cell_type": "code",
   "execution_count": 42,
   "metadata": {},
   "outputs": [],
   "source": [
    "faces_empty = addEmptyFaces(faces_bin, 2)\n",
    "#faces_empty_oh = [(x[0],onehot[x[1]]) for x in faces_empty] #onehotted"
   ]
  },
  {
   "cell_type": "code",
   "execution_count": 43,
   "metadata": {},
   "outputs": [
    {
     "data": {
      "text/plain": [
       "[('01:02:37', 1),\n",
       " ('01:02:39', 1),\n",
       " ('01:02:41', 1),\n",
       " ('01:02:43', 1),\n",
       " ('01:02:45', 1),\n",
       " ('01:02:47', 1),\n",
       " ('01:02:49', 1),\n",
       " ('01:02:51', 1),\n",
       " ('01:02:53', '-1'),\n",
       " ('01:02:55', '-1')]"
      ]
     },
     "execution_count": 43,
     "metadata": {},
     "output_type": "execute_result"
    }
   ],
   "source": [
    "faces_empty[10:20]"
   ]
  },
  {
   "cell_type": "code",
   "execution_count": 151,
   "metadata": {},
   "outputs": [],
   "source": [
    "isFace = [int(x[1]!='-1') for x in faces_empty]\n",
    "isNotFace = [1-x for x in isFace]"
   ]
  },
  {
   "cell_type": "code",
   "execution_count": 175,
   "metadata": {
    "scrolled": true
   },
   "outputs": [
    {
     "data": {
      "text/html": [
       "<iframe id=\"igraph\" scrolling=\"no\" style=\"border:none;\" seamless=\"seamless\" src=\"https://plot.ly/~eonr/20.embed\" height=\"525px\" width=\"100%\"></iframe>"
      ],
      "text/plain": [
       "<chart_studio.tools.PlotlyDisplay object>"
      ]
     },
     "execution_count": 175,
     "metadata": {},
     "output_type": "execute_result"
    }
   ],
   "source": [
    "radius = 30\n",
    "streak = getStreak(isNotFace, radius)\n",
    "min_x = HMS2sec(faces_empty[0][0])\n",
    "max_x = HMS2sec(faces_empty[-1][0])\n",
    "xaxis = np.arange(min_x+radius, max_x-radius+1, 2)\n",
    "#trace1 = go.Scatter(x = xaxis, y = isFace)\n",
    "trace2 = go.Scatter(x = xaxis, y = streak, mode='lines',\n",
    "    line = dict(\n",
    "        color = ('rgb(205, 12, 24)'),\n",
    "        width = 4))\n",
    "py.iplot([trace2], filename='Face or not')\n",
    "##Plot showing streak of consecutive frames without any faces in them."
   ]
  },
  {
   "cell_type": "markdown",
   "metadata": {},
   "source": [
    "# Inference from sequence of actor-faces"
   ]
  },
  {
   "cell_type": "code",
   "execution_count": 11,
   "metadata": {},
   "outputs": [],
   "source": [
    "def classifyFaces(folder, minimum_frequency=0):\n",
    "    \"\"\"***Made specific to *imagecluster* library***\n",
    "    Returns a list of 2d tuples. Each tuple contains the time of appearance\n",
    "    of the face and its class. \n",
    "    onehot - dict mapping class names from string to their numerical value\"\"\"\n",
    "    faces = []\n",
    "    classes = 0\n",
    "    onehot = {}\n",
    "    for cluster_with_size in os.listdir(folder):\n",
    "        size = int(cluster_with_size.split('_')[2])\n",
    "        if(size < minimum_frequency):\n",
    "            continue\n",
    "        #print('size: '+str(size))\n",
    "        for cluster_n in os.listdir(folder+'/'+cluster_with_size):\n",
    "            n = int(cluster_n.split('_')[1])\n",
    "            #print(n)\n",
    "            face_class = str(size)+'_'+str(n)\n",
    "            onehot[face_class] = classes\n",
    "            classes+=1\n",
    "            local_times = []\n",
    "            for face in os.listdir(folder+'/'+cluster_with_size+'/'+cluster_n):\n",
    "                face_time = face[1:9]\n",
    "                if face_time not in local_times:\n",
    "                    local_times.append(face_time)\n",
    "                    faces.append((face_time,face_class))\n",
    "    return faces, onehot"
   ]
  },
  {
   "cell_type": "code",
   "execution_count": 45,
   "metadata": {},
   "outputs": [],
   "source": [
    "folder = '2006-8hour-imagecluster/imagecluster/clusters'\n",
    "faces, onehot = classifyFaces(folder)\n",
    "onehot['-1'] = -1\n",
    "faces = sorted(faces, key = lambda x: HMS2sec(x[0]))\n",
    "faces_onehotted = [(x[0],onehot[x[1]]) for x in faces]"
   ]
  },
  {
   "cell_type": "code",
   "execution_count": 46,
   "metadata": {},
   "outputs": [
    {
     "data": {
      "text/plain": [
       "[('01:02:35', '6_5'),\n",
       " ('01:02:37', '9_3'),\n",
       " ('01:02:41', '6_5'),\n",
       " ('01:02:45', '9_3'),\n",
       " ('01:02:47', '6_5')]"
      ]
     },
     "execution_count": 46,
     "metadata": {},
     "output_type": "execute_result"
    }
   ],
   "source": [
    "faces[10:15]"
   ]
  },
  {
   "cell_type": "code",
   "execution_count": 47,
   "metadata": {},
   "outputs": [
    {
     "data": {
      "text/plain": [
       "[('01:02:35', 179),\n",
       " ('01:02:37', 196),\n",
       " ('01:02:41', 179),\n",
       " ('01:02:45', 196),\n",
       " ('01:02:47', 179)]"
      ]
     },
     "execution_count": 47,
     "metadata": {},
     "output_type": "execute_result"
    }
   ],
   "source": [
    "faces_onehotted[10:15]"
   ]
  },
  {
   "cell_type": "markdown",
   "metadata": {},
   "source": [
    "## Statistical inference from distribution of occurences of each actor's face"
   ]
  },
  {
   "cell_type": "code",
   "execution_count": 48,
   "metadata": {},
   "outputs": [],
   "source": [
    "face_occs = {} #Dict with key as face_class and value a list of \n",
    "                #all occurences(times) of that face in the video.\n",
    "for x in faces:\n",
    "    time = HMS2sec(x[0])\n",
    "    clas = x[1] \n",
    "    if x[1] in face_occs:\n",
    "        face_occs[clas].append(time)\n",
    "    else:\n",
    "        face_occs[clas] = [time]\n",
    "#Removing small clusters:\n",
    "for face in list(face_occs.keys()):\n",
    "    if len(face_occs[face])<=3:\n",
    "        face_occs.pop(face)"
   ]
  },
  {
   "cell_type": "code",
   "execution_count": 49,
   "metadata": {},
   "outputs": [
    {
     "data": {
      "text/plain": [
       "[7403, 8338, 9933, 9937, 9939, 9951, 9955, 10396, 10612, 10614]"
      ]
     },
     "execution_count": 49,
     "metadata": {},
     "output_type": "execute_result"
    }
   ],
   "source": [
    "#TEMP - due to currently used inconsistent face clustering method,\n",
    "# these 3 clusters are marked different when they're indeed same\n",
    "# Get rid of this after implementing better face clustering.\n",
    "for i in range(8,14):\n",
    "    face_occs[\"44_0\"] += face_occs[\"5_\"+str(i)]\n",
    "    face_occs.pop(\"5_\"+str(i))\n",
    "face_occs[\"20_0\"] += (face_occs[\"16_0\"])\n",
    "face_occs[\"20_0\"] += (face_occs[\"10_1\"])\n",
    "face_occs.pop(\"16_0\")\n",
    "face_occs.pop(\"10_1\")"
   ]
  },
  {
   "cell_type": "code",
   "execution_count": 50,
   "metadata": {},
   "outputs": [],
   "source": [
    "def normalize(l):\n",
    "    \"\"\"Returns a minmax normalized list\"\"\"\n",
    "    b = max(l)\n",
    "    a = min(l)\n",
    "    return [(x-a)/(b-a) for x in l]"
   ]
  },
  {
   "cell_type": "code",
   "execution_count": 51,
   "metadata": {},
   "outputs": [],
   "source": [
    "from statistics import variance,mean\n",
    "from math import sqrt\n",
    "\n",
    "face_dispersions = {}\n",
    "for clas,times in face_occs.items():\n",
    "#     times = normalize(times)\n",
    "    face_dispersions[clas] = sqrt(variance(times))/mean(times)\n",
    "#     face_dispersions[clas] = max(times) - min(times)"
   ]
  },
  {
   "cell_type": "code",
   "execution_count": null,
   "metadata": {},
   "outputs": [],
   "source": [
    "for x,y in face_dispersions.items():\n",
    "    print(x+': '+str(y))\n",
    "    \n",
    "##Result: no noticable difference between dispersions of hosts and non-hosts. \n",
    "##TODO: https://stats.stackexchange.com/questions/122668/is-there-a-measure-of-evenness-of-spread"
   ]
  },
  {
   "cell_type": "code",
   "execution_count": 54,
   "metadata": {},
   "outputs": [
    {
     "data": {
      "text/plain": [
       "[3737, 5461, 5743, 6102, 6108, 9211, 9221]"
      ]
     },
     "execution_count": 54,
     "metadata": {},
     "output_type": "execute_result"
    }
   ],
   "source": [
    "face_occs['7_6']"
   ]
  },
  {
   "cell_type": "markdown",
   "metadata": {},
   "source": [
    "## Most common face in the last x seconds"
   ]
  },
  {
   "cell_type": "code",
   "execution_count": 13,
   "metadata": {},
   "outputs": [],
   "source": [
    "def faceTrends(faces, interval, overlapping = False, join_consecutive = False):\n",
    "    #TODO- make empty entries for each second or two.\n",
    "    #      Don't count these for face_count\n",
    "    import operator\n",
    "    trending_face = faces[0][1] #First face's class\n",
    "    trendy_faces = {faces[0][0]:trending_face} \n",
    "    \n",
    "    if overlapping:\n",
    "        skip=1\n",
    "    else:\n",
    "        skip=interval\n",
    "        \n",
    "    for x in range(0, len(faces)-interval, skip):\n",
    "        face_count = {} #Keeps count of no. of instances of each face_class\n",
    "        \n",
    "        for face in faces[x:x+interval]:\n",
    "            curr_time = face[0]\n",
    "            curr_face = face[1]\n",
    "            if curr_face == '-1':\n",
    "                continue\n",
    "                \n",
    "            if curr_face in face_count:\n",
    "                face_count[curr_face] += 1\n",
    "            else:\n",
    "                face_count[curr_face] = 1\n",
    "                \n",
    "        if face_count: # if face_count is not empty\n",
    "            max_face_in_interval = max(face_count.items(), key=operator.itemgetter(1))[0]\n",
    "        else:\n",
    "            max_face_in_interval = '-1'\n",
    "        if join_consecutive:\n",
    "            if(max_face_in_interval!=trending_face):\n",
    "                trending_face = max_face_in_interval\n",
    "                trendy_faces[curr_time] = trending_face\n",
    "        else:\n",
    "            trending_face = max_face_in_interval\n",
    "            trendy_faces[curr_time] = trending_face\n",
    "\n",
    "#             if (face_count[curr_face]>face_count[trending_face]):\n",
    "#                 trending_face = curr_face\n",
    "#                 curr_time = face[0]\n",
    "#                 trendy_faces[curr_time] = curr_face\n",
    "    return trendy_faces          "
   ]
  },
  {
   "cell_type": "code",
   "execution_count": 14,
   "metadata": {},
   "outputs": [],
   "source": [
    "def faceTrendsDuration(faces, interval, overlapping = False, join_consecutive = False):\n",
    "    \"\"\"Shows top 5 in each\"\"\"\n",
    "    #TODO- make empty entries for each second or two.\n",
    "    #      Don't count these for face_count\n",
    "    # interval - 2*interval time duration is bucketed to check trend\n",
    "    trending_face = faces[0][1] #First face's class\n",
    "    trendy_faces = {faces[0][0]:[trending_face]} \n",
    "    \n",
    "    if overlapping:\n",
    "        skip=1\n",
    "    else:\n",
    "        skip=interval\n",
    "        \n",
    "    for x in range(0, len(faces)-interval, skip):\n",
    "        face_count = {} #Keeps count of no. of instances of each face_class\n",
    "        \n",
    "        for face in faces[x:x+interval]:\n",
    "            curr_time = face[0]\n",
    "            curr_face = face[1]\n",
    "            if curr_face == '-1':\n",
    "                continue\n",
    "                \n",
    "            if curr_face in face_count:\n",
    "                face_count[curr_face] = (face_count[curr_face][0],curr_time)\n",
    "            else:\n",
    "                face_count[curr_face] = (curr_time, curr_time)\n",
    "                \n",
    "        if face_count: # if face_count is not empty\n",
    "            max_face_in_interval = sorted(list(face_count.keys()), key =(lambda key: HMS2sec(face_count[key][1]) - HMS2sec(face_count[key][0])),reverse=True)[:7]\n",
    "        else:\n",
    "            max_face_in_interval = '-1'\n",
    "        if join_consecutive:\n",
    "            if(max_face_in_interval!=trending_face):\n",
    "                trending_face = max_face_in_interval\n",
    "                trendy_faces[curr_time] = trending_face\n",
    "        else:\n",
    "            trending_face = max_face_in_interval\n",
    "            trendy_faces[curr_time] = trending_face\n",
    "\n",
    "#             if (face_count[curr_face]>face_count[trending_face]):\n",
    "#                 trending_face = curr_face\n",
    "#                 curr_time = face[0]\n",
    "#                 trendy_faces[curr_time] = curr_face\n",
    "    return trendy_faces          "
   ]
  },
  {
   "cell_type": "code",
   "execution_count": 60,
   "metadata": {
    "scrolled": true
   },
   "outputs": [],
   "source": [
    "faces_empty = addEmptyFaces(faces,2)\n",
    "trends = faceTrendsDuration(faces_empty,100,False,False)"
   ]
  },
  {
   "cell_type": "code",
   "execution_count": 61,
   "metadata": {
    "collapsed": true
   },
   "outputs": [
    {
     "name": "stdout",
     "output_type": "stream",
     "text": [
      "('01:02:15', ['44_0'])\n",
      "('01:05:33', ['6_5', '9_3', '7_8', '44_0', '2_75', '3_12', '2_74'])\n",
      "('01:08:53', ['10_0', '32_0', '44_0', '2_31', '7_8', '13_1', '9_1'])\n",
      "('01:12:13', ['6_10', '6_8', '5_2', '2_67', '2_80', '2_20', '2_70'])\n",
      "('01:15:33', ['10_0', '32_0', '5_4', '9_1', '2_10', '2_19', '10_2'])\n",
      "('01:18:46', ['10_3', '8_2', '7_1', '5_0', '5_13', '3_4', '2_61'])\n",
      "('01:22:12', ['2_64', '2_59', '3_9', '5_13', '4_10', '3_10', '2_39'])\n",
      "('01:25:31', ['5_9', '5_14', '4_20', '2_85', '3_28', '7_4', '3_29'])\n",
      "('01:28:53', ['6_9', '4_13', '2_24', '7_4', '3_34', '3_8', '3_6'])\n",
      "('01:32:13', ['44_0', '2_91', '3_21', '14_0', '7_6'])\n",
      "('01:35:33', ['32_0', '10_2', '9_1', '5_4', '44_0', '2_33', '2_34'])\n",
      "('01:38:53', ['14_0', '44_0', '14_2', '14_1', '6_3', '2_54', '7_0'])\n",
      "('01:42:12', ['44_0', '40_0', '4_12', '19_0', '18_0', '4_0', '3_25'])\n",
      "('01:45:33', ['6_4', '9_2', '3_21'])\n",
      "('01:48:53', ['5_6', '13_0', '43_0', '5_1', '4_3', '5_3', '14_0'])\n",
      "('01:52:13', ['14_0', '43_0', '8_0', '13_0', '44_0', '5_6', '5_11'])\n",
      "('01:55:33', ['3_5', '3_3', '2_91', '3_21', '3_0', '2_72', '4_1'])\n",
      "('01:58:53', ['4_16', '13_1', '44_0', '4_17', '9_2', '5_10', '3_31'])\n",
      "('02:02:13', ['12_0', '29_0', '3_30', '3_22', '2_36', '2_14', '9_4'])\n",
      "('02:05:33', ['29_0', '16_0', '18_0', '19_0', '6_0', '7_0', '2_83'])\n",
      "('02:08:53', ['20_0', '7_5', '4_1', '4_14', '6_11', '3_23', '9_4'])\n",
      "('02:12:13', ['10_4', '4_2', '5_15', '4_5', '7_5', '3_14', '2_66'])\n",
      "('02:15:33', ['21_0', '5_12', '2_53', '2_4', '5_8', '44_0'])\n",
      "('02:18:52', ['21_0', '3_33', '3_32', '2_46', '19_0', '12_0', '2_14'])\n",
      "('02:22:13', ['44_0', '2_21', '3_13', '2_22', '10_1', '2_2', '5_12'])\n",
      "('02:25:33', ['44_0', '5_9', '13_1', '2_42', '5_10', '3_26', '5_8'])\n",
      "('02:28:53', ['10_0', '7_3', '4_7', '2_35', '3_16', '44_0', '8_0'])\n",
      "('02:32:13', ['4_11', '2_72', '2_25', '2_90', '2_89', '2_87', '20_0'])\n",
      "('02:35:33', ['6_1', '6_7', '2_17', '7_6', '20_0', '3_35', '3_7'])\n",
      "('02:38:53', ['2_7', '5_5', '2_6', '3_1', '3_2', '9_4', '2_43'])\n",
      "('02:42:13', ['29_0'])\n",
      "('02:45:29', ['2_15', '4_6', '3_0', '2_36', '2_25', '6_2', '2_28'])\n",
      "('02:48:46', ['2_5', '16_0', '7_2', '14_3', '9_0', '8_1', '7_7'])\n",
      "('02:52:13', ['16_0', '7_2', '2_26', '7_7', '14_3', '2_18', '13_3'])\n",
      "('02:55:33', ['4_19', '3_11', '2_92', '4_15', '2_79', '2_39', '2_38'])\n",
      "('02:58:53', ['3_19', '6_2', '3_20', '10_1', '2_40', '3_15', '2_38'])\n",
      "('03:02:13', ['2_62', '13_2', '5_16', '2_86', '2_13', '2_63', '3_24'])\n"
     ]
    }
   ],
   "source": [
    "for x in trends.items():\n",
    "    print(x)"
   ]
  },
  {
   "cell_type": "code",
   "execution_count": 65,
   "metadata": {},
   "outputs": [],
   "source": [
    "trends_occs = {}\n",
    "for time,clases in trends.items():\n",
    "    time = HMS2sec(time)\n",
    "    for clas in clases:\n",
    "        if clas in trends_occs:\n",
    "            trends_occs[clas].append(time)\n",
    "        else:\n",
    "            trends_occs[clas] = [time]"
   ]
  },
  {
   "cell_type": "code",
   "execution_count": 66,
   "metadata": {},
   "outputs": [],
   "source": [
    "#TEMP - due to currently used inconsistent face clustering method,\n",
    "# these 3 clusters are marked different when they're indeed same\n",
    "# Get rid of this after implementing better face clustering.\n",
    "for i in range(8,14):\n",
    "    if \"5_\"+str(i) in trends_occs:\n",
    "        trends_occs[\"44_0\"] += trends_occs[\"5_\"+str(i)]\n",
    "        trends_occs.pop(\"5_\"+str(i))\n",
    "trends_occs[\"20_0\"] += (trends_occs[\"16_0\"])\n",
    "trends_occs[\"20_0\"] += (trends_occs[\"10_1\"])\n",
    "_ = trends_occs.pop(\"16_0\")\n",
    "_ = trends_occs.pop(\"10_1\")"
   ]
  },
  {
   "cell_type": "code",
   "execution_count": 71,
   "metadata": {
    "scrolled": true
   },
   "outputs": [
    {
     "data": {
      "text/plain": [
       "[('44_0',\n",
       "  [3735,\n",
       "   3933,\n",
       "   4133,\n",
       "   5533,\n",
       "   5733,\n",
       "   5933,\n",
       "   6132,\n",
       "   6733,\n",
       "   7133,\n",
       "   8133,\n",
       "   8533,\n",
       "   8733,\n",
       "   8933,\n",
       "   8133,\n",
       "   8733,\n",
       "   5131,\n",
       "   8733,\n",
       "   7133,\n",
       "   8733,\n",
       "   6733,\n",
       "   8133,\n",
       "   8533,\n",
       "   4726,\n",
       "   4932]),\n",
       " ('20_0', [7733, 9133, 9333, 7533, 10126, 10333, 8533, 10733]),\n",
       " ('14_0', [5533, 5933, 6533, 6733]),\n",
       " ('10_0', [4133, 4533, 8933]),\n",
       " ('32_0', [4133, 4533, 5733])]"
      ]
     },
     "execution_count": 71,
     "metadata": {},
     "output_type": "execute_result"
    }
   ],
   "source": [
    "sorted(trends_occs.items(), key = lambda x: len(x[1]), reverse=True)[:5]\n",
    "##Inference: The top 2 faces with the most occurences are faces of the hosts (44_0 and 20_0)"
   ]
  },
  {
   "cell_type": "code",
   "execution_count": 72,
   "metadata": {},
   "outputs": [
    {
     "data": {
      "image/png": "[encoded data removed]",
      "text/plain": [
       "<Figure size 432x288 with 1 Axes>"
      ]
     },
     "metadata": {
      "needs_background": "light"
     },
     "output_type": "display_data"
    }
   ],
   "source": [
    "#Daryn Kagan - 1:02 to 1:56\n",
    "times = face_occs['44_0']\n",
    "plt.figure()\n",
    "plt.hlines(1,min(times),max(times))\n",
    "plt.eventplot(times, orientation='horizontal', colors='b')\n",
    "#plt.axis('')\n",
    "plt.show()"
   ]
  },
  {
   "cell_type": "code",
   "execution_count": 74,
   "metadata": {},
   "outputs": [],
   "source": [
    "gaps = []\n",
    "times = sorted(times)\n",
    "for i in range(1,len(times)):\n",
    "    gaps.append(times[i]-times[i-1])"
   ]
  },
  {
   "cell_type": "code",
   "execution_count": 75,
   "metadata": {},
   "outputs": [
    {
     "data": {
      "image/png": "[encoded data removed]",
      "text/plain": [
       "<Figure size 432x288 with 1 Axes>"
      ]
     },
     "metadata": {
      "needs_background": "light"
     },
     "output_type": "display_data"
    }
   ],
   "source": [
    "plt.plot(gaps)\n",
    "plt.show()\n",
    "##Inference: Episodes of the same show can be separated by exceptionally \n",
    "##           large gap between consecutive frames\n",
    "##           Note: not valid for back-to-back episodes."
   ]
  },
  {
   "cell_type": "code",
   "execution_count": 76,
   "metadata": {
    "scrolled": true
   },
   "outputs": [
    {
     "data": {
      "image/png": "[encoded data removed]",
      "text/plain": [
       "<Figure size 432x288 with 1 Axes>"
      ]
     },
     "metadata": {
      "needs_background": "light"
     },
     "output_type": "display_data"
    }
   ],
   "source": [
    "#Rosemary church - ~ 2-3 with interruptions from Kagan\n",
    "times = face_occs['20_0']\n",
    "plt.figure()\n",
    "plt.hlines(1,min(times),max(times))\n",
    "plt.eventplot(times, orientation='horizontal', colors='r')\n",
    "#plt.axis('')\n",
    "plt.show()"
   ]
  },
  {
   "cell_type": "code",
   "execution_count": 77,
   "metadata": {},
   "outputs": [
    {
     "data": {
      "image/png": "[encoded data removed]",
      "text/plain": [
       "<Figure size 432x288 with 1 Axes>"
      ]
     },
     "metadata": {
      "needs_background": "light"
     },
     "output_type": "display_data"
    }
   ],
   "source": [
    "#Daryn Kagan - 1:02 to 1:56 and Rosemary church - ~ 2:00-3:00\n",
    "#                   with breaking news interruptions from Kagan\n",
    "\n",
    "times = face_occs['44_0']\n",
    "times2 = face_occs['20_0']\n",
    "plt.figure()\n",
    "plt.hlines(1,min(times),max(times))\n",
    "plt.eventplot(times, orientation='horizontal', colors='b')\n",
    "plt.eventplot(times2, orientation='horizontal', colors='r')\n",
    "#plt.axis('')\n",
    "plt.show()"
   ]
  },
  {
   "cell_type": "code",
   "execution_count": 74,
   "metadata": {},
   "outputs": [
    {
     "data": {
      "text/plain": [
       "'01:31:03'"
      ]
     },
     "execution_count": 74,
     "metadata": {},
     "output_type": "execute_result"
    }
   ],
   "source": [
    "sec2HMS(5463)"
   ]
  },
  {
   "cell_type": "code",
   "execution_count": null,
   "metadata": {},
   "outputs": [],
   "source": [
    "#TODO - instead of face count - try face distribution in an interval ^"
   ]
  },
  {
   "cell_type": "code",
   "execution_count": null,
   "metadata": {},
   "outputs": [],
   "source": [
    "#TODO - black frames inference\n",
    "#TODO - check contiguous shows\n",
    "#TODO - Slides"
   ]
  },
  {
   "cell_type": "code",
   "execution_count": 16,
   "metadata": {},
   "outputs": [
    {
     "ename": "SyntaxError",
     "evalue": "invalid syntax (<ipython-input-16-bd8cd1ecc0f8>, line 1)",
     "output_type": "error",
     "traceback": [
      "\u001b[0;36m  File \u001b[0;32m\"<ipython-input-16-bd8cd1ecc0f8>\"\u001b[0;36m, line \u001b[0;32m1\u001b[0m\n\u001b[0;31m    import ../aa\u001b[0m\n\u001b[0m           ^\u001b[0m\n\u001b[0;31mSyntaxError\u001b[0m\u001b[0;31m:\u001b[0m invalid syntax\n"
     ]
    }
   ],
   "source": [
    "import ../aa"
   ]
  },
  {
   "cell_type": "markdown",
   "metadata": {},
   "source": [
    "## Older cherry picked results - start"
   ]
  },
  {
   "cell_type": "code",
   "execution_count": 25,
   "metadata": {},
   "outputs": [],
   "source": [
    "###CHERRY PICKED\n",
    "for x in list(face_dict.keys()):\n",
    "    if x not in ['109','119','118','117','116','115','114']:\n",
    "        face_dict.pop(x)"
   ]
  },
  {
   "cell_type": "code",
   "execution_count": 26,
   "metadata": {},
   "outputs": [
    {
     "data": {
      "image/png": "[encoded data removed]",
      "text/plain": [
       "<Figure size 2000x2000 with 1 Axes>"
      ]
     },
     "metadata": {},
     "output_type": "display_data"
    }
   ],
   "source": [
    "plt.rcParams = plt.rcParamsDefault\n",
    "plt.figure()\n",
    "all_times = list(face_dict.values())\n",
    "min_time = min(list(map(min,all_times)))\n",
    "max_time = max(list(map(max,all_times)))\n",
    "plt.hlines(1,min_time,max_time)\n",
    "colors = ['r','g','b','c','m','y','k','gray','orange']\n",
    "for i,actor in enumerate(face_dict):\n",
    "    times = face_dict[actor]\n",
    "    plt.eventplot(times, orientation='horizontal', colors=colors[i])\n",
    "    plt.legend(actor)\n",
    "    plt.rcParams['figure.figsize'] = [20,20]\n",
    "plt.show()"
   ]
  },
  {
   "cell_type": "markdown",
   "metadata": {},
   "source": [
    "## Older cherry picked results - end"
   ]
  },
  {
   "cell_type": "markdown",
   "metadata": {},
   "source": [
    "## Better face clustering"
   ]
  },
  {
   "cell_type": "code",
   "execution_count": 29,
   "metadata": {},
   "outputs": [],
   "source": [
    "def getEncodings(vid_path, dirName, interval=60, model = 'hog', store=False):\n",
    "    \"\"\" Returns 129D encodings for each face present in the video\n",
    "        First 128 are the face encodings and the last value is the time.\n",
    "        \n",
    "       :param interval: (in seconds) frame interval to skip and look for faces\n",
    "       :param model: 'hog' is less accurate but faster compared to 'cnn'\n",
    "       :param store: if True, stores the faces in directory specified by dirName \"\"\"\n",
    "    vidcap = cv2.VideoCapture(vid_path)\n",
    "    fps = vidcap.get(cv2.CAP_PROP_FPS)\n",
    "    print(\"FPS of the video: {}\".format(fps))\n",
    "    allEncodings = [] #Dict containing path, box and encoding\n",
    "    n_frame = 0 # no. of frame being processed\n",
    "    \n",
    "    if not os.path.exists(dirName):\n",
    "        os.mkdir(dirName)\n",
    "    success, frame = vidcap.read()\n",
    "    \n",
    "    while success:\n",
    "        rgb = cv2.cvtColor(frame,cv2.COLOR_BGR2RGB)\n",
    "        time = int(n_frame/fps)\n",
    "        #print(time)\n",
    "        bboxes = face_recognition.face_locations(rgb,model=model)\n",
    "        encodings = face_recognition.face_encodings(rgb,bboxes)\n",
    "        for i,bbox in enumerate(bboxes): #for each found face in the frame\n",
    "            top,right,bottom,left = bbox[0],bbox[1],bbox[2],bbox[3]\n",
    "            face_img = frame[top:bottom, left:right]\n",
    "            \n",
    "            filename = dirName+\"/t\"+sec2HMS(n_frame/fps)+\"f\"+str(i)+\".jpg\"\n",
    "            d = {'imagepath': filename, 'loc': bbox, 'encoding':encodings[i]}\n",
    "            allEncodings.append(d)\n",
    "            \n",
    "            if store:                \n",
    "                cv2.imwrite(filename, face_img)\n",
    "            \n",
    "        n_frame += interval            \n",
    "        vidcap.set(cv2.CAP_PROP_POS_FRAMES,n_frame)\n",
    "        success, frame = vidcap.read()\n",
    "    \n",
    "    #Pickling data as a binary stream \n",
    "    storePickle(dirName+'/faceEncodingsPickle',allEncodings)\n",
    "    return allEncodings"
   ]
  },
  {
   "cell_type": "code",
   "execution_count": 30,
   "metadata": {},
   "outputs": [],
   "source": [
    "def clusterFaces(allEncodings, dirName, n_jobs=-1, min_samples = 5):\n",
    "    encodings = [d['encoding'] for d in allEncodings]\n",
    "    filenames = [d['imagepath'] for d in allEncodings]\n",
    "    \n",
    "    from sklearn.cluster import DBSCAN    \n",
    "    clt = DBSCAN(metric='euclidean', n_jobs=n_jobs, min_samples=5,eps=0.37)\n",
    "    clt.fit(encodings)\n",
    "    labels = clt.labels_ #-1 => too small to include in a cluster\n",
    "    \n",
    "    faces = {} #dict mapping from face_id to all instances of that\n",
    "               #face_id\n",
    "    for i,label in enumerate(labels):\n",
    "        if(label!=-1):\n",
    "            if label in faces:\n",
    "                faces[label].append(i)\n",
    "            else:\n",
    "                faces[label] = [i]\n",
    "                \n",
    "    if os.path.exists(dirName): #Reset directory\n",
    "        shutil.rmtree(dirName)\n",
    "    os.mkdir(dirName) \n",
    "    \n",
    "    faces = {i:x for i,x in enumerate(sorted(list(faces.values()),key=lambda y: len(y)))}\n",
    "    \n",
    "    for cluster,files in faces.items():\n",
    "        cluster_dir = dirName+'/cluster_'+str(cluster)\n",
    "        os.mkdir(cluster_dir)\n",
    "        for file in files:\n",
    "            shutil.copy(filenames[file],cluster_dir)\n",
    "    return faces,labels"
   ]
  },
  {
   "cell_type": "code",
   "execution_count": 31,
   "metadata": {},
   "outputs": [],
   "source": [
    "def classifyFaces(folder, minimum_frequency=0):\n",
    "    \"\"\"Returns a dict with keys as face_classes, that map to list of their\n",
    "    times of occurence in the video.\"\"\"\n",
    "    faces = {}\n",
    "    for cluster_n in os.listdir(folder):\n",
    "        images = os.listdir(folder+'/'+cluster_n)\n",
    "        cluster_size = len(images)\n",
    "        if(cluster_size>=minimum_frequency):\n",
    "            face_clas = cluster_n.split('_')[1] #n\n",
    "            faces[face_clas] = []\n",
    "            for image in images:\n",
    "                face_time = HMS2sec(image[1:9])\n",
    "                faces[face_clas].append(face_time)    \n",
    "    return faces"
   ]
  },
  {
   "cell_type": "code",
   "execution_count": 32,
   "metadata": {},
   "outputs": [],
   "source": [
    "vid_path = '../data/2006_videos/2006-01-04_0000_US_00000063_V2_MB7_VHS7_H11_MS.mp4'\n",
    "file_id = vid_path.split('.')[2][-11:]"
   ]
  },
  {
   "cell_type": "code",
   "execution_count": 33,
   "metadata": {},
   "outputs": [
    {
     "data": {
      "text/plain": [
       "'VHS7_H11_MS'"
      ]
     },
     "execution_count": 33,
     "metadata": {},
     "output_type": "execute_result"
    }
   ],
   "source": [
    "file_id"
   ]
  },
  {
   "cell_type": "code",
   "execution_count": 34,
   "metadata": {},
   "outputs": [
    {
     "name": "stdout",
     "output_type": "stream",
     "text": [
      "FPS of the video: 29.97\n"
     ]
    },
    {
     "ename": "KeyboardInterrupt",
     "evalue": "",
     "output_type": "error",
     "traceback": [
      "\u001b[0;31m---------------------------------------------------------------------------\u001b[0m",
      "\u001b[0;31mKeyboardInterrupt\u001b[0m                         Traceback (most recent call last)",
      "\u001b[0;32m<ipython-input-34-69048e5d420e>\u001b[0m in \u001b[0;36m<module>\u001b[0;34m\u001b[0m\n\u001b[0;32m----> 1\u001b[0;31m \u001b[0mface_data\u001b[0m \u001b[0;34m=\u001b[0m \u001b[0mgetEncodings\u001b[0m\u001b[0;34m(\u001b[0m\u001b[0;34m'../data/2006-01-02_0000_US_00001057_V11_M2_VHS10_H4_JA.mp4'\u001b[0m\u001b[0;34m,\u001b[0m\u001b[0mfile_id\u001b[0m\u001b[0;34m,\u001b[0m\u001b[0mstore\u001b[0m\u001b[0;34m=\u001b[0m\u001b[0;32mTrue\u001b[0m\u001b[0;34m)\u001b[0m\u001b[0;34m\u001b[0m\u001b[0;34m\u001b[0m\u001b[0m\n\u001b[0m\u001b[1;32m      2\u001b[0m \u001b[0mping_telegram\u001b[0m\u001b[0;34m(\u001b[0m\u001b[0;34m'Encodings done!'\u001b[0m\u001b[0;34m)\u001b[0m\u001b[0;34m\u001b[0m\u001b[0;34m\u001b[0m\u001b[0m\n",
      "\u001b[0;32m<ipython-input-29-87efd138c7f7>\u001b[0m in \u001b[0;36mgetEncodings\u001b[0;34m(vid_path, dirName, interval, model, store)\u001b[0m\n\u001b[1;32m     34\u001b[0m \u001b[0;34m\u001b[0m\u001b[0m\n\u001b[1;32m     35\u001b[0m         \u001b[0mn_frame\u001b[0m \u001b[0;34m+=\u001b[0m \u001b[0minterval\u001b[0m\u001b[0;34m\u001b[0m\u001b[0;34m\u001b[0m\u001b[0m\n\u001b[0;32m---> 36\u001b[0;31m         \u001b[0mvidcap\u001b[0m\u001b[0;34m.\u001b[0m\u001b[0mset\u001b[0m\u001b[0;34m(\u001b[0m\u001b[0mcv2\u001b[0m\u001b[0;34m.\u001b[0m\u001b[0mCAP_PROP_POS_FRAMES\u001b[0m\u001b[0;34m,\u001b[0m\u001b[0mn_frame\u001b[0m\u001b[0;34m)\u001b[0m\u001b[0;34m\u001b[0m\u001b[0;34m\u001b[0m\u001b[0m\n\u001b[0m\u001b[1;32m     37\u001b[0m         \u001b[0msuccess\u001b[0m\u001b[0;34m,\u001b[0m \u001b[0mframe\u001b[0m \u001b[0;34m=\u001b[0m \u001b[0mvidcap\u001b[0m\u001b[0;34m.\u001b[0m\u001b[0mread\u001b[0m\u001b[0;34m(\u001b[0m\u001b[0;34m)\u001b[0m\u001b[0;34m\u001b[0m\u001b[0;34m\u001b[0m\u001b[0m\n\u001b[1;32m     38\u001b[0m \u001b[0;34m\u001b[0m\u001b[0m\n",
      "\u001b[0;31mKeyboardInterrupt\u001b[0m: "
     ]
    }
   ],
   "source": [
    "face_data = getEncodings('../data/2006-01-02_0000_US_00001057_V11_M2_VHS10_H4_JA.mp4',file_id,store=True)\n",
    "ping_telegram('Encodings done!')"
   ]
  },
  {
   "cell_type": "code",
   "execution_count": null,
   "metadata": {},
   "outputs": [],
   "source": [
    "faces,labels = clusterFaces(face_data,'{}/clusters'.format(file_id),2)\n",
    "ping_telegram('Clustering done!')"
   ]
  },
  {
   "cell_type": "code",
   "execution_count": 14,
   "metadata": {},
   "outputs": [],
   "source": [
    "face_dict = classifyFaces('{}/clusters'.format(file_id), 100)"
   ]
  },
  {
   "cell_type": "markdown",
   "metadata": {},
   "source": [
    "## pre July 3"
   ]
  },
  {
   "cell_type": "code",
   "execution_count": null,
   "metadata": {},
   "outputs": [],
   "source": [
    "def classifyFaces(folder, minimum_frequency=0, max_clusters=1000000):\n",
    "    \"\"\"Returns a dict with keys as face_classes, that map to list of their\n",
    "    times of occurence in the video.\"\"\"\n",
    "    faces = []\n",
    "    n_clusters = len(os.listdir(folder))\n",
    "    count=0\n",
    "    for i in range(n_clusters-1,-1,-1):\n",
    "        if(count==max_clusters):\n",
    "            break\n",
    "            \n",
    "        cluster_n = 'cluster_'+str(i)\n",
    "        images = os.listdir(folder+'/'+cluster_n)\n",
    "        cluster_size = len(images)\n",
    "        if(cluster_size>=minimum_frequency):\n",
    "            face_clas = cluster_n.split('_')[1] #n\n",
    "            #faces[face_clas] = []\n",
    "            for image in images:\n",
    "                face_time = HMS2sec(image[1:9])\n",
    "                faces.append((face_time,face_clas))\n",
    "            count+=1\n",
    "        else:\n",
    "            break\n",
    "    return sorted(faces,key= lambda x: x[0])"
   ]
  },
  {
   "cell_type": "code",
   "execution_count": null,
   "metadata": {},
   "outputs": [],
   "source": [
    "def faceTrendsDuration(faces, interval, overlapping = False, join_consecutive = False):\n",
    "    \"\"\"Shows top 5 in each\"\"\"\n",
    "    #TODO- make empty entries for each second or two.\n",
    "    #      Don't count these for face_count\n",
    "    # interval - 2*interval time duration is bucketed to check trend\n",
    "    trending_face = faces[0][1] #First face's class\n",
    "    trendy_faces = {sec2HMS(faces[0][0]):[trending_face]} \n",
    "    \n",
    "    if overlapping:\n",
    "        skip=1\n",
    "    else:\n",
    "        skip=interval\n",
    "        \n",
    "    for x in range(0, len(faces)-interval, skip):\n",
    "        face_count = {} #Keeps count of no. of instances of each face_class\n",
    "        \n",
    "        for face in faces[x:x+interval]:\n",
    "            curr_time = face[0]\n",
    "            curr_face = face[1]\n",
    "            if curr_face == '-1':\n",
    "                continue\n",
    "                \n",
    "            if curr_face in face_count:\n",
    "                face_count[curr_face] = (face_count[curr_face][0],curr_time)\n",
    "            else:\n",
    "                face_count[curr_face] = (curr_time, curr_time)\n",
    "                \n",
    "        if face_count: # if face_count is not empty\n",
    "            max_face_in_interval = sorted(list(face_count.keys()), key =(lambda key: (face_count[key][1]) - (face_count[key][0])),reverse=True)[:10]\n",
    "        else:\n",
    "            max_face_in_interval = '-1'\n",
    "        if join_consecutive:\n",
    "            if(max_face_in_interval!=trending_face):\n",
    "                trending_face = max_face_in_interval\n",
    "                trendy_faces[curr_time] = trending_face\n",
    "        else:\n",
    "            trending_face = max_face_in_interval\n",
    "            trendy_faces[sec2HMS(curr_time)] = trending_face\n",
    "\n",
    "#             if (face_count[curr_face]>face_count[trending_face]):\n",
    "#                 trending_face = curr_face\n",
    "#                 curr_time = face[0]\n",
    "#                 trendy_faces[curr_time] = curr_face\n",
    "    return trendy_faces          "
   ]
  },
  {
   "cell_type": "code",
   "execution_count": null,
   "metadata": {},
   "outputs": [],
   "source": [
    "def addEmptyFaces(faces, skip_gap):\n",
    "    \"\"\"Modifies faces dict to include timestamps where no faces are present\n",
    "       '-1' is the value assigned to these.\n",
    "       :skip_gap: 'interval' parameter given in file2encoding() function (in seconds)\"\"\"\n",
    "    min_time = (faces[0][0])\n",
    "    max_time = (faces[-1][0])\n",
    "    curr_time = min_time\n",
    "    faces_empty = []\n",
    "    counter = 0\n",
    "    \n",
    "    while (curr_time < max_time):\n",
    "        if((faces[counter][0]) > curr_time): #No face found at this time\n",
    "            faces_empty.append(((curr_time), '-1'))\n",
    "        else:                              #Face was already marked at this time\n",
    "            faces_empty.append(faces[counter])\n",
    "            counter+=1\n",
    "        curr_time += skip_gap\n",
    "    return faces_empty"
   ]
  },
  {
   "cell_type": "code",
   "execution_count": null,
   "metadata": {},
   "outputs": [],
   "source": [
    "face_list = classifyFaces('2006_8hour_better/clusters/', 10,20)\n",
    "#Adjust 3rd parameter according to vid length"
   ]
  },
  {
   "cell_type": "code",
   "execution_count": null,
   "metadata": {},
   "outputs": [],
   "source": [
    "faces_empty = addEmptyFaces(face_list,2)\n",
    "trends = faceTrendsDuration(faces_empty,300)"
   ]
  },
  {
   "cell_type": "code",
   "execution_count": null,
   "metadata": {},
   "outputs": [],
   "source": [
    "trends_occs = {}\n",
    "for time,clases in trends.items():\n",
    "    time = HMS2sec(time)\n",
    "    for clas in clases:\n",
    "        if clas in trends_occs:\n",
    "            trends_occs[clas].append(time)\n",
    "        else:\n",
    "            trends_occs[clas] = [time]"
   ]
  },
  {
   "cell_type": "code",
   "execution_count": null,
   "metadata": {},
   "outputs": [],
   "source": [
    "#sorted(trends_occs.items(),key = lambda x: len(x[1]),reverse=True)"
   ]
  },
  {
   "cell_type": "code",
   "execution_count": 129,
   "metadata": {},
   "outputs": [],
   "source": [
    "##Looking at top x streak lengths over the entire video didnt work out well"
   ]
  },
  {
   "cell_type": "markdown",
   "metadata": {},
   "source": [
    "# July 3 useful start"
   ]
  },
  {
   "cell_type": "markdown",
   "metadata": {},
   "source": [
    "## Better face clustering"
   ]
  },
  {
   "cell_type": "code",
   "execution_count": 35,
   "metadata": {},
   "outputs": [],
   "source": [
    "def getEncodings(vid_path, dirName, interval=60, model = 'hog', store=False):\n",
    "    \"\"\" Returns 129D encodings for each face present in the video\n",
    "        First 128 are the face encodings and the last value is the time.\n",
    "        \n",
    "       :param interval: (in seconds) frame interval to skip and look for faces\n",
    "       :param model: 'hog' is less accurate but faster compared to 'cnn'\n",
    "       :param store: if True, stores the faces in directory specified by dirName \"\"\"\n",
    "    vidcap = cv2.VideoCapture(vid_path)\n",
    "    fps = vidcap.get(cv2.CAP_PROP_FPS)\n",
    "    print(\"FPS of the video: {}\".format(fps))\n",
    "    allEncodings = [] #Dict containing path, box and encoding\n",
    "    n_frame = 0 # no. of frame being processed\n",
    "    \n",
    "    if not os.path.exists(dirName):\n",
    "        os.mkdir(dirName)\n",
    "    success, frame = vidcap.read()\n",
    "    \n",
    "    while success:\n",
    "        rgb = cv2.cvtColor(frame,cv2.COLOR_BGR2RGB)\n",
    "        time = int(n_frame/fps)\n",
    "        #print(time)\n",
    "        bboxes = face_recognition.face_locations(rgb,model=model)\n",
    "        encodings = face_recognition.face_encodings(rgb,bboxes)\n",
    "        for i,bbox in enumerate(bboxes): #for each found face in the frame\n",
    "            top,right,bottom,left = bbox[0],bbox[1],bbox[2],bbox[3]\n",
    "            face_img = frame[top:bottom, left:right]\n",
    "            \n",
    "            filename = dirName+\"/t\"+sec2HMS(n_frame/fps)+\"f\"+str(i)+\".jpg\"\n",
    "            d = {'imagepath': filename, 'loc': bbox, 'encoding':encodings[i]}\n",
    "            allEncodings.append(d)\n",
    "            \n",
    "            if store:                \n",
    "                cv2.imwrite(filename, face_img)\n",
    "            \n",
    "        n_frame += interval            \n",
    "        vidcap.set(cv2.CAP_PROP_POS_FRAMES,n_frame)\n",
    "        success, frame = vidcap.read()\n",
    "    \n",
    "    #Pickling data as a binary stream \n",
    "    storePickle(dirName+'/faceEncodingsPickle',allEncodings)\n",
    "    return allEncodings"
   ]
  },
  {
   "cell_type": "code",
   "execution_count": 36,
   "metadata": {},
   "outputs": [],
   "source": [
    "def clusterFaces(allEncodings, dirName, n_jobs=-1, min_samples = 5):\n",
    "    encodings = [d['encoding'] for d in allEncodings]\n",
    "    filenames = [d['imagepath'] for d in allEncodings]\n",
    "    \n",
    "    from sklearn.cluster import DBSCAN    \n",
    "    clt = DBSCAN(metric='euclidean', n_jobs=n_jobs, min_samples=5,eps=0.37)\n",
    "    clt.fit(encodings)\n",
    "    labels = clt.labels_ #-1 => too small to include in a cluster\n",
    "    \n",
    "    faces = {} #dict mapping from face_id to all instances of that\n",
    "               #face_id\n",
    "    for i,label in enumerate(labels):\n",
    "        if(label!=-1):\n",
    "            if label in faces:\n",
    "                faces[label].append(i)\n",
    "            else:\n",
    "                faces[label] = [i]\n",
    "                \n",
    "    if os.path.exists(dirName): #Reset directory\n",
    "        shutil.rmtree(dirName)\n",
    "    os.mkdir(dirName) \n",
    "    \n",
    "    faces = {i:x for i,x in enumerate(sorted(list(faces.values()),key=lambda y: len(y)))}\n",
    "    \n",
    "    for cluster,files in faces.items():\n",
    "        cluster_dir = dirName+'/cluster_'+str(cluster)\n",
    "        os.mkdir(cluster_dir)\n",
    "        for file in files:\n",
    "            shutil.copy(filenames[file],cluster_dir)\n",
    "    return faces,labels"
   ]
  },
  {
   "cell_type": "code",
   "execution_count": 37,
   "metadata": {},
   "outputs": [],
   "source": [
    "# def classifyFaces(folder, minimum_frequency=0):\n",
    "#     \"\"\"Returns a dict with keys as face_classes, that map to list of their\n",
    "#     times of occurence in the video.\"\"\"\n",
    "#     faces = {}\n",
    "#     for cluster_n in os.listdir(folder):\n",
    "#         images = os.listdir(folder+'/'+cluster_n)\n",
    "#         cluster_size = len(images)\n",
    "#         if(cluster_size>=minimum_frequency):\n",
    "#             face_clas = cluster_n.split('_')[1] #n\n",
    "#             faces[face_clas] = []\n",
    "#             for image in images:\n",
    "#                 face_time = HMS2sec(image[1:9])\n",
    "#                 faces[face_clas].append(face_time)    \n",
    "#     return faces"
   ]
  },
  {
   "cell_type": "code",
   "execution_count": 51,
   "metadata": {},
   "outputs": [
    {
     "name": "stdout",
     "output_type": "stream",
     "text": [
      "file_id: VHS7_H11_MS\n",
      "FPS of the video: 29.97\n"
     ]
    }
   ],
   "source": [
    "vid_path = '../data/2006_videos/2006-01-04_0000_US_00000063_V2_MB7_VHS7_H11_MS.mp4'\n",
    "file_id = vid_path.split('.')[2][-11:]\n",
    "\n",
    "print('file_id: '+file_id)\n",
    "\n",
    "face_data = getEncodings(vid_path,file_id,store=True)\n",
    "ping_telegram('Encodings done! [1/3]')\n",
    "\n",
    "faces,labels = clusterFaces(face_data,'{}/clusters'.format(file_id),2)\n",
    "ping_telegram('Clustering done! [2/3]')\n",
    "\n",
    "#face_dict = classifyFaces('{}/clusters'.format(file_id), 100)"
   ]
  },
  {
   "cell_type": "markdown",
   "metadata": {},
   "source": [
    "## Locally most consecutive trending faces"
   ]
  },
  {
   "cell_type": "code",
   "execution_count": 124,
   "metadata": {},
   "outputs": [],
   "source": [
    "def classifyFaces(folder, minimum_frequency=0, max_clusters=1000000):\n",
    "    \"\"\"Returns a Tuple list with x[0] as face_classes, and x[1] as list of their\n",
    "    times of occurence in the video.\"\"\"\n",
    "    faces = []\n",
    "    n_clusters = len(os.listdir(folder))\n",
    "    count=0\n",
    "    for i in range(n_clusters-1,-1,-1):\n",
    "        if(count==max_clusters):\n",
    "            break\n",
    "            \n",
    "        cluster_n = 'cluster_'+str(i)\n",
    "        images = os.listdir(folder+'/'+cluster_n)\n",
    "        cluster_size = len(images)\n",
    "        if(cluster_size>=minimum_frequency):\n",
    "            face_clas = cluster_n.split('_')[1] #n\n",
    "            #faces[face_clas] = []\n",
    "            for image in images:\n",
    "                face_time = HMS2sec(image[1:9])\n",
    "                faces.append((face_time,face_clas))\n",
    "            count+=1\n",
    "        else:\n",
    "            break\n",
    "    return sorted(faces,key= lambda x: x[0])"
   ]
  },
  {
   "cell_type": "code",
   "execution_count": 125,
   "metadata": {},
   "outputs": [],
   "source": [
    "def faceTrendsDuration(faces, interval, overlapping = False, join_consecutive = False,n_top=5):\n",
    "    \"\"\"Trendy faces are the faces of an actor which occur the most in a given interval.\n",
    "       Video is split into *interval*s and most occuring faces in them are noted.\n",
    "       For each interval, *n_top* no. of most occuring faces are returned\n",
    "       in a dict format.\"\"\"\n",
    "    # interval - 2*interval time duration is bucketed to check trend\n",
    "    trending_face = faces[0][1] #First face's class\n",
    "    #trendy_faces = {sec2HMS(faces[0][0]):[trending_face]} \n",
    "    trendy_faces = {}\n",
    "    \n",
    "    if overlapping:\n",
    "        skip=1\n",
    "    else:\n",
    "        skip=interval\n",
    "    for x in range(0, len(faces), skip):\n",
    "        face_count = {} #Keeps count of no. of instances of each face_class\n",
    "        interval_string = sec2HMS(faces[x][0])\n",
    "        for face in faces[x:min(len(faces),x+interval)]:\n",
    "            curr_time = face[0]\n",
    "            curr_face = face[1]\n",
    "            if curr_face == '-1':\n",
    "                continue\n",
    "                \n",
    "            if curr_face in face_count:\n",
    "                face_count[curr_face] = (face_count[curr_face][0],curr_time)\n",
    "            else:\n",
    "                face_count[curr_face] = (curr_time, curr_time)\n",
    "                \n",
    "        if face_count: # if face_count is not empty\n",
    "            max_face_in_interval = sorted(list(face_count.keys()), key =(lambda key: (face_count[key][1]) - (face_count[key][0])),reverse=True)[:n_top]\n",
    "        else:\n",
    "            max_face_in_interval = ['-1']\n",
    "        if join_consecutive:\n",
    "            if(max_face_in_interval!=trending_face):\n",
    "                trending_face = max_face_in_interval\n",
    "                trendy_faces[interval_string] = trending_face\n",
    "        else:\n",
    "            trending_face = max_face_in_interval\n",
    "            trendy_faces[interval_string] = trending_face\n",
    "\n",
    "#             if (face_count[curr_face]>face_count[trending_face]):\n",
    "#                 trending_face = curr_face\n",
    "#                 curr_time = face[0]\n",
    "#                 trendy_faces[curr_time] = curr_face\n",
    "    return trendy_faces          "
   ]
  },
  {
   "cell_type": "code",
   "execution_count": 126,
   "metadata": {},
   "outputs": [],
   "source": [
    "def addEmptyFaces(faces, skip_gap):\n",
    "    \"\"\"Modifies faces dict to include timestamps where no faces are present\n",
    "       '-1' is the value assigned to these.\n",
    "       :skip_gap: 'interval' parameter given in file2encoding() function (in seconds)\"\"\"\n",
    "    min_time = (faces[0][0])\n",
    "    max_time = (faces[-1][0])\n",
    "    curr_time = min_time\n",
    "    faces_empty = []\n",
    "    counter = 0\n",
    "    \n",
    "    while (curr_time < max_time):\n",
    "        if((faces[counter][0]) > curr_time): #No face found at this time\n",
    "            faces_empty.append(((curr_time), '-1'))\n",
    "        else:                              #Face was already marked at this time\n",
    "            faces_empty.append(faces[counter])\n",
    "            counter+=1\n",
    "        curr_time += skip_gap\n",
    "    return faces_empty"
   ]
  },
  {
   "cell_type": "code",
   "execution_count": 173,
   "metadata": {},
   "outputs": [],
   "source": [
    "face_list = classifyFaces('{}/clusters/'.format(file_id), 0,50)\n",
    "#Adjust 3rd parameter according to vid length2006_8hour_better"
   ]
  },
  {
   "cell_type": "code",
   "execution_count": 174,
   "metadata": {},
   "outputs": [],
   "source": [
    "interval = 450\n",
    "faces_empty = addEmptyFaces(face_list,2)\n",
    "trends = faceTrendsDuration(faces_empty,interval,n_top=6) #2nd param*2 => seconds"
   ]
  },
  {
   "cell_type": "code",
   "execution_count": 175,
   "metadata": {},
   "outputs": [
    {
     "data": {
      "text/plain": [
       "{'00:00:26': ['140', '135', '111', '130', '114', '124'],\n",
       " '00:13:46': ['140', '130', '124', '135', '111'],\n",
       " '00:30:26': ['140', '124', '110', '114', '111'],\n",
       " '00:45:26': ['140', '136', '132', '124', '110', '114'],\n",
       " '01:00:26': ['132', '136', '113', '105', '117', '135'],\n",
       " '01:15:26': ['134', '132', '136', '112', '135', '127'],\n",
       " '01:30:26': ['136', '132', '127', '134', '112'],\n",
       " '01:45:26': ['132', '136', '91', '135', '119', '95'],\n",
       " '02:00:26': ['119', '129', '91', '100', '96', '108'],\n",
       " '02:15:26': ['127', '119', '135', '95', '136', '112'],\n",
       " '02:30:26': ['137', '125', '129', '92', '97', '108'],\n",
       " '02:45:25': ['137', '98', '136'],\n",
       " '03:00:26': ['93'],\n",
       " '03:15:26': ['124', '103', '130'],\n",
       " '03:30:26': ['103'],\n",
       " '03:45:26': ['103', '130', '132'],\n",
       " '04:00:26': ['136', '132', '117', '119', '108'],\n",
       " '04:15:26': ['136', '127', '132'],\n",
       " '04:30:26': ['139', '102', '106', '136', '138', '129'],\n",
       " '04:45:26': ['139', '109', '138', '131', '102', '94'],\n",
       " '05:00:26': ['139', '138', '133', '128'],\n",
       " '05:15:26': ['138', '118', '128', '139', '97', '111'],\n",
       " '05:30:09': ['139', '138', '128', '116', '111'],\n",
       " '05:45:26': ['138', '126', '128', '120'],\n",
       " '06:00:25': ['123', '111', '121', '120', '128', '138'],\n",
       " '06:15:06': ['138', '123', '121', '104'],\n",
       " '06:30:26': ['125', '139', '116', '129', '138', '107'],\n",
       " '06:45:26': ['138', '122', '128', '139', '125', '137'],\n",
       " '07:00:26': ['133', '134', '111', '99', '137', '123'],\n",
       " '07:15:26': ['134', '133', '115', '129', '113', '107'],\n",
       " '07:30:26': ['134', '133', '116', '101', '113', '99'],\n",
       " '07:45:21': ['133', '134', '111', '113', '97'],\n",
       " '08:00:26': ['134', '133']}"
      ]
     },
     "execution_count": 175,
     "metadata": {},
     "output_type": "execute_result"
    }
   ],
   "source": [
    "trends"
   ]
  },
  {
   "cell_type": "code",
   "execution_count": 181,
   "metadata": {
    "scrolled": true
   },
   "outputs": [],
   "source": [
    "face_dict = {} #dict having all occurences of each face\n",
    "for x in face_list: #Use faces_empty maybe? TODO\n",
    "    if x[1] in face_dict:\n",
    "        face_dict[x[1]].append(x[0])\n",
    "    else:\n",
    "        face_dict[x[1]] = [x[0]]"
   ]
  },
  {
   "cell_type": "code",
   "execution_count": 186,
   "metadata": {},
   "outputs": [],
   "source": [
    "#Getting consecutives\n",
    "cons_dict = {}\n",
    "for key,vals in trends.items():\n",
    "    key = HMS2sec(key)\n",
    "    for val in vals:\n",
    "        if val in cons_dict:\n",
    "            if (cons_dict[val][-1][-1]==prev_time):\n",
    "                cons_dict[val][-1].append(key)\n",
    "            else:\n",
    "                cons_dict[val].append([key])\n",
    "        else:\n",
    "            cons_dict[val] = [[key]]\n",
    "    prev_time = key"
   ]
  },
  {
   "cell_type": "code",
   "execution_count": 187,
   "metadata": {},
   "outputs": [
    {
     "data": {
      "text/plain": [
       "{'140': [[26, 826, 1826, 2726]],\n",
       " '135': [[26, 826], [3626, 4526], [6326], [8126]],\n",
       " '111': [[26, 826, 1826], [18926, 19809], [21625], [25226], [27921]],\n",
       " '130': [[26, 826], [11726], [13526]],\n",
       " '114': [[26], [1826, 2726]],\n",
       " '124': [[26, 826, 1826, 2726], [11726]],\n",
       " '110': [[1826, 2726]],\n",
       " '136': [[2726, 3626, 4526, 5426, 6326],\n",
       "  [8126],\n",
       "  [9925],\n",
       "  [14426, 15326, 16226]],\n",
       " '132': [[2726, 3626, 4526, 5426, 6326], [13526, 14426, 15326]],\n",
       " '113': [[3626], [26126, 27026, 27921]],\n",
       " '105': [[3626]],\n",
       " '117': [[3626], [14426]],\n",
       " '134': [[4526, 5426], [25226, 26126, 27026, 27921, 28826]],\n",
       " '112': [[4526, 5426], [8126]],\n",
       " '127': [[4526, 5426], [8126], [15326]],\n",
       " '91': [[6326, 7226]],\n",
       " '119': [[6326, 7226, 8126], [14426]],\n",
       " '95': [[6326], [8126]],\n",
       " '129': [[7226], [9026], [16226], [23426], [26126]],\n",
       " '100': [[7226]],\n",
       " '96': [[7226]],\n",
       " '108': [[7226], [9026], [14426]],\n",
       " '137': [[9026, 9925], [24326, 25226]],\n",
       " '125': [[9026], [23426, 24326]],\n",
       " '92': [[9026]],\n",
       " '97': [[9026], [18926], [27921]],\n",
       " '98': [[9925]],\n",
       " '93': [[10826]],\n",
       " '103': [[11726, 12626, 13526]],\n",
       " '139': [[16226, 17126, 18026, 18926, 19809], [23426, 24326]],\n",
       " '102': [[16226, 17126]],\n",
       " '106': [[16226]],\n",
       " '138': [[16226,\n",
       "   17126,\n",
       "   18026,\n",
       "   18926,\n",
       "   19809,\n",
       "   20726,\n",
       "   21625,\n",
       "   22506,\n",
       "   23426,\n",
       "   24326]],\n",
       " '109': [[17126]],\n",
       " '131': [[17126]],\n",
       " '94': [[17126]],\n",
       " '133': [[18026], [25226, 26126, 27026, 27921, 28826]],\n",
       " '128': [[18026, 18926, 19809, 20726, 21625], [24326]],\n",
       " '118': [[18926]],\n",
       " '116': [[19809], [23426], [27026]],\n",
       " '126': [[20726]],\n",
       " '120': [[20726, 21625]],\n",
       " '123': [[21625, 22506], [25226]],\n",
       " '121': [[21625, 22506]],\n",
       " '104': [[22506]],\n",
       " '107': [[23426], [26126]],\n",
       " '122': [[24326]],\n",
       " '99': [[25226], [27026]],\n",
       " '115': [[26126]],\n",
       " '101': [[27026]]}"
      ]
     },
     "execution_count": 187,
     "metadata": {},
     "output_type": "execute_result"
    }
   ],
   "source": [
    "cons_dict"
   ]
  },
  {
   "cell_type": "code",
   "execution_count": 179,
   "metadata": {},
   "outputs": [],
   "source": [
    "max_len = 0\n",
    "max_face = '-1'\n",
    "for face in list(trends.values())[-1]:\n",
    "    if(len(cons_dict[face])>max_len):\n",
    "        max_len = len(cons_dict[face])\n",
    "        max_face = face\n",
    "#Finding the host of the last show. Among all the faces in the last interval,\n",
    "#we take the one with the most occurences. Probably not needed"
   ]
  },
  {
   "cell_type": "code",
   "execution_count": 180,
   "metadata": {},
   "outputs": [],
   "source": [
    "face_intervals = {}\n",
    "for face,intervals in cons_dict.items():\n",
    "    lb = min(x for x in face_dict[face] if x >= times[0]) #lower bound\n",
    "    ub = max(x for x in face_dict[face] if x <= times[-1]+2*interval) #upper bound \n",
    "    face_intervals[face]= [x for x in face_dict[face] if (x>=lb and x<=ub)]"
   ]
  },
  {
   "cell_type": "code",
   "execution_count": 164,
   "metadata": {},
   "outputs": [
    {
     "data": {
      "text/plain": [
       "{'140': [32,\n",
       "  38,\n",
       "  124,\n",
       "  130,\n",
       "  132,\n",
       "  134,\n",
       "  138,\n",
       "  144,\n",
       "  148,\n",
       "  152,\n",
       "  154,\n",
       "  156,\n",
       "  158,\n",
       "  160,\n",
       "  162,\n",
       "  164,\n",
       "  166,\n",
       "  168,\n",
       "  170,\n",
       "  172,\n",
       "  174,\n",
       "  176,\n",
       "  178,\n",
       "  180,\n",
       "  182,\n",
       "  184,\n",
       "  186,\n",
       "  188,\n",
       "  190,\n",
       "  192,\n",
       "  194,\n",
       "  196,\n",
       "  200,\n",
       "  202,\n",
       "  208,\n",
       "  210,\n",
       "  218,\n",
       "  220,\n",
       "  222,\n",
       "  224,\n",
       "  226,\n",
       "  228,\n",
       "  230,\n",
       "  232,\n",
       "  234,\n",
       "  236,\n",
       "  240,\n",
       "  242,\n",
       "  244,\n",
       "  246,\n",
       "  248,\n",
       "  250,\n",
       "  252,\n",
       "  254,\n",
       "  258,\n",
       "  264,\n",
       "  266,\n",
       "  268,\n",
       "  270,\n",
       "  272,\n",
       "  274,\n",
       "  278,\n",
       "  282,\n",
       "  288,\n",
       "  292,\n",
       "  296,\n",
       "  370,\n",
       "  372,\n",
       "  374,\n",
       "  376,\n",
       "  384,\n",
       "  386,\n",
       "  388,\n",
       "  390,\n",
       "  396,\n",
       "  402,\n",
       "  404,\n",
       "  412,\n",
       "  414,\n",
       "  416,\n",
       "  418,\n",
       "  422,\n",
       "  424,\n",
       "  426,\n",
       "  428,\n",
       "  434,\n",
       "  436,\n",
       "  438,\n",
       "  440,\n",
       "  442,\n",
       "  444,\n",
       "  446,\n",
       "  448,\n",
       "  450,\n",
       "  452,\n",
       "  454,\n",
       "  458,\n",
       "  464,\n",
       "  466,\n",
       "  468,\n",
       "  470,\n",
       "  472,\n",
       "  474,\n",
       "  476,\n",
       "  478,\n",
       "  520,\n",
       "  522,\n",
       "  524,\n",
       "  534,\n",
       "  536,\n",
       "  538,\n",
       "  540,\n",
       "  542,\n",
       "  544,\n",
       "  548,\n",
       "  550,\n",
       "  552,\n",
       "  554,\n",
       "  556,\n",
       "  558,\n",
       "  560,\n",
       "  562,\n",
       "  564,\n",
       "  566,\n",
       "  568,\n",
       "  574,\n",
       "  580,\n",
       "  590,\n",
       "  592,\n",
       "  594,\n",
       "  596,\n",
       "  598,\n",
       "  600,\n",
       "  602,\n",
       "  606,\n",
       "  610,\n",
       "  612,\n",
       "  614,\n",
       "  616,\n",
       "  640,\n",
       "  642,\n",
       "  644,\n",
       "  646,\n",
       "  652,\n",
       "  658,\n",
       "  660,\n",
       "  662,\n",
       "  664,\n",
       "  668,\n",
       "  670,\n",
       "  672,\n",
       "  674,\n",
       "  684,\n",
       "  686,\n",
       "  688,\n",
       "  690,\n",
       "  692,\n",
       "  694,\n",
       "  696,\n",
       "  698,\n",
       "  700,\n",
       "  702,\n",
       "  708,\n",
       "  710,\n",
       "  712,\n",
       "  714,\n",
       "  716,\n",
       "  718,\n",
       "  720,\n",
       "  722,\n",
       "  724,\n",
       "  726,\n",
       "  728,\n",
       "  730,\n",
       "  732,\n",
       "  734,\n",
       "  736,\n",
       "  738,\n",
       "  740,\n",
       "  742,\n",
       "  744,\n",
       "  746,\n",
       "  748,\n",
       "  750,\n",
       "  752,\n",
       "  754,\n",
       "  756,\n",
       "  758,\n",
       "  760,\n",
       "  762,\n",
       "  764,\n",
       "  766,\n",
       "  768,\n",
       "  770,\n",
       "  772,\n",
       "  774,\n",
       "  776,\n",
       "  778,\n",
       "  780,\n",
       "  782,\n",
       "  784,\n",
       "  786,\n",
       "  788,\n",
       "  790,\n",
       "  792,\n",
       "  794,\n",
       "  796,\n",
       "  798,\n",
       "  800,\n",
       "  802,\n",
       "  804,\n",
       "  806,\n",
       "  808,\n",
       "  810,\n",
       "  812,\n",
       "  814,\n",
       "  816,\n",
       "  818,\n",
       "  820,\n",
       "  822,\n",
       "  824,\n",
       "  826,\n",
       "  828,\n",
       "  830,\n",
       "  832,\n",
       "  834,\n",
       "  836,\n",
       "  838,\n",
       "  840,\n",
       "  842,\n",
       "  844,\n",
       "  846,\n",
       "  848,\n",
       "  850,\n",
       "  852,\n",
       "  854,\n",
       "  856,\n",
       "  858,\n",
       "  860,\n",
       "  862,\n",
       "  864,\n",
       "  866,\n",
       "  868,\n",
       "  870,\n",
       "  872,\n",
       "  896,\n",
       "  898,\n",
       "  900,\n",
       "  902,\n",
       "  1051,\n",
       "  1053,\n",
       "  1055,\n",
       "  1057,\n",
       "  1147,\n",
       "  1149,\n",
       "  1151,\n",
       "  1153,\n",
       "  1171,\n",
       "  1185,\n",
       "  1187,\n",
       "  1197,\n",
       "  1203,\n",
       "  1221,\n",
       "  1225,\n",
       "  1227,\n",
       "  1233,\n",
       "  1235,\n",
       "  1241,\n",
       "  1267,\n",
       "  1279,\n",
       "  1291,\n",
       "  1353,\n",
       "  1357,\n",
       "  1365,\n",
       "  1367,\n",
       "  1369,\n",
       "  1371,\n",
       "  1381,\n",
       "  1383,\n",
       "  1399,\n",
       "  1401,\n",
       "  1403,\n",
       "  1405,\n",
       "  1407,\n",
       "  1623,\n",
       "  1639,\n",
       "  1645,\n",
       "  1647,\n",
       "  1687,\n",
       "  1717,\n",
       "  1725,\n",
       "  1737,\n",
       "  1741,\n",
       "  1743,\n",
       "  1749,\n",
       "  1751,\n",
       "  1755,\n",
       "  1773,\n",
       "  1777,\n",
       "  1781,\n",
       "  1787,\n",
       "  1973,\n",
       "  1975,\n",
       "  1977,\n",
       "  1979,\n",
       "  2016,\n",
       "  2020,\n",
       "  2022,\n",
       "  2032,\n",
       "  2038,\n",
       "  2118,\n",
       "  2146,\n",
       "  2156,\n",
       "  2158,\n",
       "  2396,\n",
       "  2398,\n",
       "  2400,\n",
       "  2402,\n",
       "  2404,\n",
       "  2428,\n",
       "  2490,\n",
       "  2492,\n",
       "  2510,\n",
       "  2566,\n",
       "  2586,\n",
       "  2590,\n",
       "  2596,\n",
       "  2604,\n",
       "  2606,\n",
       "  2614,\n",
       "  2616,\n",
       "  2624,\n",
       "  2652,\n",
       "  2658,\n",
       "  2670,\n",
       "  2678,\n",
       "  2680,\n",
       "  2712,\n",
       "  2718,\n",
       "  2720,\n",
       "  2740,\n",
       "  2742,\n",
       "  2744,\n",
       "  2756,\n",
       "  2758,\n",
       "  2770,\n",
       "  2778,\n",
       "  2784,\n",
       "  2786,\n",
       "  2790,\n",
       "  2796,\n",
       "  3035,\n",
       "  3037,\n",
       "  3087,\n",
       "  3089,\n",
       "  3091,\n",
       "  3113,\n",
       "  3115,\n",
       "  3121,\n",
       "  3419],\n",
       " '135': [688,\n",
       "  690,\n",
       "  692,\n",
       "  694,\n",
       "  696,\n",
       "  698,\n",
       "  700,\n",
       "  702,\n",
       "  704,\n",
       "  706,\n",
       "  708,\n",
       "  710,\n",
       "  712,\n",
       "  714,\n",
       "  716,\n",
       "  718,\n",
       "  720,\n",
       "  722,\n",
       "  724,\n",
       "  726,\n",
       "  728,\n",
       "  730,\n",
       "  732,\n",
       "  734,\n",
       "  736,\n",
       "  738,\n",
       "  740,\n",
       "  742,\n",
       "  744,\n",
       "  746,\n",
       "  748,\n",
       "  750,\n",
       "  752,\n",
       "  754,\n",
       "  756,\n",
       "  758,\n",
       "  760,\n",
       "  762,\n",
       "  764,\n",
       "  766,\n",
       "  768,\n",
       "  770,\n",
       "  772,\n",
       "  810,\n",
       "  812,\n",
       "  814,\n",
       "  816,\n",
       "  818,\n",
       "  820,\n",
       "  822,\n",
       "  824,\n",
       "  826,\n",
       "  828,\n",
       "  830,\n",
       "  832,\n",
       "  834,\n",
       "  836,\n",
       "  838,\n",
       "  840,\n",
       "  842,\n",
       "  844,\n",
       "  846,\n",
       "  848,\n",
       "  850,\n",
       "  852,\n",
       "  854,\n",
       "  856,\n",
       "  858,\n",
       "  860,\n",
       "  862,\n",
       "  864,\n",
       "  866,\n",
       "  868,\n",
       "  870],\n",
       " '111': [392,\n",
       "  398,\n",
       "  400,\n",
       "  406,\n",
       "  408,\n",
       "  410,\n",
       "  1561,\n",
       "  1571,\n",
       "  1573,\n",
       "  2328,\n",
       "  2330,\n",
       "  2332,\n",
       "  2334,\n",
       "  2344,\n",
       "  2346,\n",
       "  2350,\n",
       "  2352,\n",
       "  2356],\n",
       " '130': [26,\n",
       "  28,\n",
       "  30,\n",
       "  1065,\n",
       "  1085,\n",
       "  1109,\n",
       "  1113,\n",
       "  1115,\n",
       "  1123,\n",
       "  1125,\n",
       "  1127,\n",
       "  1129,\n",
       "  1131,\n",
       "  1135,\n",
       "  1137,\n",
       "  1139,\n",
       "  1143,\n",
       "  1145,\n",
       "  1155,\n",
       "  1157,\n",
       "  1165,\n",
       "  1169,\n",
       "  1175,\n",
       "  1189,\n",
       "  1195,\n",
       "  1199,\n",
       "  1213,\n",
       "  1215,\n",
       "  1217,\n",
       "  1219,\n",
       "  1229,\n",
       "  1243,\n",
       "  1245,\n",
       "  1247,\n",
       "  1249,\n",
       "  1251,\n",
       "  1255,\n",
       "  1265,\n",
       "  1275,\n",
       "  1281,\n",
       "  1339,\n",
       "  1345,\n",
       "  1347,\n",
       "  1349,\n",
       "  1351,\n",
       "  1355,\n",
       "  1363,\n",
       "  1387,\n",
       "  1389,\n",
       "  1391,\n",
       "  1395,\n",
       "  1397,\n",
       "  1619,\n",
       "  1625,\n",
       "  1627,\n",
       "  1629,\n",
       "  1631,\n",
       "  1635,\n",
       "  1649,\n",
       "  1659,\n",
       "  1661,\n",
       "  1665,\n",
       "  1667,\n",
       "  1671,\n",
       "  1681,\n",
       "  1683,\n",
       "  1685,\n",
       "  1689,\n",
       "  1691,\n",
       "  1693,\n",
       "  1695,\n",
       "  1697,\n",
       "  1699,\n",
       "  1701,\n",
       "  1713,\n",
       "  1715,\n",
       "  1719,\n",
       "  1721,\n",
       "  1723],\n",
       " '114': [42],\n",
       " '124': [302,\n",
       "  1089,\n",
       "  1121,\n",
       "  1161,\n",
       "  1163,\n",
       "  1167,\n",
       "  1191,\n",
       "  1207,\n",
       "  1223,\n",
       "  1239,\n",
       "  1257,\n",
       "  1259,\n",
       "  1261,\n",
       "  1271,\n",
       "  1273,\n",
       "  1283,\n",
       "  1287,\n",
       "  1315,\n",
       "  1317,\n",
       "  1329,\n",
       "  1333,\n",
       "  1335,\n",
       "  1361,\n",
       "  1373,\n",
       "  1617,\n",
       "  1621,\n",
       "  1679,\n",
       "  1703,\n",
       "  1709,\n",
       "  1711,\n",
       "  1731,\n",
       "  1747,\n",
       "  1767,\n",
       "  1775,\n",
       "  2216,\n",
       "  2452,\n",
       "  2462,\n",
       "  2470,\n",
       "  2472,\n",
       "  2476,\n",
       "  2496,\n",
       "  2502,\n",
       "  2516,\n",
       "  2520,\n",
       "  2522,\n",
       "  2538,\n",
       "  2558,\n",
       "  2568,\n",
       "  2570,\n",
       "  2602,\n",
       "  2608,\n",
       "  2610,\n",
       "  2630,\n",
       "  2632,\n",
       "  2648,\n",
       "  2660,\n",
       "  2664,\n",
       "  2666,\n",
       "  2672,\n",
       "  2686,\n",
       "  2688,\n",
       "  2694,\n",
       "  2696,\n",
       "  2996,\n",
       "  2998,\n",
       "  3001,\n",
       "  3031,\n",
       "  3039,\n",
       "  3049,\n",
       "  3081,\n",
       "  3083,\n",
       "  3095,\n",
       "  3097,\n",
       "  3109],\n",
       " '110': [2426,\n",
       "  2446,\n",
       "  2454,\n",
       "  2466,\n",
       "  2468,\n",
       "  2474,\n",
       "  2482,\n",
       "  2518,\n",
       "  2562,\n",
       "  2572,\n",
       "  2690,\n",
       "  3003,\n",
       "  3005,\n",
       "  3007,\n",
       "  3009,\n",
       "  3013,\n",
       "  3015,\n",
       "  3017,\n",
       "  3019,\n",
       "  3025,\n",
       "  3027,\n",
       "  3055,\n",
       "  3057,\n",
       "  3059,\n",
       "  3061,\n",
       "  3063,\n",
       "  3065,\n",
       "  3071,\n",
       "  3073,\n",
       "  3075,\n",
       "  3103],\n",
       " '136': [3237,\n",
       "  3259,\n",
       "  3261,\n",
       "  3545,\n",
       "  3549,\n",
       "  3551,\n",
       "  3553,\n",
       "  3555,\n",
       "  3557,\n",
       "  3559,\n",
       "  3573,\n",
       "  3575,\n",
       "  3859,\n",
       "  3863,\n",
       "  3865,\n",
       "  3867,\n",
       "  3869,\n",
       "  3871,\n",
       "  3873,\n",
       "  3875,\n",
       "  3877,\n",
       "  3879,\n",
       "  4138,\n",
       "  4140,\n",
       "  4142,\n",
       "  4144,\n",
       "  4146,\n",
       "  4148,\n",
       "  4150,\n",
       "  4162,\n",
       "  4164,\n",
       "  4166,\n",
       "  4498,\n",
       "  4500,\n",
       "  4502,\n",
       "  4504,\n",
       "  4506,\n",
       "  4710,\n",
       "  4712,\n",
       "  4714,\n",
       "  4936,\n",
       "  4938,\n",
       "  4940,\n",
       "  4942,\n",
       "  4944,\n",
       "  4946,\n",
       "  4948,\n",
       "  4950,\n",
       "  4952,\n",
       "  4954,\n",
       "  5083,\n",
       "  5085,\n",
       "  5315,\n",
       "  5317,\n",
       "  5467,\n",
       "  5469,\n",
       "  5471,\n",
       "  5473,\n",
       "  5475,\n",
       "  5477,\n",
       "  5611,\n",
       "  5613,\n",
       "  5615,\n",
       "  5617,\n",
       "  5619,\n",
       "  5621,\n",
       "  5779,\n",
       "  5781,\n",
       "  5783,\n",
       "  6228,\n",
       "  6556,\n",
       "  6560,\n",
       "  6564,\n",
       "  6688,\n",
       "  6690,\n",
       "  6886,\n",
       "  6888,\n",
       "  6974],\n",
       " '132': [3237,\n",
       "  3545,\n",
       "  3723,\n",
       "  3725,\n",
       "  3727,\n",
       "  3745,\n",
       "  3747,\n",
       "  3749,\n",
       "  3751,\n",
       "  3753,\n",
       "  3755,\n",
       "  3995,\n",
       "  3997,\n",
       "  4000,\n",
       "  4002,\n",
       "  4004,\n",
       "  4006,\n",
       "  4008,\n",
       "  4162,\n",
       "  4164,\n",
       "  4168,\n",
       "  4382,\n",
       "  4392,\n",
       "  4480,\n",
       "  4482,\n",
       "  4484,\n",
       "  4486,\n",
       "  4488,\n",
       "  4490,\n",
       "  4492,\n",
       "  4494,\n",
       "  4496,\n",
       "  4714,\n",
       "  5055,\n",
       "  5057,\n",
       "  5083,\n",
       "  5085,\n",
       "  5319,\n",
       "  5321,\n",
       "  5323,\n",
       "  5325,\n",
       "  5327,\n",
       "  5517,\n",
       "  5519,\n",
       "  5521,\n",
       "  5523,\n",
       "  5525,\n",
       "  5527,\n",
       "  5529,\n",
       "  5785,\n",
       "  6228,\n",
       "  6432,\n",
       "  6434,\n",
       "  6436,\n",
       "  6438,\n",
       "  6440,\n",
       "  6616,\n",
       "  6686,\n",
       "  6914,\n",
       "  6916,\n",
       "  6918,\n",
       "  6920,\n",
       "  6974],\n",
       " '113': [4068,\n",
       "  4070,\n",
       "  4072,\n",
       "  4074,\n",
       "  4076,\n",
       "  4078,\n",
       "  4080,\n",
       "  4082,\n",
       "  4084,\n",
       "  4086,\n",
       "  4138,\n",
       "  4140,\n",
       "  4142,\n",
       "  4144,\n",
       "  4146,\n",
       "  4148,\n",
       "  4150,\n",
       "  4152,\n",
       "  4154,\n",
       "  4156,\n",
       "  4158,\n",
       "  4160],\n",
       " '105': [3699, 3701, 3703, 3705, 3707, 3709, 3713, 3715, 3717, 3719, 3721],\n",
       " '117': [3837, 3839, 3841, 3843, 3845, 3847, 3849, 3851, 3853, 3855, 3857],\n",
       " '134': [4726,\n",
       "  4728,\n",
       "  5335,\n",
       "  5337,\n",
       "  5339,\n",
       "  5341,\n",
       "  5343,\n",
       "  5345,\n",
       "  5347,\n",
       "  5349,\n",
       "  5351,\n",
       "  5353,\n",
       "  5449,\n",
       "  5451,\n",
       "  5453,\n",
       "  5455,\n",
       "  5457,\n",
       "  5459,\n",
       "  5461,\n",
       "  5463],\n",
       " '112': [4754,\n",
       "  4756,\n",
       "  4758,\n",
       "  4760,\n",
       "  4762,\n",
       "  4764,\n",
       "  4766,\n",
       "  4772,\n",
       "  4774,\n",
       "  4776,\n",
       "  5281,\n",
       "  5283,\n",
       "  6280,\n",
       "  6282,\n",
       "  6284,\n",
       "  6286,\n",
       "  6288,\n",
       "  6870,\n",
       "  6872,\n",
       "  6874,\n",
       "  6876,\n",
       "  6878],\n",
       " '127': [5105,\n",
       "  6024,\n",
       "  6026,\n",
       "  6028,\n",
       "  6030,\n",
       "  6032,\n",
       "  6084,\n",
       "  6086,\n",
       "  6088,\n",
       "  6090,\n",
       "  6122,\n",
       "  6126,\n",
       "  6128,\n",
       "  6130,\n",
       "  6132,\n",
       "  6134,\n",
       "  6136,\n",
       "  6138],\n",
       " '119': [7165,\n",
       "  7167,\n",
       "  7169,\n",
       "  7171,\n",
       "  7173,\n",
       "  7175,\n",
       "  7177,\n",
       "  7179,\n",
       "  7337,\n",
       "  7339,\n",
       "  7341,\n",
       "  7343,\n",
       "  7345,\n",
       "  7347,\n",
       "  7349,\n",
       "  7351,\n",
       "  7669,\n",
       "  7671,\n",
       "  7673,\n",
       "  7675,\n",
       "  7677,\n",
       "  7679,\n",
       "  7681,\n",
       "  7683,\n",
       "  7735,\n",
       "  8116,\n",
       "  8118,\n",
       "  8300,\n",
       "  8302,\n",
       "  8304,\n",
       "  8306,\n",
       "  8308,\n",
       "  8310,\n",
       "  8562],\n",
       " '129': [7705,\n",
       "  7707,\n",
       "  7709,\n",
       "  7711,\n",
       "  7713,\n",
       "  7715,\n",
       "  7717,\n",
       "  7951,\n",
       "  7953,\n",
       "  7955,\n",
       "  7957,\n",
       "  7959,\n",
       "  7961,\n",
       "  7963,\n",
       "  7965,\n",
       "  7967,\n",
       "  7969,\n",
       "  7971,\n",
       "  7973,\n",
       "  7975,\n",
       "  8044,\n",
       "  8046,\n",
       "  8052,\n",
       "  8054,\n",
       "  8058,\n",
       "  8060,\n",
       "  8062,\n",
       "  8064,\n",
       "  8066,\n",
       "  8068,\n",
       "  8070,\n",
       "  8072,\n",
       "  8074,\n",
       "  8076,\n",
       "  8078,\n",
       "  8080,\n",
       "  8082,\n",
       "  8084,\n",
       "  8090,\n",
       "  8092],\n",
       " '108': [7707, 7709, 7711],\n",
       " '137': [8130,\n",
       "  8132,\n",
       "  9041,\n",
       "  9043,\n",
       "  9045,\n",
       "  9047,\n",
       "  9049,\n",
       "  9051,\n",
       "  9053,\n",
       "  9055,\n",
       "  9057,\n",
       "  9059,\n",
       "  9061,\n",
       "  9063,\n",
       "  9065,\n",
       "  9067,\n",
       "  9069,\n",
       "  9071,\n",
       "  9239,\n",
       "  9241,\n",
       "  9243,\n",
       "  9245,\n",
       "  9247,\n",
       "  9329,\n",
       "  9363,\n",
       "  9365,\n",
       "  9367,\n",
       "  9369,\n",
       "  9371,\n",
       "  9373,\n",
       "  9375,\n",
       "  9377,\n",
       "  9379,\n",
       "  9381,\n",
       "  9485,\n",
       "  9487,\n",
       "  9489,\n",
       "  9491,\n",
       "  9493,\n",
       "  9495,\n",
       "  9497,\n",
       "  9499,\n",
       "  9501,\n",
       "  9503,\n",
       "  9505,\n",
       "  9507,\n",
       "  9509,\n",
       "  9511,\n",
       "  9513,\n",
       "  9625,\n",
       "  9627,\n",
       "  9629,\n",
       "  9631,\n",
       "  9633,\n",
       "  9635,\n",
       "  9637,\n",
       "  9759,\n",
       "  9761,\n",
       "  9901,\n",
       "  9903,\n",
       "  9905,\n",
       "  9907,\n",
       "  9909,\n",
       "  9911,\n",
       "  9913,\n",
       "  9915,\n",
       "  9917,\n",
       "  9919,\n",
       "  9921,\n",
       "  9923,\n",
       "  9925,\n",
       "  9927,\n",
       "  9929,\n",
       "  9931,\n",
       "  9933,\n",
       "  9935,\n",
       "  10064,\n",
       "  10238,\n",
       "  10240,\n",
       "  10242,\n",
       "  10244,\n",
       "  10246,\n",
       "  10248,\n",
       "  10250,\n",
       "  10252,\n",
       "  10254,\n",
       "  10256,\n",
       "  10258,\n",
       "  10260,\n",
       "  10262,\n",
       "  10264,\n",
       "  10286,\n",
       "  10288,\n",
       "  10290,\n",
       "  10292,\n",
       "  10294,\n",
       "  10296,\n",
       "  10298,\n",
       "  10308,\n",
       "  10310,\n",
       "  10312,\n",
       "  10314,\n",
       "  10316,\n",
       "  10318,\n",
       "  10320,\n",
       "  10322,\n",
       "  10324,\n",
       "  10326,\n",
       "  10328,\n",
       "  10330,\n",
       "  10332,\n",
       "  10334,\n",
       "  10336,\n",
       "  10510,\n",
       "  10512,\n",
       "  10514,\n",
       "  10516,\n",
       "  10518,\n",
       "  10520,\n",
       "  10522,\n",
       "  10524,\n",
       "  10526,\n",
       "  10528,\n",
       "  10530,\n",
       "  10532,\n",
       "  10534,\n",
       "  10536,\n",
       "  10692,\n",
       "  10694,\n",
       "  10696,\n",
       "  10698,\n",
       "  10700,\n",
       "  10702,\n",
       "  10704,\n",
       "  10706,\n",
       "  10708,\n",
       "  10710,\n",
       "  10712],\n",
       " '125': [9079,\n",
       "  9081,\n",
       "  9083,\n",
       "  9085,\n",
       "  9087,\n",
       "  9089,\n",
       "  9091,\n",
       "  9093,\n",
       "  9095,\n",
       "  9097,\n",
       "  9099,\n",
       "  9101,\n",
       "  9103,\n",
       "  9105,\n",
       "  9127,\n",
       "  9129,\n",
       "  9131,\n",
       "  9133,\n",
       "  9135,\n",
       "  9137,\n",
       "  9217,\n",
       "  9219,\n",
       "  9221,\n",
       "  9223,\n",
       "  9225,\n",
       "  9227,\n",
       "  9229,\n",
       "  9231,\n",
       "  9233,\n",
       "  9235,\n",
       "  9237]}"
      ]
     },
     "execution_count": 164,
     "metadata": {},
     "output_type": "execute_result"
    }
   ],
   "source": [
    "face_intervals"
   ]
  },
  {
   "cell_type": "code",
   "execution_count": null,
   "metadata": {},
   "outputs": [],
   "source": []
  },
  {
   "cell_type": "code",
   "execution_count": null,
   "metadata": {},
   "outputs": [],
   "source": []
  },
  {
   "cell_type": "code",
   "execution_count": 141,
   "metadata": {},
   "outputs": [],
   "source": [
    "shows = (sorted(face_intervals.items(),key = lambda x: x[1][-1]))\n",
    "shows = [list(x) for x in shows]"
   ]
  },
  {
   "cell_type": "code",
   "execution_count": 142,
   "metadata": {},
   "outputs": [],
   "source": [
    "#The Kagan Problem solution - remove overlapping boundaries (from the last)\n",
    "for prev in range(len(shows)-2,-1,-1):\n",
    "    \n",
    "    if not (shows[prev][1]): #If previous boundary is completely removed, we can skip it.\n",
    "        continue\n",
    "    \n",
    "    for curr in range(len(shows)-1,prev,-1): \n",
    "        if not(shows[curr][1]) or not(shows[prev][1]):\n",
    "            continue\n",
    "        curr_lb = shows[curr][1][0]\n",
    "        prev_ub = shows[prev][1][-1]\n",
    "        if(prev_ub>curr_lb): #Not necessary, but left for readability\n",
    "            shows[prev][1] = [x for x in shows[prev][1] if x<=curr_lb] #Only taking values not overlapping with the next show"
   ]
  },
  {
   "cell_type": "code",
   "execution_count": 172,
   "metadata": {},
   "outputs": [
    {
     "name": "stdout",
     "output_type": "stream",
     "text": [
      "Show 1 (Host 130): 00:00:26 to 00:00:30\n",
      "Show 2 (Host 140): 00:00:32 to 00:52:01\n",
      "Show 3 (Host 136): 00:53:57 to 00:53:57\n",
      "Show 4 (Host 132): 00:53:57 to 01:47:20\n",
      "Show 5 (Host 91): 01:49:20 to 01:49:30\n",
      "Show 6 (Host 95): 01:49:54 to 01:50:06\n",
      "Show 7 (Host 119): 01:59:25 to 02:15:18\n",
      "Show 8 (Host 137): 02:15:30 to 02:58:32\n",
      "Show 9 (Host 93): 03:05:27 to 03:06:29\n",
      "Show 10 (Host 103): 03:27:56 to 03:57:26\n",
      "Show 11 (Host 102): 04:37:44 to 04:37:46\n",
      "Show 12 (Host 139): 04:38:12 to 04:38:16\n",
      "Show 13 (Host 138): 04:38:16 to 06:59:15\n",
      "Show 14 (Host 99): 07:11:55 to 07:12:29\n",
      "Show 15 (Host 115): 07:17:36 to 07:20:36\n",
      "Show 16 (Host 101): 07:43:53 to 07:45:17\n"
     ]
    }
   ],
   "source": [
    "count = 1\n",
    "for show in shows:\n",
    "    if(show[1]): #Not empty\n",
    "        start = sec2HMS(show[1][0])\n",
    "        end = sec2HMS(show[1][-1])\n",
    "        print('Show {} (Host {}): {} to {}'.format(count,show[0],start,end))\n",
    "        count += 1\n",
    "ping_telegram('Post processing done! [3/3]')"
   ]
  },
  {
   "cell_type": "code",
   "execution_count": 464,
   "metadata": {},
   "outputs": [
    {
     "name": "stdout",
     "output_type": "stream",
     "text": [
      "Show 1: 00:00:38 to 01:56:51\n",
      "Show 2: 02:00:41 to 02:56:56\n",
      "Show 3: 03:00:42 to 05:59:45\n",
      "Show 4: 05:59:53 to 08:00:16\n"
     ]
    }
   ],
   "source": [
    "#CNN\n",
    "count = 1\n",
    "for show in shows:\n",
    "    if(show[1]): #Not empty\n",
    "        start = sec2HMS(show[1][0])\n",
    "        end = sec2HMS(show[1][-1])\n",
    "        print('Show {}: {} to {}'.format(count,start,end))\n",
    "        count += 1    "
   ]
  },
  {
   "cell_type": "markdown",
   "metadata": {},
   "source": [
    "## Boundary code ends - July 3"
   ]
  },
  {
   "cell_type": "code",
   "execution_count": 182,
   "metadata": {},
   "outputs": [],
   "source": [
    "trends_occs = {}\n",
    "for time,clases in trends.items():\n",
    "    time = HMS2sec(time)\n",
    "    for clas in clases:\n",
    "        if clas in trends_occs:\n",
    "            trends_occs[clas].append(time)\n",
    "        else:\n",
    "            trends_occs[clas] = [time]"
   ]
  },
  {
   "cell_type": "code",
   "execution_count": 183,
   "metadata": {
    "collapsed": true
   },
   "outputs": [
    {
     "data": {
      "text/plain": [
       "[('119',\n",
       "  [10838,\n",
       "   11438,\n",
       "   12038,\n",
       "   12638,\n",
       "   13231,\n",
       "   13838,\n",
       "   14438,\n",
       "   15038,\n",
       "   15638,\n",
       "   16238,\n",
       "   16838,\n",
       "   17438,\n",
       "   18038,\n",
       "   18638,\n",
       "   19237,\n",
       "   19829,\n",
       "   20438,\n",
       "   21037,\n",
       "   24038]),\n",
       " ('117',\n",
       "  [38,\n",
       "   638,\n",
       "   1238,\n",
       "   1838,\n",
       "   2438,\n",
       "   3038,\n",
       "   3638,\n",
       "   4238,\n",
       "   4838,\n",
       "   5438,\n",
       "   6038,\n",
       "   6638,\n",
       "   7837,\n",
       "   8438,\n",
       "   18038]),\n",
       " ('115',\n",
       "  [8438,\n",
       "   10838,\n",
       "   11438,\n",
       "   15038,\n",
       "   18038,\n",
       "   18638,\n",
       "   19237,\n",
       "   24638,\n",
       "   25238,\n",
       "   26438,\n",
       "   27638]),\n",
       " ('118',\n",
       "  [21037,\n",
       "   21638,\n",
       "   22238,\n",
       "   22838,\n",
       "   24038,\n",
       "   24638,\n",
       "   25238,\n",
       "   25838,\n",
       "   26438,\n",
       "   27037,\n",
       "   27638]),\n",
       " ('116',\n",
       "  [11438, 12038, 12638, 13838, 14438, 15638, 17438, 18038, 21037, 22238]),\n",
       " ('111', [38, 3638, 10838, 12638, 14438, 18038]),\n",
       " ('112', [638, 1838, 2438, 3638, 4238, 5438]),\n",
       " ('109', [7238, 7837, 8438, 9038, 9638, 10238]),\n",
       " ('102', [21638, 22238, 22838, 25238, 26438, 27037]),\n",
       " ('114', [21638, 22238, 22838, 25238, 27037]),\n",
       " ('108', [4238, 12638, 13231]),\n",
       " ('113', [18638, 19237, 24038]),\n",
       " ('107', [2438, 6638]),\n",
       " ('104', [19237, 19829]),\n",
       " ('103', [19237, 19829]),\n",
       " ('106', [22838, 23438]),\n",
       " ('110', [23438, 24038]),\n",
       " ('100', [25238, 27037]),\n",
       " ('101', [1238]),\n",
       " ('105', [16838])]"
      ]
     },
     "execution_count": 183,
     "metadata": {},
     "output_type": "execute_result"
    }
   ],
   "source": [
    "sorted(trends_occs.items(),key = lambda x: len(x[1]),reverse=True)"
   ]
  },
  {
   "cell_type": "code",
   "execution_count": null,
   "metadata": {},
   "outputs": [],
   "source": [
    "sorted(trends_occs.items(), key = lambda x: len(x[1]), reverse=True)[:5]\n",
    "##Inference: The top 2 faces with the most occurences are faces of the hosts (44_0 and 20_0)"
   ]
  },
  {
   "cell_type": "code",
   "execution_count": null,
   "metadata": {},
   "outputs": [],
   "source": [
    "sorted(trends_occs.items(), key = lambda x: len(x[1]), reverse=True)[:5]\n",
    "##Inference: The top 2 faces with the most occurences are faces of the hosts (44_0 and 20_0)"
   ]
  }
 ],
 "metadata": {
  "kernelspec": {
   "display_name": "Python 3",
   "language": "python",
   "name": "python3"
  },
  "language_info": {
   "codemirror_mode": {
    "name": "ipython",
    "version": 3
   },
   "file_extension": ".py",
   "mimetype": "text/x-python",
   "name": "python",
   "nbconvert_exporter": "python",
   "pygments_lexer": "ipython3",
   "version": "3.7.3"
  },
  "widgets": {
   "application/vnd.jupyter.widget-state+json": {
    "state": {},
    "version_major": 2,
    "version_minor": 0
   }
  }
 },
 "nbformat": 4,
 "nbformat_minor": 2
}
