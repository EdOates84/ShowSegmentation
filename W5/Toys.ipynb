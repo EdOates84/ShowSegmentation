{
 "cells": [
  {
   "cell_type": "markdown",
   "metadata": {},
   "source": [
    "# Face clustering Visualization"
   ]
  },
  {
   "cell_type": "code",
   "execution_count": 1,
   "metadata": {},
   "outputs": [],
   "source": [
    "import os\n",
    "import subprocess\n",
    "import matplotlib\n",
    "from matplotlib.pyplot import figure\n",
    "from datetime import datetime\n",
    "import time as tm\n",
    "from PIL import Image\n",
    "import cv2\n",
    "import pickle\n",
    "import random\n",
    "import face_recognition\n",
    "from tqdm import tqdm\n",
    "import numpy as np\n",
    "import pandas as pd\n",
    "import matplotlib.pyplot as plt\n",
    "import telegram"
   ]
  },
  {
   "cell_type": "code",
   "execution_count": 2,
   "metadata": {},
   "outputs": [],
   "source": [
    "keys = open('../telegram_keys','r')\n",
    "token,chat_id=keys.read().split(',')\n",
    "def ping_telegram(text):\n",
    "    import telegram\n",
    "    bot = telegram.Bot(token=token)\n",
    "    bot.send_message(chat_id=chat_id[:-1], text = text )"
   ]
  },
  {
   "cell_type": "code",
   "execution_count": 3,
   "metadata": {},
   "outputs": [],
   "source": [
    "def loadPickle(filename):\n",
    "    infile = open(filename,'rb')\n",
    "    return pickle.load(infile)\n",
    "\n",
    "def storePickle(filename, data):\n",
    "    file = open(filename,'wb')\n",
    "    pickle.dump(data, file)\n",
    "    file.close() "
   ]
  },
  {
   "cell_type": "markdown",
   "metadata": {},
   "source": [
    "## Face encodings using <a href=\"https://github.com/ageitgey/face_recognition\">face_recognition</a>"
   ]
  },
  {
   "cell_type": "code",
   "execution_count": 4,
   "metadata": {},
   "outputs": [],
   "source": [
    "def sec2HMS(seconds):\n",
    "    #seconds = int(seconds)\n",
    "    return tm.strftime('%H:%M:%S', tm.gmtime(seconds))"
   ]
  },
  {
   "cell_type": "code",
   "execution_count": 5,
   "metadata": {},
   "outputs": [],
   "source": [
    "def getFaceEncodings(vid_path, dirName, interval=60, model = 'hog', store=False):\n",
    "    \"\"\" Returns 129D encodings for each face present in the video\n",
    "        First 128 are the face encodings and the last value is the time.\n",
    "        \n",
    "       :param interval: (in seconds) frame interval to skip and look for faces\n",
    "       :param model: 'hog' is less accurate but faster compared to 'cnn'\n",
    "       :param store: if True, stores the faces in directory specified by dirName \"\"\"\n",
    "    vidcap = cv2.VideoCapture(vid_path)\n",
    "    fps = vidcap.get(cv2.CAP_PROP_FPS)\n",
    "    print(\"FPS of the video: {}\".format(fps))\n",
    "    allEncodings = [] #Dict mapping face jpg to its encodings\n",
    "    n_frame = 0 # no. of frame being processed\n",
    "    if not os.path.exists(dirName):\n",
    "        os.mkdir(dirName)\n",
    "    success, frame = vidcap.read()\n",
    "    while success:\n",
    "        rgb = cv2.cvtColor(frame,cv2.COLOR_BGR2RGB)\n",
    "        time = int(n_frame/fps)\n",
    "        #print(time)\n",
    "        bboxes = face_recognition.face_locations(rgb,model=model)\n",
    "        encodings = face_recognition.face_encodings(rgb,bboxes)\n",
    "        for i,bbox in enumerate(bboxes): #for each found face in the frame\n",
    "            top,right,bottom,left = bbox[0],bbox[1],bbox[2],bbox[3]\n",
    "            face_img = frame[top:bottom, left:right]\n",
    "            \n",
    "            if store:\n",
    "                filename = dirName+\"/t\"+sec2HMS(n_frame/fps)+\"f\"+str(i)+\".jpg\"\n",
    "                cv2.imwrite(filename, face_img)\n",
    "                \n",
    "            encod_with_time = np.append(encodings[i],time)\n",
    "            allEncodings.append(encod_with_time)\n",
    "            \n",
    "        n_frame += interval            \n",
    "        vidcap.set(cv2.CAP_PROP_POS_FRAMES,n_frame)\n",
    "        success, frame = vidcap.read()    \n",
    "    #Pickling data as a binary stream \n",
    "    file = open(dirName+'/faceEncodingsPickle','wb')\n",
    "    pickle.dump(allEncodings, file)\n",
    "    file.close()\n",
    "    return allEncodings"
   ]
  },
  {
   "cell_type": "code",
   "execution_count": null,
   "metadata": {
    "scrolled": true
   },
   "outputs": [],
   "source": [
    "try:\n",
    "    encodings = getFaceEncodings(\"../data/2006-2Hours.mp4\",dirName=\"2006-2Hours\",store=True)\n",
    "except:\n",
    "    ping_telegram(\"ERROR\")\n",
    "ping_telegram('Face encodings for 2 hours are ready')"
   ]
  },
  {
   "cell_type": "code",
   "execution_count": null,
   "metadata": {},
   "outputs": [],
   "source": [
    "try:\n",
    "    encodings = getFaceEncodings(\"../data/2006-01-02_0000_US_00001057_V11_M2_VHS10_H4_JA.mp4\",dirName=\"2006-8Hours\",store=False)\n",
    "except:\n",
    "    ping_telegram(\"ERROR\")\n",
    "ping_telegram('Face encodings for 8 hours are ready')"
   ]
  },
  {
   "cell_type": "code",
   "execution_count": 155,
   "metadata": {},
   "outputs": [
    {
     "name": "stdout",
     "output_type": "stream",
     "text": [
      "(72, 129)\n",
      "First 128 are encodings, the last value stores the time\n"
     ]
    }
   ],
   "source": [
    "encodings = np.array(encodings)\n",
    "print(encodings.shape)\n",
    "print(\"First 128 are encodings, the last value stores the time\")"
   ]
  },
  {
   "cell_type": "markdown",
   "metadata": {},
   "source": [
    "## Unclustered faces visualization using time for color gradient"
   ]
  },
  {
   "cell_type": "code",
   "execution_count": 124,
   "metadata": {},
   "outputs": [],
   "source": [
    "#from sklearn.preprocessing import StandardScaler\n",
    "#from sklearn.decomposition import PCA\n",
    "import plotly\n",
    "file = open('plotly_key','r')\n",
    "plotly_key = (file.read()[:-1])\n",
    "plotly.tools.set_credentials_file(username='eonr', api_key=plotly_key)\n",
    "import plotly.plotly as py\n",
    "import plotly.graph_objs as go"
   ]
  },
  {
   "cell_type": "code",
   "execution_count": 157,
   "metadata": {},
   "outputs": [
    {
     "name": "stdout",
     "output_type": "stream",
     "text": [
      "(72, 2)\n"
     ]
    }
   ],
   "source": [
    "data = StandardScaler().fit_transform(encodings[:,:-1]) #Leaving out time for PCA\n",
    "pca = PCA(n_components=2)\n",
    "encodings2D = pca.fit_transform(data)\n",
    "print(encodings2D.shape)"
   ]
  },
  {
   "cell_type": "code",
   "execution_count": 158,
   "metadata": {},
   "outputs": [],
   "source": [
    "x = encodings2D[:,0]\n",
    "y = encodings2D[:,1]\n",
    "z = encodings[:,-1] #time\n",
    "trace = go.Scatter3d(\n",
    "    x=x,\n",
    "    y=y,\n",
    "    z=z,\n",
    "    mode='markers',\n",
    "    marker=dict(\n",
    "        size=12,\n",
    "        color=-z,                # set color to an array/list of desired values\n",
    "        colorscale='Viridis',   # choose a colorscale\n",
    "        opacity=0.8\n",
    "    )\n",
    ")"
   ]
  },
  {
   "cell_type": "code",
   "execution_count": 159,
   "metadata": {},
   "outputs": [],
   "source": [
    "layout = go.Layout( scene = dict(\n",
    "                    xaxis = dict(\n",
    "                        title='feature-1'),\n",
    "                    yaxis = dict(\n",
    "                        title='feature-2'),\n",
    "                    zaxis = dict(\n",
    "                        title='Time'),),\n",
    "    margin=dict(\n",
    "        l=0,\n",
    "        r=0,\n",
    "        b=0,\n",
    "        t=0\n",
    "    ),\n",
    "    \n",
    ")"
   ]
  },
  {
   "cell_type": "code",
   "execution_count": null,
   "metadata": {},
   "outputs": [],
   "source": [
    "fig = go.Figure(data=[trace], layout=layout)\n",
    "py.iplot(fig, filename='faces-SAAClip-4 minutes')"
   ]
  },
  {
   "cell_type": "code",
   "execution_count": null,
   "metadata": {},
   "outputs": [],
   "source": [
    "fig = go.Figure(data=[trace], layout=layout)\n",
    "py.iplot(fig, filename='faces-2006-2 hours')"
   ]
  },
  {
   "cell_type": "code",
   "execution_count": null,
   "metadata": {},
   "outputs": [],
   "source": [
    "fig = go.Figure(data=[trace], layout=layout)\n",
    "py.iplot(fig, filename='faces-2006-8 hours')"
   ]
  },
  {
   "cell_type": "markdown",
   "metadata": {},
   "source": [
    "## Clustered faces visualization"
   ]
  },
  {
   "cell_type": "code",
   "execution_count": 6,
   "metadata": {},
   "outputs": [],
   "source": [
    "def findFaces(image_path, model=\"cnn\"):\n",
    "    \"\"\"Returns b-boxes and encodings of all faces present in the image\n",
    "    \n",
    "    :param image: must be in RGB format\n",
    "    :param model: hog is less accurate but faster compared to cnn\n",
    "\n",
    "    boxes    : list of bboxes, each a tuple of size 4\n",
    "    encodings: list of 128-d encodings for each face\"\"\"\n",
    "    im = Image.open(image_path)\n",
    "    image = face_recognition.load_image_file(image_path)\n",
    "    width, height = im.size\n",
    "    boxes = [(0,width,height,0)]\n",
    "    encodings = face_recognition.face_encodings(image,boxes)\n",
    "    return boxes, encodings"
   ]
  },
  {
   "cell_type": "code",
   "execution_count": 7,
   "metadata": {},
   "outputs": [],
   "source": [
    "def HMS2sec(time_str):\n",
    "    h, m, s = time_str.split(':')\n",
    "    return int(h) * 3600 + int(m) * 60 + int(s)"
   ]
  },
  {
   "cell_type": "code",
   "execution_count": 8,
   "metadata": {},
   "outputs": [],
   "source": [
    "def file2encoding(vid_path, dirName, interval=60, model = 'hog', store=False):\n",
    "    \"\"\" Returns 129D encodings for each face present in the video\n",
    "        First 128 are the face encodings and the last value is the time.\n",
    "        \n",
    "       :param interval: (in seconds) frame interval to skip and look for faces\n",
    "       :param model: 'hog' is less accurate but faster compared to 'cnn'\n",
    "       :param store: if True, stores the faces in directory specified by dirName \"\"\"\n",
    "    vidcap = cv2.VideoCapture(vid_path)\n",
    "    fps = vidcap.get(cv2.CAP_PROP_FPS)\n",
    "    print(\"FPS of the video: {}\".format(fps))\n",
    "    allEncodings = {} #Dict mapping face jpg to its encodings\n",
    "    n_frame = 0 # no. of frame being processed\n",
    "    if not os.path.exists(dirName):\n",
    "        os.mkdir(dirName)\n",
    "    success, frame = vidcap.read()\n",
    "    while success:\n",
    "        rgb = cv2.cvtColor(frame,cv2.COLOR_BGR2RGB)\n",
    "        time = int(n_frame/fps)\n",
    "        #print(time)\n",
    "        bboxes = face_recognition.face_locations(rgb,model=model)\n",
    "        encodings = face_recognition.face_encodings(rgb,bboxes)\n",
    "        for i,bbox in enumerate(bboxes): #for each found face in the frame\n",
    "            top,right,bottom,left = bbox[0],bbox[1],bbox[2],bbox[3]\n",
    "            face_img = frame[top:bottom, left:right]\n",
    "            \n",
    "            if store:\n",
    "                filename = dirName+\"/t\"+sec2HMS(n_frame/fps)+\"f\"+str(i)+\".jpg\"\n",
    "                cv2.imwrite(filename, face_img)\n",
    "                \n",
    "            encod_with_time = np.append(encodings[i],time)\n",
    "            allEncodings[filename]=(encod_with_time)\n",
    "            \n",
    "        n_frame += interval            \n",
    "        vidcap.set(cv2.CAP_PROP_POS_FRAMES,n_frame)\n",
    "        success, frame = vidcap.read()    \n",
    "    #Pickling data as a binary stream \n",
    "    file = open(dirName+'/faceEncodingsPickle','wb')\n",
    "    pickle.dump(allEncodings, file)\n",
    "    file.close()\n",
    "    return allEncodings"
   ]
  },
  {
   "cell_type": "code",
   "execution_count": 9,
   "metadata": {},
   "outputs": [],
   "source": [
    "root = '2006-8hour-imagecluster' #directory to store the encodings, faces and face_clusters in"
   ]
  },
  {
   "cell_type": "code",
   "execution_count": 33,
   "metadata": {
    "scrolled": true
   },
   "outputs": [
    {
     "name": "stdout",
     "output_type": "stream",
     "text": [
      "FPS of the video: 29.97\n"
     ]
    }
   ],
   "source": [
    "encodings= file2encoding('../data/2006-01-02_0000_US_00001057_V11_M2_VHS10_H4_JA.mp4',dirName=root,store=True) #TODO - make this \"../data/2006-2Hours.mp4\""
   ]
  },
  {
   "cell_type": "code",
   "execution_count": 10,
   "metadata": {},
   "outputs": [],
   "source": [
    "#Loading pickle\n",
    "infile = open('faceEncodingsPickle','rb')\n",
    "encodings = pickle.load(infile)"
   ]
  },
  {
   "cell_type": "code",
   "execution_count": 11,
   "metadata": {},
   "outputs": [],
   "source": [
    "keys = encodings.keys()\n",
    "values = np.array(list(encodings.values()))\n",
    "\n",
    "data = StandardScaler().fit_transform(values[:,:-1]) #Leaving out time for PCA\n",
    "pca = PCA(n_components=2)\n",
    "features2D = pca.fit_transform(data)\n",
    "\n",
    "encodings3D = {}\n",
    "for i,key in enumerate(keys):\n",
    "    feature1 = features2D[i,0]\n",
    "    feature2 = features2D[i,1]\n",
    "    time = values[i,-1]\n",
    "    encodings3D[key] = np.array([feature1, feature2, time])"
   ]
  },
  {
   "cell_type": "markdown",
   "metadata": {},
   "source": [
    "#### Clustering using <a href=\"https://github.com/elcorto/imagecluster\">imagecluster</a>"
   ]
  },
  {
   "cell_type": "code",
   "execution_count": 2,
   "metadata": {},
   "outputs": [
    {
     "name": "stderr",
     "output_type": "stream",
     "text": [
      "Using TensorFlow backend.\n"
     ]
    }
   ],
   "source": [
    "from imagecluster import main"
   ]
  },
  {
   "cell_type": "code",
   "execution_count": null,
   "metadata": {},
   "outputs": [],
   "source": [
    "try:\n",
    "    main.main('2006-8hour-imagecluster/',sim=0.7,vis=False)\n",
    "    ping_telegram('Clustering is done!')\n",
    "except:\n",
    "    ping_telegram('Error :(')"
   ]
  },
  {
   "cell_type": "code",
   "execution_count": null,
   "metadata": {
    "scrolled": true
   },
   "outputs": [],
   "source": [
    "!tree 2006-8hour-imagecluster/imagecluster/clusters"
   ]
  },
  {
   "cell_type": "markdown",
   "metadata": {},
   "source": [
    "### 2D Scatter plot -> (feature1 and feature2 on y-axis, time on x-axis)"
   ]
  },
  {
   "cell_type": "code",
   "execution_count": 53,
   "metadata": {},
   "outputs": [
    {
     "name": "stderr",
     "output_type": "stream",
     "text": [
      "100%|██████████| 22/22 [00:02<00:00,  7.39it/s]\n"
     ]
    }
   ],
   "source": [
    "traces = []\n",
    "fakeroot=root+'/imagecluster/clusters/'\n",
    "for clusterDir in tqdm(os.listdir(fakeroot)):\n",
    "    for cluster in os.listdir(fakeroot+clusterDir):\n",
    "        encodings_ = []\n",
    "        for image_file in os.listdir(fakeroot+clusterDir+'/'+cluster):\n",
    "            encodings_.append(encodings3D[root+'/'+image_file])          \n",
    "        \n",
    "        encodings_ = np.array(encodings_)\n",
    "        x = encodings_[:,0]\n",
    "        y = encodings_[:,1]\n",
    "        z = encodings_[:,2] #time\n",
    "        #Generating random color  for this cluster\n",
    "        #r, g, b = random.sample(range(0, 256), 3)\n",
    "        #a = random.uniform(0.2,1)\n",
    "        trace0 = go.Scatter(\n",
    "            x=z,\n",
    "            y=x,\n",
    "            mode='markers',\n",
    "            name = clusterDir+'/'+cluster+'0',\n",
    "            marker=dict(\n",
    "                size=12,\n",
    "                line=dict(\n",
    "                color='red',\n",
    "                width=0.5\n",
    "                ),\n",
    "                opacity=0.8\n",
    "            )\n",
    "        )\n",
    "        trace1 = go.Scatter(\n",
    "            x=z,\n",
    "            y=y,\n",
    "            mode='markers',\n",
    "            name = clusterDir+'/'+cluster+'1',\n",
    "            marker=dict(\n",
    "                size=12,\n",
    "                line=dict(\n",
    "                color='blue',\n",
    "                width=0.5\n",
    "                ),\n",
    "                opacity=0.8\n",
    "            )\n",
    "        )\n",
    "        traces.append(trace0)\n",
    "        traces.append(trace1)"
   ]
  },
  {
   "cell_type": "code",
   "execution_count": 54,
   "metadata": {},
   "outputs": [],
   "source": [
    "layout = go.Layout(\n",
    "    margin=dict(\n",
    "        l=0,\n",
    "        r=0,\n",
    "        b=0,\n",
    "        t=0\n",
    "    )\n",
    ")"
   ]
  },
  {
   "cell_type": "code",
   "execution_count": null,
   "metadata": {},
   "outputs": [],
   "source": [
    "fig = go.Figure(data=traces, layout=layout)\n",
    "py.iplot(fig, filename='8hour-imageclusters_visualized_2D')"
   ]
  },
  {
   "cell_type": "code",
   "execution_count": null,
   "metadata": {},
   "outputs": [],
   "source": [
    "fig = go.Figure(data=traces, layout=layout)\n",
    "py.iplot(fig, filename='2hour-imageclusters_visualized_2D')"
   ]
  },
  {
   "cell_type": "markdown",
   "metadata": {},
   "source": [
    "### 3D Scatter plot -> (feature1, feature2, time)"
   ]
  },
  {
   "cell_type": "code",
   "execution_count": 50,
   "metadata": {},
   "outputs": [
    {
     "name": "stderr",
     "output_type": "stream",
     "text": [
      "100%|██████████| 22/22 [00:01<00:00, 14.81it/s]\n"
     ]
    }
   ],
   "source": [
    "traces = []\n",
    "fakeroot=root+'/imagecluster/clusters/'\n",
    "for clusterDir in tqdm(os.listdir(fakeroot)):\n",
    "    for cluster in os.listdir(fakeroot+clusterDir):\n",
    "        encodings_ = []\n",
    "        for image_file in os.listdir(fakeroot+clusterDir+'/'+cluster):\n",
    "            encodings_.append(encodings3D[root+'/'+image_file])          \n",
    "        \n",
    "        encodings_ = np.array(encodings_)\n",
    "        x = encodings_[:,0]\n",
    "        y = encodings_[:,1]\n",
    "        z = encodings_[:,2] #time\n",
    "        #Generating random color  for this cluster\n",
    "        r, g, b = random.sample(range(0, 256), 3)\n",
    "        a = random.uniform(0.2,1)\n",
    "        trace = go.Scatter3d(\n",
    "            x=x,\n",
    "            y=y,\n",
    "            z=z,\n",
    "            mode='markers',\n",
    "            name = clusterDir+'/'+cluster,\n",
    "            marker=dict(\n",
    "                size=12,\n",
    "                line=dict(\n",
    "                color='rgba({}, {}, {}, {})'.format(r,g,b,a),\n",
    "                width=0.5\n",
    "                ),\n",
    "                opacity=0.8\n",
    "            )\n",
    "        )\n",
    "        traces.append(trace)"
   ]
  },
  {
   "cell_type": "code",
   "execution_count": 51,
   "metadata": {},
   "outputs": [],
   "source": [
    "layout = go.Layout( scene = dict(\n",
    "                    xaxis = dict(\n",
    "                        title='feature-1'),\n",
    "                    yaxis = dict(\n",
    "                        title='feature-2'),\n",
    "                    zaxis = dict(\n",
    "                        title='Time'),),\n",
    "    margin=dict(\n",
    "        l=0,\n",
    "        r=0,\n",
    "        b=0,\n",
    "        t=0\n",
    "    ),\n",
    "    \n",
    ")"
   ]
  },
  {
   "cell_type": "code",
   "execution_count": null,
   "metadata": {
    "scrolled": true
   },
   "outputs": [],
   "source": [
    "fig = go.Figure(data=traces, layout=layout)\n",
    "py.iplot(fig, filename='8hour-imageclusters_visualized_3D')"
   ]
  },
  {
   "cell_type": "code",
   "execution_count": 190,
   "metadata": {},
   "outputs": [],
   "source": [
    "ping_telegram('8 hours done!')"
   ]
  },
  {
   "cell_type": "code",
   "execution_count": null,
   "metadata": {},
   "outputs": [],
   "source": [
    "fig = go.Figure(data=traces, layout=layout)\n",
    "py.iplot(fig, filename='2hour-imageclusters_visualized')"
   ]
  },
  {
   "cell_type": "code",
   "execution_count": null,
   "metadata": {},
   "outputs": [],
   "source": [
    "fig = go.Figure(data=traces, layout=layout)\n",
    "py.iplot(fig, filename='imageclusters_visualized')"
   ]
  },
  {
   "cell_type": "markdown",
   "metadata": {},
   "source": [
    "## Black frames"
   ]
  },
  {
   "cell_type": "code",
   "execution_count": 9,
   "metadata": {},
   "outputs": [],
   "source": [
    "def findBlacks(vid_path):\n",
    "    times = []\n",
    "    blackFrames = []\n",
    "    vidcap = cv2.VideoCapture(vid_path)\n",
    "    n_frame = 0 # no. of frame being processed\n",
    "    fps = vidcap.get(cv2.CAP_PROP_FPS)\n",
    "    print(\"FPS of the video: {}\".format(fps))\n",
    "    success, frame = vidcap.read()\n",
    "    printed = 0\n",
    "    while success:\n",
    "        frame = cv2.cvtColor(frame, cv2.COLOR_BGR2GRAY)\n",
    "        time = int(n_frame/fps)\n",
    "        if(time%1000==0):\n",
    "            if (printed==0):\n",
    "                print('Time: '+str(time))\n",
    "                printed=1\n",
    "        else:\n",
    "            printed=0\n",
    "        time=sec2HMS(time)\n",
    "        if(np.max(frame) < 20):\n",
    "            print('Black frame found at '+time)\n",
    "            times.append(time)\n",
    "            blackFrames.append(1)\n",
    "        else:\n",
    "            blackFrames.append(0)\n",
    "        n_frame+=1\n",
    "        success, frame = vidcap.read()\n",
    "    return times,blackFrames"
   ]
  },
  {
   "cell_type": "code",
   "execution_count": 166,
   "metadata": {},
   "outputs": [],
   "source": [
    "def getStreak(array, radius):\n",
    "    newarray = []\n",
    "    for i in range(radius,len(array)-radius):\n",
    "        newarray.append(sum(array[i-radius:i+radius]))\n",
    "    return newarray"
   ]
  },
  {
   "cell_type": "code",
   "execution_count": null,
   "metadata": {},
   "outputs": [],
   "source": [
    "times,blackFrames = findBlacks('../data/2006-01-02_0000_US_00001057_V11_M2_VHS10_H4_JA.mp4')"
   ]
  },
  {
   "cell_type": "code",
   "execution_count": 301,
   "metadata": {},
   "outputs": [],
   "source": [
    "times,blackFrames = loadPickle('2006-8hour-blacks-tuple')"
   ]
  },
  {
   "cell_type": "code",
   "execution_count": 302,
   "metadata": {},
   "outputs": [
    {
     "name": "stdout",
     "output_type": "stream",
     "text": [
      "Percentage of black frames: 0.1507751330418573\n"
     ]
    }
   ],
   "source": [
    "count=0\n",
    "for x in blackFrames:\n",
    "    if(x==1):\n",
    "        count+=1\n",
    "print('Percentage of black frames: '+str(count*100/len(blackFrames)))"
   ]
  },
  {
   "cell_type": "code",
   "execution_count": 303,
   "metadata": {},
   "outputs": [],
   "source": [
    "#Binning\n",
    "localBlacks=[]\n",
    "binsize=100\n",
    "for i in range(len(blackFrames[:1-binsize])):\n",
    "    summ=0\n",
    "    for j in range(binsize):\n",
    "        summ+=blackFrames[i+j]\n",
    "    localBlacks.append(summ)\n",
    "topBlacks = sorted(range(len(localBlacks)), key=lambda i: localBlacks[i])[-100:]"
   ]
  },
  {
   "cell_type": "code",
   "execution_count": 304,
   "metadata": {},
   "outputs": [],
   "source": [
    "totalFrames=len(localBlacks)\n",
    "xaxis = [datetime.strptime(sec2HMS(secs),\"%H:%M:%S\") for secs in range(totalFrames)]"
   ]
  },
  {
   "cell_type": "code",
   "execution_count": null,
   "metadata": {},
   "outputs": [],
   "source": [
    "HMS2sec('00:59:36')*30"
   ]
  },
  {
   "cell_type": "code",
   "execution_count": 351,
   "metadata": {},
   "outputs": [
    {
     "data": {
      "text/plain": [
       "'00:50:00'"
      ]
     },
     "execution_count": 351,
     "metadata": {},
     "output_type": "execute_result"
    }
   ],
   "source": [
    "sec2HMS((80000+7500+2000+500)/30)"
   ]
  },
  {
   "cell_type": "code",
   "execution_count": 314,
   "metadata": {},
   "outputs": [],
   "source": [
    "blackStreak = getStreak(blackFrames,60)"
   ]
  },
  {
   "cell_type": "code",
   "execution_count": 315,
   "metadata": {},
   "outputs": [
    {
     "data": {
      "image/png": "[encoded data removed]",
      "text/plain": [
       "<Figure size 432x288 with 1 Axes>"
      ]
     },
     "metadata": {
      "needs_background": "light"
     },
     "output_type": "display_data"
    }
   ],
   "source": [
    "plt.plot(blackStreak)\n",
    "plt.show()"
   ]
  },
  {
   "cell_type": "code",
   "execution_count": 145,
   "metadata": {},
   "outputs": [],
   "source": [
    "import collections\n",
    "from collections import Counter\n",
    "timedict = (Counter(times))"
   ]
  },
  {
   "cell_type": "code",
   "execution_count": 185,
   "metadata": {},
   "outputs": [],
   "source": [
    "x = []\n",
    "y = []\n",
    "for HMS in timedict:\n",
    "    x.append(datetime.strptime(HMS,\"%H:%M:%S\"))\n",
    "    y.append(timedict[HMS])"
   ]
  },
  {
   "cell_type": "code",
   "execution_count": 189,
   "metadata": {},
   "outputs": [
    {
     "data": {
      "image/png": "[encoded data removed]",
      "text/plain": [
       "<Figure size 1152x648 with 1 Axes>"
      ]
     },
     "metadata": {
      "needs_background": "light"
     },
     "output_type": "display_data"
    }
   ],
   "source": [
    "plt.plot(x,y)\n",
    "plt.rcParams[\"figure.figsize\"] = [16,9]\n",
    "plt.xlabel('Time')\n",
    "plt.ylabel('no. of black frames')\n",
    "plt.show()"
   ]
  },
  {
   "cell_type": "code",
   "execution_count": null,
   "metadata": {},
   "outputs": [],
   "source": [
    " (sorted(timedict.items(), key = \n",
    "             lambda kv:(kv[1], kv[0])))  "
   ]
  },
  {
   "cell_type": "code",
   "execution_count": null,
   "metadata": {},
   "outputs": [],
   "source": [
    "for x in range(len(timedict.keys())):\n",
    "    if timedict"
   ]
  },
  {
   "cell_type": "markdown",
   "metadata": {},
   "source": [
    "# Plain face inference"
   ]
  },
  {
   "cell_type": "code",
   "execution_count": 180,
   "metadata": {},
   "outputs": [],
   "source": [
    "def classifyFaces(folder, minimum_frequency=0):\n",
    "    \"\"\"Returns a list of 2d tuples. Each tuple contains\n",
    "       the time of appearance of the face and its class.\n",
    "       onehot - dict mapping \"readable\" class names to their\n",
    "       number value\"\"\"\n",
    "    faces = []\n",
    "    classes = 0\n",
    "    onehot = {}\n",
    "    for cluster_with_size in os.listdir(folder):\n",
    "        size = int(cluster_with_size.split('_')[2])\n",
    "        if(size < minimum_frequency):\n",
    "            continue\n",
    "        #print('size: '+str(size))\n",
    "        for cluster_n in os.listdir(folder+'/'+cluster_with_size):\n",
    "            n = int(cluster_n.split('_')[1])\n",
    "            #print(n)\n",
    "            face_class = str(size)+'_'+str(n)\n",
    "            onehot[face_class] = classes\n",
    "            classes+=1\n",
    "            for face in os.listdir(folder+'/'+cluster_with_size+'/'+cluster_n):\n",
    "                face_time = face[1:9]\n",
    "                faces.append((face_time,face_class))\n",
    "    return faces, onehot"
   ]
  },
  {
   "cell_type": "code",
   "execution_count": 181,
   "metadata": {},
   "outputs": [],
   "source": [
    "folder = '2006-8hour-imagecluster/imagecluster/clusters'\n",
    "faces, onehot = classifyFaces(folder)\n",
    "onehot['-1'] = -1\n",
    "faces = sorted(faces, key = lambda x: HMS2sec(x[0]))\n",
    "faces_onehotted = [(x[0],onehot[x[1]]) for x in faces]"
   ]
  },
  {
   "cell_type": "code",
   "execution_count": 182,
   "metadata": {},
   "outputs": [
    {
     "data": {
      "text/plain": [
       "[('01:02:35', '6_5'),\n",
       " ('01:02:37', '9_3'),\n",
       " ('01:02:41', '6_5'),\n",
       " ('01:02:45', '9_3'),\n",
       " ('01:02:47', '6_5'),\n",
       " ('01:02:49', '9_3'),\n",
       " ('01:02:51', '6_5'),\n",
       " ('01:04:05', '9_3'),\n",
       " ('01:04:07', '9_3'),\n",
       " ('01:04:09', '9_3')]"
      ]
     },
     "execution_count": 182,
     "metadata": {},
     "output_type": "execute_result"
    }
   ],
   "source": [
    "faces[10:20]"
   ]
  },
  {
   "cell_type": "code",
   "execution_count": 183,
   "metadata": {},
   "outputs": [
    {
     "data": {
      "text/plain": [
       "[('01:02:35', 179),\n",
       " ('01:02:37', 196),\n",
       " ('01:02:41', 179),\n",
       " ('01:02:45', 196),\n",
       " ('01:02:47', 179),\n",
       " ('01:02:49', 196),\n",
       " ('01:02:51', 179),\n",
       " ('01:04:05', 196),\n",
       " ('01:04:07', 196),\n",
       " ('01:04:09', 196)]"
      ]
     },
     "execution_count": 183,
     "metadata": {},
     "output_type": "execute_result"
    }
   ],
   "source": [
    "faces_onehotted[10:20]"
   ]
  },
  {
   "cell_type": "markdown",
   "metadata": {},
   "source": [
    "## Face vs no-face"
   ]
  },
  {
   "cell_type": "code",
   "execution_count": 144,
   "metadata": {},
   "outputs": [],
   "source": [
    "def readFaces(folder):\n",
    "    faces = []\n",
    "    for img in sorted(os.listdir(folder)):\n",
    "        time = img[1:9]\n",
    "        faces.append((time,1))\n",
    "    return faces"
   ]
  },
  {
   "cell_type": "code",
   "execution_count": 145,
   "metadata": {},
   "outputs": [],
   "source": [
    "faces = readFaces('2006-8hour-OLDimagecluster')"
   ]
  },
  {
   "cell_type": "code",
   "execution_count": 147,
   "metadata": {},
   "outputs": [
    {
     "data": {
      "text/plain": [
       "[('00:00:40', 1),\n",
       " ('00:00:42', 1),\n",
       " ('00:00:44', 1),\n",
       " ('00:01:18', 1),\n",
       " ('00:01:20', 1),\n",
       " ('00:01:22', 1),\n",
       " ('00:01:24', 1),\n",
       " ('00:01:26', 1),\n",
       " ('00:01:28', 1),\n",
       " ('00:01:30', 1)]"
      ]
     },
     "execution_count": 147,
     "metadata": {},
     "output_type": "execute_result"
    }
   ],
   "source": [
    "faces[10:20]"
   ]
  },
  {
   "cell_type": "code",
   "execution_count": 184,
   "metadata": {},
   "outputs": [],
   "source": [
    "def addEmptyFaces(faces, skip_gap):\n",
    "    \"\"\"Modifies faces dict to include timestamps where no faces are present\n",
    "       '-1' is the value assigned to these.\n",
    "       :skip_gap: 'interval' parameter given in file2encoding() function (in seconds)\"\"\"\n",
    "    min_time = HMS2sec(faces[0][0])\n",
    "    max_time = HMS2sec(faces[-1][0])\n",
    "    curr_time = min_time\n",
    "    faces_empty = []\n",
    "    counter = 0\n",
    "    \n",
    "    while (curr_time < max_time):\n",
    "        if(HMS2sec(faces[counter][0]) > curr_time): #No face found at this time\n",
    "            faces_empty.append((sec2HMS(curr_time), '-1'))\n",
    "        else:                              #Face was already marked at this time\n",
    "            faces_empty.append(faces[counter])\n",
    "            counter+=1\n",
    "        curr_time += skip_gap\n",
    "    return faces_empty"
   ]
  },
  {
   "cell_type": "code",
   "execution_count": 185,
   "metadata": {},
   "outputs": [],
   "source": [
    "faces_empty = addEmptyFaces(faces, 2)\n",
    "#faces_empty_oh = [(x[0],onehot[x[1]]) for x in faces_empty] #onehotted"
   ]
  },
  {
   "cell_type": "code",
   "execution_count": 186,
   "metadata": {},
   "outputs": [
    {
     "data": {
      "text/plain": [
       "[('01:02:35', '6_5'),\n",
       " ('01:02:37', '9_3'),\n",
       " ('01:02:39', '-1'),\n",
       " ('01:02:41', '6_5'),\n",
       " ('01:02:43', '-1'),\n",
       " ('01:02:45', '9_3'),\n",
       " ('01:02:47', '6_5'),\n",
       " ('01:02:49', '9_3'),\n",
       " ('01:02:51', '6_5'),\n",
       " ('01:02:53', '-1')]"
      ]
     },
     "execution_count": 186,
     "metadata": {},
     "output_type": "execute_result"
    }
   ],
   "source": [
    "faces_empty[10:20]"
   ]
  },
  {
   "cell_type": "code",
   "execution_count": 151,
   "metadata": {},
   "outputs": [],
   "source": [
    "isFace = [int(x[1]!='-1') for x in faces_empty]\n",
    "isNotFace = [1-x for x in isFace]"
   ]
  },
  {
   "cell_type": "code",
   "execution_count": 175,
   "metadata": {},
   "outputs": [
    {
     "data": {
      "text/html": [
       "<iframe id=\"igraph\" scrolling=\"no\" style=\"border:none;\" seamless=\"seamless\" src=\"https://plot.ly/~eonr/20.embed\" height=\"525px\" width=\"100%\"></iframe>"
      ],
      "text/plain": [
       "<chart_studio.tools.PlotlyDisplay object>"
      ]
     },
     "execution_count": 175,
     "metadata": {},
     "output_type": "execute_result"
    }
   ],
   "source": [
    "radius = 30\n",
    "streak = getStreak(isNotFace, radius)\n",
    "min_x = HMS2sec(faces_empty[0][0])\n",
    "max_x = HMS2sec(faces_empty[-1][0])\n",
    "xaxis = np.arange(min_x+radius, max_x-radius+1, 2)\n",
    "#trace1 = go.Scatter(x = xaxis, y = isFace)\n",
    "trace2 = go.Scatter(x = xaxis, y = streak, mode='lines',\n",
    "    line = dict(\n",
    "        color = ('rgb(205, 12, 24)'),\n",
    "        width = 4))\n",
    "py.iplot([trace2], filename='Face or not')\n",
    "# plt.step(xaxis, isFace)\n",
    "# plt.show()\n",
    "# plt.close()"
   ]
  },
  {
   "cell_type": "code",
   "execution_count": 233,
   "metadata": {},
   "outputs": [
    {
     "data": {
      "text/plain": [
       "'03:57:02'"
      ]
     },
     "execution_count": 233,
     "metadata": {},
     "output_type": "execute_result"
    }
   ],
   "source": [
    "sec2HMS(14222)"
   ]
  },
  {
   "cell_type": "markdown",
   "metadata": {},
   "source": [
    "## Most common face in the last x seconds"
   ]
  },
  {
   "cell_type": "code",
   "execution_count": 295,
   "metadata": {},
   "outputs": [],
   "source": [
    "def faceTrends(faces, interval, overlapping = False, join_consecutive = False):\n",
    "    #TODO- make empty entries for each second or two.\n",
    "    #      Don't count these for face_count\n",
    "    import operator\n",
    "    trending_face = faces[0][1] #First face's class\n",
    "    trendy_faces = {faces[0][0]:trending_face} \n",
    "    \n",
    "    if overlapping:\n",
    "        skip=1\n",
    "    else:\n",
    "        skip=interval\n",
    "        \n",
    "    for x in range(0, len(faces)-interval, skip):\n",
    "        face_count = {} #Keeps count of no. of instances of each face_class\n",
    "        \n",
    "        for face in faces[x:x+interval]:\n",
    "            curr_time = face[0]\n",
    "            curr_face = face[1]\n",
    "            if curr_face == '-1':\n",
    "                continue\n",
    "                \n",
    "            if curr_face in face_count:\n",
    "                face_count[curr_face] += 1\n",
    "            else:\n",
    "                face_count[curr_face] = 1\n",
    "                \n",
    "        if face_count: # if face_count is not empty\n",
    "            max_face_in_interval = max(face_count.items(), key=operator.itemgetter(1))[0]\n",
    "        else:\n",
    "            max_face_in_interval = '-1'\n",
    "        if join_consecutive:\n",
    "            if(max_face_in_interval!=trending_face):\n",
    "                trending_face = max_face_in_interval\n",
    "                trendy_faces[curr_time] = trending_face\n",
    "        else:\n",
    "            trending_face = max_face_in_interval\n",
    "            trendy_faces[curr_time] = trending_face\n",
    "\n",
    "#             if (face_count[curr_face]>face_count[trending_face]):\n",
    "#                 trending_face = curr_face\n",
    "#                 curr_time = face[0]\n",
    "#                 trendy_faces[curr_time] = curr_face\n",
    "    return trendy_faces          "
   ]
  },
  {
   "cell_type": "code",
   "execution_count": null,
   "metadata": {},
   "outputs": [],
   "source": [
    "def faceTrendsDuration(faces, interval, overlapping = False, join_consecutive = False):\n",
    "    #TODO- make empty entries for each second or two.\n",
    "    #      Don't count these for face_count\n",
    "    trending_face = faces[0][1] #First face's class\n",
    "    trendy_faces = {faces[0][0]:trending_face} \n",
    "    \n",
    "    if overlapping:\n",
    "        skip=1\n",
    "    else:\n",
    "        skip=interval\n",
    "        \n",
    "    for x in range(0, len(faces)-interval, skip):\n",
    "        face_count = {} #Keeps count of no. of instances of each face_class\n",
    "        \n",
    "        for face in faces[x:x+interval]:\n",
    "            curr_time = face[0]\n",
    "            curr_face = face[1]\n",
    "            if curr_face == '-1':\n",
    "                continue\n",
    "                \n",
    "            if curr_face in face_count:\n",
    "                face_count[curr_face] = (face_count[curr_face][0],curr_time)\n",
    "            else:\n",
    "                face_count[curr_face] = (curr_time, curr_time)\n",
    "                \n",
    "        if face_count: # if face_count is not empty\n",
    "            max_face_in_interval = sorted(list(face_count.keys()), key =(lambda key: HMS2sec(face_count[key][1]) - HMS2sec(face_count[key][0])),reverse=True)[:5]\n",
    "        else:\n",
    "            max_face_in_interval = '-1'\n",
    "        if join_consecutive:\n",
    "            if(max_face_in_interval!=trending_face):\n",
    "                trending_face = max_face_in_interval\n",
    "                trendy_faces[curr_time] = trending_face\n",
    "        else:\n",
    "            trending_face = max_face_in_interval\n",
    "            trendy_faces[curr_time] = trending_face\n",
    "\n",
    "#             if (face_count[curr_face]>face_count[trending_face]):\n",
    "#                 trending_face = curr_face\n",
    "#                 curr_time = face[0]\n",
    "#                 trendy_faces[curr_time] = curr_face\n",
    "    return trendy_faces          "
   ]
  },
  {
   "cell_type": "code",
   "execution_count": 296,
   "metadata": {},
   "outputs": [
    {
     "data": {
      "text/plain": [
       "[4, 3, 2, 1]"
      ]
     },
     "execution_count": 296,
     "metadata": {},
     "output_type": "execute_result"
    }
   ],
   "source": [
    "sorted(a,reverse=True)"
   ]
  },
  {
   "cell_type": "code",
   "execution_count": 299,
   "metadata": {
    "scrolled": true
   },
   "outputs": [],
   "source": [
    "trends = faceTrends(faces_empty,100,False,False)"
   ]
  },
  {
   "cell_type": "code",
   "execution_count": 300,
   "metadata": {
    "scrolled": false
   },
   "outputs": [
    {
     "name": "stdout",
     "output_type": "stream",
     "text": [
      "('01:02:15', '44_0')\n",
      "('01:05:33', ['6_5', '9_3', '7_8', '44_0', '2_75'])\n",
      "('01:08:53', ['10_0', '32_0', '44_0', '2_31', '7_8'])\n",
      "('01:12:13', ['6_10', '6_8', '5_2', '2_67', '2_80'])\n",
      "('01:15:33', ['10_0', '32_0', '5_4', '9_1', '2_10'])\n",
      "('01:18:46', ['10_3', '8_2', '7_1', '5_0', '5_13'])\n",
      "('01:22:12', ['2_64', '2_59', '3_9', '5_13', '4_10'])\n",
      "('01:25:31', ['5_9', '5_14', '4_20', '2_85', '3_28'])\n",
      "('01:28:53', ['6_9', '4_13', '2_24', '7_4', '3_34'])\n",
      "('01:32:13', ['44_0', '2_91', '3_21', '14_0', '7_6'])\n",
      "('01:35:33', ['32_0', '10_2', '9_1', '5_4', '44_0'])\n",
      "('01:38:53', ['14_0', '44_0', '14_2', '14_1', '6_3'])\n",
      "('01:42:12', ['44_0', '40_0', '4_12', '19_0', '18_0'])\n",
      "('01:45:33', ['6_4', '9_2', '3_21'])\n",
      "('01:48:53', ['5_6', '13_0', '43_0', '5_1', '4_3'])\n",
      "('01:52:13', ['14_0', '43_0', '8_0', '13_0', '44_0'])\n",
      "('01:55:33', ['3_5', '3_3', '2_91', '3_21', '3_0'])\n",
      "('01:58:53', ['4_16', '13_1', '44_0', '4_17', '9_2'])\n",
      "('02:02:13', ['12_0', '29_0', '3_30', '3_22', '2_36'])\n",
      "('02:05:33', ['29_0', '16_0', '18_0', '19_0', '6_0'])\n",
      "('02:08:53', ['20_0', '7_5', '4_1', '4_14', '6_11'])\n",
      "('02:12:13', ['10_4', '4_2', '5_15', '4_5', '7_5'])\n",
      "('02:15:33', ['21_0', '5_12', '2_53', '2_4', '5_8'])\n",
      "('02:18:52', ['21_0', '3_33', '3_32', '2_46', '19_0'])\n",
      "('02:22:13', ['44_0', '2_21', '3_13', '2_22', '10_1'])\n",
      "('02:25:33', ['44_0', '5_9', '13_1', '2_42', '5_10'])\n",
      "('02:28:53', ['10_0', '7_3', '4_7', '2_35', '3_16'])\n",
      "('02:32:13', ['4_11', '2_72', '2_25', '2_90', '2_89'])\n",
      "('02:35:33', ['6_1', '6_7', '2_17', '7_6', '20_0'])\n",
      "('02:38:53', ['2_7', '5_5', '2_6', '3_1', '3_2'])\n",
      "('02:42:13', ['29_0'])\n",
      "('02:45:29', ['2_15', '4_6', '3_0', '2_36', '2_25'])\n",
      "('02:48:46', ['2_5', '16_0', '7_2', '14_3', '9_0'])\n",
      "('02:52:13', ['16_0', '7_2', '2_26', '7_7', '14_3'])\n",
      "('02:55:33', ['4_19', '3_11', '2_92', '4_15', '2_79'])\n",
      "('02:58:53', ['3_19', '6_2', '3_20', '10_1', '2_40'])\n",
      "('03:02:13', ['2_62', '13_2', '5_16', '2_86', '2_13'])\n"
     ]
    }
   ],
   "source": [
    "for x in trends.items():\n",
    "    print(x)"
   ]
  },
  {
   "cell_type": "code",
   "execution_count": null,
   "metadata": {},
   "outputs": [],
   "source": [
    "#TODO - instead of face count - try face distribution in an interval ^"
   ]
  },
  {
   "cell_type": "code",
   "execution_count": null,
   "metadata": {},
   "outputs": [],
   "source": [
    "#TODO - black frames inference\n",
    "#TODO - check contiguous shows\n",
    "#TODO - Slides"
   ]
  },
  {
   "cell_type": "markdown",
   "metadata": {},
   "source": [
    "## Better face clustering"
   ]
  },
  {
   "cell_type": "code",
   "execution_count": 247,
   "metadata": {},
   "outputs": [],
   "source": [
    "from pyfacy import face_clust"
   ]
  },
  {
   "cell_type": "code",
   "execution_count": null,
   "metadata": {},
   "outputs": [],
   "source": [
    "mdl = face_clust.Face_Clust_Algorithm('./2006-8hour-OLDimagecluster/')\n",
    "mdl.load_faces()"
   ]
  },
  {
   "cell_type": "code",
   "execution_count": 253,
   "metadata": {},
   "outputs": [],
   "source": [
    "#!mkdir pyfacy_all\n",
    "mdl.save_faces('./pyfacy_all')"
   ]
  },
  {
   "cell_type": "code",
   "execution_count": null,
   "metadata": {},
   "outputs": [],
   "source": []
  }
 ],
 "metadata": {
  "kernelspec": {
   "display_name": "Python 3",
   "language": "python",
   "name": "python3"
  },
  "language_info": {
   "codemirror_mode": {
    "name": "ipython",
    "version": 3
   },
   "file_extension": ".py",
   "mimetype": "text/x-python",
   "name": "python",
   "nbconvert_exporter": "python",
   "pygments_lexer": "ipython3",
   "version": "3.7.3"
  },
  "widgets": {
   "application/vnd.jupyter.widget-state+json": {
    "state": {},
    "version_major": 2,
    "version_minor": 0
   }
  }
 },
 "nbformat": 4,
 "nbformat_minor": 2
}
